{
  "nbformat": 4,
  "nbformat_minor": 0,
  "metadata": {
    "colab": {
      "name": "Data Exploration",
      "provenance": [],
      "collapsed_sections": []
    },
    "kernelspec": {
      "name": "python3",
      "display_name": "Python 3"
    },
    "language_info": {
      "name": "python"
    }
  },
  "cells": [
    {
      "cell_type": "code",
      "execution_count": null,
      "metadata": {
        "id": "8c9I4LnOnZ08"
      },
      "outputs": [],
      "source": [
        "import pandas as pd\n",
        "import seaborn as sb\n",
        "import altair as alt\n",
        "import numpy as np\n",
        "import json\n",
        "\n",
        "# INTERACTIVE VISUALIZATION\n",
        "!pip install chart_studio\n",
        "!pip install --upgrade plotly\n",
        "import chart_studio.plotly as py \n",
        "import plotly.graph_objs as go\n",
        "import plotly.express as px\n",
        "from plotly.offline import download_plotlyjs, init_notebook_mode, plot, iplot\n",
        "init_notebook_mode(connected=True)\n",
        "\n",
        "!pip install jupyter-dash\n",
        "from jupyter_dash import JupyterDash\n",
        "import dash_core_components as dcc\n",
        "import dash_html_components as html\n",
        "from dash.dependencies import Input, Output "
      ]
    },
    {
      "cell_type": "markdown",
      "source": [
        "# Happiness Report w/ Real Numbers"
      ],
      "metadata": {
        "id": "NiKHHhFMYfob"
      }
    },
    {
      "cell_type": "code",
      "source": [
        "df_real = pd.read_csv(\"happiness_real_data.csv\").drop(\"Unnamed: 0\", axis=1)\n",
        "df_real.describe()"
      ],
      "metadata": {
        "colab": {
          "base_uri": "https://localhost:8080/",
          "height": 300
        },
        "id": "ADuFLyaVYlpH",
        "outputId": "e63d3383-d458-4b07-e4f5-ed34f2a69c4f"
      },
      "execution_count": null,
      "outputs": [
        {
          "output_type": "execute_result",
          "data": {
            "text/plain": [
              "       Overall rank       Score  GDP (Billions)  Social Score  \\\n",
              "count    134.000000  134.000000      134.000000    134.000000   \n",
              "mean      76.134328    5.469343      671.337985     69.768731   \n",
              "std       45.963174    1.138967     2529.571149     15.335755   \n",
              "min        1.000000    2.853000        2.478000     31.060000   \n",
              "25%       35.250000    4.566000       19.624750     57.017500   \n",
              "50%       74.500000    5.449500       66.247000     71.060000   \n",
              "75%      115.750000    6.245500      383.964000     83.145000   \n",
              "max      156.000000    7.769000    22939.580000     92.730000   \n",
              "\n",
              "       Basic Human Needs  Foundation of Wellbeing  Opportunity  \\\n",
              "count         134.000000               134.000000   134.000000   \n",
              "mean           77.412910                71.924104    59.968955   \n",
              "std            18.118322                14.130400    16.010124   \n",
              "min            21.310000                36.690000    20.730000   \n",
              "25%            66.210000                61.400000    48.990000   \n",
              "50%            83.380000                72.570000    58.340000   \n",
              "75%            90.895000                83.537500    74.007500   \n",
              "max            98.070000                93.390000    88.660000   \n",
              "\n",
              "       Life Expectancy    population         lat         lng  GDP per Capita  \n",
              "count       134.000000  1.340000e+02  134.000000  134.000000    1.340000e+02  \n",
              "mean         73.580522  5.371472e+07   22.024900   19.308930    1.726267e-05  \n",
              "std           7.671875  1.737021e+08   25.457049   54.767562    2.416936e-05  \n",
              "min          54.022000  3.664250e+05  -41.000000 -102.000000    2.685274e-07  \n",
              "25%          68.024500  5.165454e+06    7.000000   -2.000000    1.983754e-06  \n",
              "50%          75.361000  1.185470e+07   24.500000   22.000000    5.916741e-06  \n",
              "75%          79.046500  3.799163e+07   42.375000   45.000000    2.230575e-05  \n",
              "max          84.910000  1.402112e+09   65.000000  174.000000    1.324914e-04  "
            ],
            "text/html": [
              "\n",
              "  <div id=\"df-b3f8b617-1037-4952-a7af-78a8b0811890\">\n",
              "    <div class=\"colab-df-container\">\n",
              "      <div>\n",
              "<style scoped>\n",
              "    .dataframe tbody tr th:only-of-type {\n",
              "        vertical-align: middle;\n",
              "    }\n",
              "\n",
              "    .dataframe tbody tr th {\n",
              "        vertical-align: top;\n",
              "    }\n",
              "\n",
              "    .dataframe thead th {\n",
              "        text-align: right;\n",
              "    }\n",
              "</style>\n",
              "<table border=\"1\" class=\"dataframe\">\n",
              "  <thead>\n",
              "    <tr style=\"text-align: right;\">\n",
              "      <th></th>\n",
              "      <th>Overall rank</th>\n",
              "      <th>Score</th>\n",
              "      <th>GDP (Billions)</th>\n",
              "      <th>Social Score</th>\n",
              "      <th>Basic Human Needs</th>\n",
              "      <th>Foundation of Wellbeing</th>\n",
              "      <th>Opportunity</th>\n",
              "      <th>Life Expectancy</th>\n",
              "      <th>population</th>\n",
              "      <th>lat</th>\n",
              "      <th>lng</th>\n",
              "      <th>GDP per Capita</th>\n",
              "    </tr>\n",
              "  </thead>\n",
              "  <tbody>\n",
              "    <tr>\n",
              "      <th>count</th>\n",
              "      <td>134.000000</td>\n",
              "      <td>134.000000</td>\n",
              "      <td>134.000000</td>\n",
              "      <td>134.000000</td>\n",
              "      <td>134.000000</td>\n",
              "      <td>134.000000</td>\n",
              "      <td>134.000000</td>\n",
              "      <td>134.000000</td>\n",
              "      <td>1.340000e+02</td>\n",
              "      <td>134.000000</td>\n",
              "      <td>134.000000</td>\n",
              "      <td>1.340000e+02</td>\n",
              "    </tr>\n",
              "    <tr>\n",
              "      <th>mean</th>\n",
              "      <td>76.134328</td>\n",
              "      <td>5.469343</td>\n",
              "      <td>671.337985</td>\n",
              "      <td>69.768731</td>\n",
              "      <td>77.412910</td>\n",
              "      <td>71.924104</td>\n",
              "      <td>59.968955</td>\n",
              "      <td>73.580522</td>\n",
              "      <td>5.371472e+07</td>\n",
              "      <td>22.024900</td>\n",
              "      <td>19.308930</td>\n",
              "      <td>1.726267e-05</td>\n",
              "    </tr>\n",
              "    <tr>\n",
              "      <th>std</th>\n",
              "      <td>45.963174</td>\n",
              "      <td>1.138967</td>\n",
              "      <td>2529.571149</td>\n",
              "      <td>15.335755</td>\n",
              "      <td>18.118322</td>\n",
              "      <td>14.130400</td>\n",
              "      <td>16.010124</td>\n",
              "      <td>7.671875</td>\n",
              "      <td>1.737021e+08</td>\n",
              "      <td>25.457049</td>\n",
              "      <td>54.767562</td>\n",
              "      <td>2.416936e-05</td>\n",
              "    </tr>\n",
              "    <tr>\n",
              "      <th>min</th>\n",
              "      <td>1.000000</td>\n",
              "      <td>2.853000</td>\n",
              "      <td>2.478000</td>\n",
              "      <td>31.060000</td>\n",
              "      <td>21.310000</td>\n",
              "      <td>36.690000</td>\n",
              "      <td>20.730000</td>\n",
              "      <td>54.022000</td>\n",
              "      <td>3.664250e+05</td>\n",
              "      <td>-41.000000</td>\n",
              "      <td>-102.000000</td>\n",
              "      <td>2.685274e-07</td>\n",
              "    </tr>\n",
              "    <tr>\n",
              "      <th>25%</th>\n",
              "      <td>35.250000</td>\n",
              "      <td>4.566000</td>\n",
              "      <td>19.624750</td>\n",
              "      <td>57.017500</td>\n",
              "      <td>66.210000</td>\n",
              "      <td>61.400000</td>\n",
              "      <td>48.990000</td>\n",
              "      <td>68.024500</td>\n",
              "      <td>5.165454e+06</td>\n",
              "      <td>7.000000</td>\n",
              "      <td>-2.000000</td>\n",
              "      <td>1.983754e-06</td>\n",
              "    </tr>\n",
              "    <tr>\n",
              "      <th>50%</th>\n",
              "      <td>74.500000</td>\n",
              "      <td>5.449500</td>\n",
              "      <td>66.247000</td>\n",
              "      <td>71.060000</td>\n",
              "      <td>83.380000</td>\n",
              "      <td>72.570000</td>\n",
              "      <td>58.340000</td>\n",
              "      <td>75.361000</td>\n",
              "      <td>1.185470e+07</td>\n",
              "      <td>24.500000</td>\n",
              "      <td>22.000000</td>\n",
              "      <td>5.916741e-06</td>\n",
              "    </tr>\n",
              "    <tr>\n",
              "      <th>75%</th>\n",
              "      <td>115.750000</td>\n",
              "      <td>6.245500</td>\n",
              "      <td>383.964000</td>\n",
              "      <td>83.145000</td>\n",
              "      <td>90.895000</td>\n",
              "      <td>83.537500</td>\n",
              "      <td>74.007500</td>\n",
              "      <td>79.046500</td>\n",
              "      <td>3.799163e+07</td>\n",
              "      <td>42.375000</td>\n",
              "      <td>45.000000</td>\n",
              "      <td>2.230575e-05</td>\n",
              "    </tr>\n",
              "    <tr>\n",
              "      <th>max</th>\n",
              "      <td>156.000000</td>\n",
              "      <td>7.769000</td>\n",
              "      <td>22939.580000</td>\n",
              "      <td>92.730000</td>\n",
              "      <td>98.070000</td>\n",
              "      <td>93.390000</td>\n",
              "      <td>88.660000</td>\n",
              "      <td>84.910000</td>\n",
              "      <td>1.402112e+09</td>\n",
              "      <td>65.000000</td>\n",
              "      <td>174.000000</td>\n",
              "      <td>1.324914e-04</td>\n",
              "    </tr>\n",
              "  </tbody>\n",
              "</table>\n",
              "</div>\n",
              "      <button class=\"colab-df-convert\" onclick=\"convertToInteractive('df-b3f8b617-1037-4952-a7af-78a8b0811890')\"\n",
              "              title=\"Convert this dataframe to an interactive table.\"\n",
              "              style=\"display:none;\">\n",
              "        \n",
              "  <svg xmlns=\"http://www.w3.org/2000/svg\" height=\"24px\"viewBox=\"0 0 24 24\"\n",
              "       width=\"24px\">\n",
              "    <path d=\"M0 0h24v24H0V0z\" fill=\"none\"/>\n",
              "    <path d=\"M18.56 5.44l.94 2.06.94-2.06 2.06-.94-2.06-.94-.94-2.06-.94 2.06-2.06.94zm-11 1L8.5 8.5l.94-2.06 2.06-.94-2.06-.94L8.5 2.5l-.94 2.06-2.06.94zm10 10l.94 2.06.94-2.06 2.06-.94-2.06-.94-.94-2.06-.94 2.06-2.06.94z\"/><path d=\"M17.41 7.96l-1.37-1.37c-.4-.4-.92-.59-1.43-.59-.52 0-1.04.2-1.43.59L10.3 9.45l-7.72 7.72c-.78.78-.78 2.05 0 2.83L4 21.41c.39.39.9.59 1.41.59.51 0 1.02-.2 1.41-.59l7.78-7.78 2.81-2.81c.8-.78.8-2.07 0-2.86zM5.41 20L4 18.59l7.72-7.72 1.47 1.35L5.41 20z\"/>\n",
              "  </svg>\n",
              "      </button>\n",
              "      \n",
              "  <style>\n",
              "    .colab-df-container {\n",
              "      display:flex;\n",
              "      flex-wrap:wrap;\n",
              "      gap: 12px;\n",
              "    }\n",
              "\n",
              "    .colab-df-convert {\n",
              "      background-color: #E8F0FE;\n",
              "      border: none;\n",
              "      border-radius: 50%;\n",
              "      cursor: pointer;\n",
              "      display: none;\n",
              "      fill: #1967D2;\n",
              "      height: 32px;\n",
              "      padding: 0 0 0 0;\n",
              "      width: 32px;\n",
              "    }\n",
              "\n",
              "    .colab-df-convert:hover {\n",
              "      background-color: #E2EBFA;\n",
              "      box-shadow: 0px 1px 2px rgba(60, 64, 67, 0.3), 0px 1px 3px 1px rgba(60, 64, 67, 0.15);\n",
              "      fill: #174EA6;\n",
              "    }\n",
              "\n",
              "    [theme=dark] .colab-df-convert {\n",
              "      background-color: #3B4455;\n",
              "      fill: #D2E3FC;\n",
              "    }\n",
              "\n",
              "    [theme=dark] .colab-df-convert:hover {\n",
              "      background-color: #434B5C;\n",
              "      box-shadow: 0px 1px 3px 1px rgba(0, 0, 0, 0.15);\n",
              "      filter: drop-shadow(0px 1px 2px rgba(0, 0, 0, 0.3));\n",
              "      fill: #FFFFFF;\n",
              "    }\n",
              "  </style>\n",
              "\n",
              "      <script>\n",
              "        const buttonEl =\n",
              "          document.querySelector('#df-b3f8b617-1037-4952-a7af-78a8b0811890 button.colab-df-convert');\n",
              "        buttonEl.style.display =\n",
              "          google.colab.kernel.accessAllowed ? 'block' : 'none';\n",
              "\n",
              "        async function convertToInteractive(key) {\n",
              "          const element = document.querySelector('#df-b3f8b617-1037-4952-a7af-78a8b0811890');\n",
              "          const dataTable =\n",
              "            await google.colab.kernel.invokeFunction('convertToInteractive',\n",
              "                                                     [key], {});\n",
              "          if (!dataTable) return;\n",
              "\n",
              "          const docLinkHtml = 'Like what you see? Visit the ' +\n",
              "            '<a target=\"_blank\" href=https://colab.research.google.com/notebooks/data_table.ipynb>data table notebook</a>'\n",
              "            + ' to learn more about interactive tables.';\n",
              "          element.innerHTML = '';\n",
              "          dataTable['output_type'] = 'display_data';\n",
              "          await google.colab.output.renderOutput(dataTable, element);\n",
              "          const docLink = document.createElement('div');\n",
              "          docLink.innerHTML = docLinkHtml;\n",
              "          element.appendChild(docLink);\n",
              "        }\n",
              "      </script>\n",
              "    </div>\n",
              "  </div>\n",
              "  "
            ]
          },
          "metadata": {},
          "execution_count": 165
        }
      ]
    },
    {
      "cell_type": "code",
      "source": [
        "df_real.head(1)"
      ],
      "metadata": {
        "colab": {
          "base_uri": "https://localhost:8080/",
          "height": 159
        },
        "id": "OPrO0xvocRpo",
        "outputId": "8ecdebd9-64d5-4c56-ba60-c28968efe512"
      },
      "execution_count": null,
      "outputs": [
        {
          "output_type": "execute_result",
          "data": {
            "text/plain": [
              "   Overall rank  Score  Country  GDP (Billions)  Social Score  \\\n",
              "0             1  7.769  Finland         296.016         91.89   \n",
              "\n",
              "   Basic Human Needs  Foundation of Wellbeing  Opportunity  Life Expectancy  \\\n",
              "0              96.22                    91.29        88.15           82.312   \n",
              "\n",
              "                               language  population   lat   lng  independent  \\\n",
              "0  {'fin': 'Finnish', 'swe': 'Swedish'}     5530719  64.0  26.0         True   \n",
              "\n",
              "   landlocked cca3  GDP per Capita          Region  \n",
              "0       False  FIN        0.000054  Western Europe  "
            ],
            "text/html": [
              "\n",
              "  <div id=\"df-6f3d9c6d-e639-4dc0-96a9-f9368f613c98\">\n",
              "    <div class=\"colab-df-container\">\n",
              "      <div>\n",
              "<style scoped>\n",
              "    .dataframe tbody tr th:only-of-type {\n",
              "        vertical-align: middle;\n",
              "    }\n",
              "\n",
              "    .dataframe tbody tr th {\n",
              "        vertical-align: top;\n",
              "    }\n",
              "\n",
              "    .dataframe thead th {\n",
              "        text-align: right;\n",
              "    }\n",
              "</style>\n",
              "<table border=\"1\" class=\"dataframe\">\n",
              "  <thead>\n",
              "    <tr style=\"text-align: right;\">\n",
              "      <th></th>\n",
              "      <th>Overall rank</th>\n",
              "      <th>Score</th>\n",
              "      <th>Country</th>\n",
              "      <th>GDP (Billions)</th>\n",
              "      <th>Social Score</th>\n",
              "      <th>Basic Human Needs</th>\n",
              "      <th>Foundation of Wellbeing</th>\n",
              "      <th>Opportunity</th>\n",
              "      <th>Life Expectancy</th>\n",
              "      <th>language</th>\n",
              "      <th>population</th>\n",
              "      <th>lat</th>\n",
              "      <th>lng</th>\n",
              "      <th>independent</th>\n",
              "      <th>landlocked</th>\n",
              "      <th>cca3</th>\n",
              "      <th>GDP per Capita</th>\n",
              "      <th>Region</th>\n",
              "    </tr>\n",
              "  </thead>\n",
              "  <tbody>\n",
              "    <tr>\n",
              "      <th>0</th>\n",
              "      <td>1</td>\n",
              "      <td>7.769</td>\n",
              "      <td>Finland</td>\n",
              "      <td>296.016</td>\n",
              "      <td>91.89</td>\n",
              "      <td>96.22</td>\n",
              "      <td>91.29</td>\n",
              "      <td>88.15</td>\n",
              "      <td>82.312</td>\n",
              "      <td>{'fin': 'Finnish', 'swe': 'Swedish'}</td>\n",
              "      <td>5530719</td>\n",
              "      <td>64.0</td>\n",
              "      <td>26.0</td>\n",
              "      <td>True</td>\n",
              "      <td>False</td>\n",
              "      <td>FIN</td>\n",
              "      <td>0.000054</td>\n",
              "      <td>Western Europe</td>\n",
              "    </tr>\n",
              "  </tbody>\n",
              "</table>\n",
              "</div>\n",
              "      <button class=\"colab-df-convert\" onclick=\"convertToInteractive('df-6f3d9c6d-e639-4dc0-96a9-f9368f613c98')\"\n",
              "              title=\"Convert this dataframe to an interactive table.\"\n",
              "              style=\"display:none;\">\n",
              "        \n",
              "  <svg xmlns=\"http://www.w3.org/2000/svg\" height=\"24px\"viewBox=\"0 0 24 24\"\n",
              "       width=\"24px\">\n",
              "    <path d=\"M0 0h24v24H0V0z\" fill=\"none\"/>\n",
              "    <path d=\"M18.56 5.44l.94 2.06.94-2.06 2.06-.94-2.06-.94-.94-2.06-.94 2.06-2.06.94zm-11 1L8.5 8.5l.94-2.06 2.06-.94-2.06-.94L8.5 2.5l-.94 2.06-2.06.94zm10 10l.94 2.06.94-2.06 2.06-.94-2.06-.94-.94-2.06-.94 2.06-2.06.94z\"/><path d=\"M17.41 7.96l-1.37-1.37c-.4-.4-.92-.59-1.43-.59-.52 0-1.04.2-1.43.59L10.3 9.45l-7.72 7.72c-.78.78-.78 2.05 0 2.83L4 21.41c.39.39.9.59 1.41.59.51 0 1.02-.2 1.41-.59l7.78-7.78 2.81-2.81c.8-.78.8-2.07 0-2.86zM5.41 20L4 18.59l7.72-7.72 1.47 1.35L5.41 20z\"/>\n",
              "  </svg>\n",
              "      </button>\n",
              "      \n",
              "  <style>\n",
              "    .colab-df-container {\n",
              "      display:flex;\n",
              "      flex-wrap:wrap;\n",
              "      gap: 12px;\n",
              "    }\n",
              "\n",
              "    .colab-df-convert {\n",
              "      background-color: #E8F0FE;\n",
              "      border: none;\n",
              "      border-radius: 50%;\n",
              "      cursor: pointer;\n",
              "      display: none;\n",
              "      fill: #1967D2;\n",
              "      height: 32px;\n",
              "      padding: 0 0 0 0;\n",
              "      width: 32px;\n",
              "    }\n",
              "\n",
              "    .colab-df-convert:hover {\n",
              "      background-color: #E2EBFA;\n",
              "      box-shadow: 0px 1px 2px rgba(60, 64, 67, 0.3), 0px 1px 3px 1px rgba(60, 64, 67, 0.15);\n",
              "      fill: #174EA6;\n",
              "    }\n",
              "\n",
              "    [theme=dark] .colab-df-convert {\n",
              "      background-color: #3B4455;\n",
              "      fill: #D2E3FC;\n",
              "    }\n",
              "\n",
              "    [theme=dark] .colab-df-convert:hover {\n",
              "      background-color: #434B5C;\n",
              "      box-shadow: 0px 1px 3px 1px rgba(0, 0, 0, 0.15);\n",
              "      filter: drop-shadow(0px 1px 2px rgba(0, 0, 0, 0.3));\n",
              "      fill: #FFFFFF;\n",
              "    }\n",
              "  </style>\n",
              "\n",
              "      <script>\n",
              "        const buttonEl =\n",
              "          document.querySelector('#df-6f3d9c6d-e639-4dc0-96a9-f9368f613c98 button.colab-df-convert');\n",
              "        buttonEl.style.display =\n",
              "          google.colab.kernel.accessAllowed ? 'block' : 'none';\n",
              "\n",
              "        async function convertToInteractive(key) {\n",
              "          const element = document.querySelector('#df-6f3d9c6d-e639-4dc0-96a9-f9368f613c98');\n",
              "          const dataTable =\n",
              "            await google.colab.kernel.invokeFunction('convertToInteractive',\n",
              "                                                     [key], {});\n",
              "          if (!dataTable) return;\n",
              "\n",
              "          const docLinkHtml = 'Like what you see? Visit the ' +\n",
              "            '<a target=\"_blank\" href=https://colab.research.google.com/notebooks/data_table.ipynb>data table notebook</a>'\n",
              "            + ' to learn more about interactive tables.';\n",
              "          element.innerHTML = '';\n",
              "          dataTable['output_type'] = 'display_data';\n",
              "          await google.colab.output.renderOutput(dataTable, element);\n",
              "          const docLink = document.createElement('div');\n",
              "          docLink.innerHTML = docLinkHtml;\n",
              "          element.appendChild(docLink);\n",
              "        }\n",
              "      </script>\n",
              "    </div>\n",
              "  </div>\n",
              "  "
            ]
          },
          "metadata": {},
          "execution_count": 166
        }
      ]
    },
    {
      "cell_type": "code",
      "source": [
        "# Distribution of Happiness\n",
        "alt.Chart(df_real).mark_bar().encode(\n",
        "    alt.X(\"Score\", bin=alt.Bin(extent=[0, 8.5], step=0.2)),\n",
        "    y=\"count()\"\n",
        ")"
      ],
      "metadata": {
        "colab": {
          "base_uri": "https://localhost:8080/",
          "height": 363
        },
        "id": "UiFz5WcmY9BB",
        "outputId": "14c5e4e2-42d9-4093-a2f1-9e342a3322c9"
      },
      "execution_count": null,
      "outputs": [
        {
          "output_type": "execute_result",
          "data": {
            "text/html": [
              "\n",
              "<div id=\"altair-viz-a1326ae09dff441e8308081eb77d3182\"></div>\n",
              "<script type=\"text/javascript\">\n",
              "  var VEGA_DEBUG = (typeof VEGA_DEBUG == \"undefined\") ? {} : VEGA_DEBUG;\n",
              "  (function(spec, embedOpt){\n",
              "    let outputDiv = document.currentScript.previousElementSibling;\n",
              "    if (outputDiv.id !== \"altair-viz-a1326ae09dff441e8308081eb77d3182\") {\n",
              "      outputDiv = document.getElementById(\"altair-viz-a1326ae09dff441e8308081eb77d3182\");\n",
              "    }\n",
              "    const paths = {\n",
              "      \"vega\": \"https://cdn.jsdelivr.net/npm//vega@5?noext\",\n",
              "      \"vega-lib\": \"https://cdn.jsdelivr.net/npm//vega-lib?noext\",\n",
              "      \"vega-lite\": \"https://cdn.jsdelivr.net/npm//vega-lite@4.17.0?noext\",\n",
              "      \"vega-embed\": \"https://cdn.jsdelivr.net/npm//vega-embed@6?noext\",\n",
              "    };\n",
              "\n",
              "    function maybeLoadScript(lib, version) {\n",
              "      var key = `${lib.replace(\"-\", \"\")}_version`;\n",
              "      return (VEGA_DEBUG[key] == version) ?\n",
              "        Promise.resolve(paths[lib]) :\n",
              "        new Promise(function(resolve, reject) {\n",
              "          var s = document.createElement('script');\n",
              "          document.getElementsByTagName(\"head\")[0].appendChild(s);\n",
              "          s.async = true;\n",
              "          s.onload = () => {\n",
              "            VEGA_DEBUG[key] = version;\n",
              "            return resolve(paths[lib]);\n",
              "          };\n",
              "          s.onerror = () => reject(`Error loading script: ${paths[lib]}`);\n",
              "          s.src = paths[lib];\n",
              "        });\n",
              "    }\n",
              "\n",
              "    function showError(err) {\n",
              "      outputDiv.innerHTML = `<div class=\"error\" style=\"color:red;\">${err}</div>`;\n",
              "      throw err;\n",
              "    }\n",
              "\n",
              "    function displayChart(vegaEmbed) {\n",
              "      vegaEmbed(outputDiv, spec, embedOpt)\n",
              "        .catch(err => showError(`Javascript Error: ${err.message}<br>This usually means there's a typo in your chart specification. See the javascript console for the full traceback.`));\n",
              "    }\n",
              "\n",
              "    if(typeof define === \"function\" && define.amd) {\n",
              "      requirejs.config({paths});\n",
              "      require([\"vega-embed\"], displayChart, err => showError(`Error loading script: ${err.message}`));\n",
              "    } else {\n",
              "      maybeLoadScript(\"vega\", \"5\")\n",
              "        .then(() => maybeLoadScript(\"vega-lite\", \"4.17.0\"))\n",
              "        .then(() => maybeLoadScript(\"vega-embed\", \"6\"))\n",
              "        .catch(showError)\n",
              "        .then(() => displayChart(vegaEmbed));\n",
              "    }\n",
              "  })({\"config\": {\"view\": {\"continuousWidth\": 400, \"continuousHeight\": 300}}, \"data\": {\"name\": \"data-dd2b8009904b4e788e5f7ec3d7fc0244\"}, \"mark\": \"bar\", \"encoding\": {\"x\": {\"bin\": {\"extent\": [0, 8.5], \"step\": 0.2}, \"field\": \"Score\", \"type\": \"quantitative\"}, \"y\": {\"aggregate\": \"count\", \"type\": \"quantitative\"}}, \"$schema\": \"https://vega.github.io/schema/vega-lite/v4.17.0.json\", \"datasets\": {\"data-dd2b8009904b4e788e5f7ec3d7fc0244\": [{\"Overall rank\": 1, \"Score\": 7.769, \"Country\": \"Finland\", \"GDP (Billions)\": 296.016, \"Social Score\": 91.89, \"Basic Human Needs\": 96.22, \"Foundation of Wellbeing\": 91.29, \"Opportunity\": 88.15, \"Life Expectancy\": 82.312, \"language\": \"{'fin': 'Finnish', 'swe': 'Swedish'}\", \"population\": 5530719, \"lat\": 64.0, \"lng\": 26.0, \"independent\": true, \"landlocked\": false, \"cca3\": \"FIN\", \"GDP per Capita\": 5.3522155076039846e-05, \"Region\": \"Western Europe\"}, {\"Overall rank\": 2, \"Score\": 7.6, \"Country\": \"Denmark\", \"GDP (Billions)\": 396.666, \"Social Score\": 92.11, \"Basic Human Needs\": 96.11, \"Foundation of Wellbeing\": 91.58, \"Opportunity\": 88.66, \"Life Expectancy\": 81.256, \"language\": \"{'dan': 'Danish'}\", \"population\": 5831404, \"lat\": 56.0, \"lng\": 10.0, \"independent\": true, \"landlocked\": false, \"cca3\": \"DNK\", \"GDP per Capita\": 6.802238363179776e-05, \"Region\": \"Western Europe\"}, {\"Overall rank\": 3, \"Score\": 7.554, \"Country\": \"Norway\", \"GDP (Billions)\": 445.507, \"Social Score\": 92.73, \"Basic Human Needs\": 96.85, \"Foundation of Wellbeing\": 93.39, \"Opportunity\": 87.95, \"Life Expectancy\": 82.788, \"language\": \"{'nno': 'Norwegian Nynorsk', 'nob': 'Norwegian Bokm\\u00e5l', 'smi': 'Sami'}\", \"population\": 5379475, \"lat\": 62.0, \"lng\": 10.0, \"independent\": true, \"landlocked\": false, \"cca3\": \"NOR\", \"GDP per Capita\": 8.281607405927159e-05, \"Region\": \"Western Europe\"}, {\"Overall rank\": 4, \"Score\": 7.494, \"Country\": \"Iceland\", \"GDP (Billions)\": 25.476, \"Social Score\": 91.09, \"Basic Human Needs\": 98.07, \"Foundation of Wellbeing\": 92.81, \"Opportunity\": 82.39, \"Life Expectancy\": 83.37, \"language\": \"{'isl': 'Icelandic'}\", \"population\": 366425, \"lat\": 65.0, \"lng\": -18.0, \"independent\": true, \"landlocked\": false, \"cca3\": \"ISL\", \"GDP per Capita\": 6.952582383843897e-05, \"Region\": \"Western Europe\"}, {\"Overall rank\": 5, \"Score\": 7.488, \"Country\": \"Netherlands\", \"GDP (Billions)\": 1007.562, \"Social Score\": 91.06, \"Basic Human Needs\": 96.48, \"Foundation of Wellbeing\": 91.18, \"Opportunity\": 85.53, \"Life Expectancy\": 82.636, \"language\": \"{'nld': 'Dutch'}\", \"population\": 16655799, \"lat\": 52.5, \"lng\": 5.75, \"independent\": true, \"landlocked\": false, \"cca3\": \"NLD\", \"GDP per Capita\": 6.049316517328289e-05, \"Region\": \"Western Europe\"}, {\"Overall rank\": 6, \"Score\": 7.48, \"Country\": \"Switzerland\", \"GDP (Billions)\": 810.83, \"Social Score\": 91.42, \"Basic Human Needs\": 96.78, \"Foundation of Wellbeing\": 91.99, \"Opportunity\": 85.49, \"Life Expectancy\": 84.112, \"language\": \"{'fra': 'French', 'gsw': 'Swiss German', 'ita': 'Italian', 'roh': 'Romansh'}\", \"population\": 8654622, \"lat\": 47.0, \"lng\": 8.0, \"independent\": true, \"landlocked\": true, \"cca3\": \"CHE\", \"GDP per Capita\": 9.36875117133943e-05, \"Region\": \"Western Europe\"}, {\"Overall rank\": 7, \"Score\": 7.343, \"Country\": \"Sweden\", \"GDP (Billions)\": 622.365, \"Social Score\": 91.62, \"Basic Human Needs\": 96.58, \"Foundation of Wellbeing\": 91.03, \"Opportunity\": 87.23, \"Life Expectancy\": 83.178, \"language\": \"{'swe': 'Swedish'}\", \"population\": 10353442, \"lat\": 62.0, \"lng\": 15.0, \"independent\": true, \"landlocked\": false, \"cca3\": \"SWE\", \"GDP per Capita\": 6.011189322352895e-05, \"Region\": \"Western Europe\"}, {\"Overall rank\": 8, \"Score\": 7.307, \"Country\": \"New Zealand\", \"GDP (Billions)\": 247.64, \"Social Score\": 91.64, \"Basic Human Needs\": 97.22, \"Foundation of Wellbeing\": 92.57, \"Opportunity\": 85.13, \"Life Expectancy\": 82.652, \"language\": \"{'eng': 'English', 'mri': 'M\\u0101ori', 'nzs': 'New Zealand Sign Language'}\", \"population\": 5084300, \"lat\": -41.0, \"lng\": 174.0, \"independent\": true, \"landlocked\": false, \"cca3\": \"NZL\", \"GDP per Capita\": 4.870680329642232e-05, \"Region\": \"Australia and New Zealand\"}, {\"Overall rank\": 9, \"Score\": 7.278, \"Country\": \"Canada\", \"GDP (Billions)\": 2015.983, \"Social Score\": 91.4, \"Basic Human Needs\": 97.03, \"Foundation of Wellbeing\": 90.88, \"Opportunity\": 86.31, \"Life Expectancy\": 82.812, \"language\": \"{'eng': 'English', 'fra': 'French'}\", \"population\": 38005238, \"lat\": 60.0, \"lng\": -95.0, \"independent\": true, \"landlocked\": false, \"cca3\": \"CAN\", \"GDP per Capita\": 5.304487239364216e-05, \"Region\": \"North America\"}, {\"Overall rank\": 10, \"Score\": 7.246, \"Country\": \"Austria\", \"GDP (Billions)\": 481.209, \"Social Score\": 89.5, \"Basic Human Needs\": 96.03, \"Foundation of Wellbeing\": 91.84, \"Opportunity\": 80.63, \"Life Expectancy\": 81.91, \"language\": \"{'bar': 'Austro-Bavarian German'}\", \"population\": 8917205, \"lat\": 47.33333333, \"lng\": 13.33333333, \"independent\": true, \"landlocked\": true, \"cca3\": \"AUT\", \"GDP per Capita\": 5.39641064660956e-05, \"Region\": \"Western Europe\"}, {\"Overall rank\": 11, \"Score\": 7.228, \"Country\": \"Australia\", \"GDP (Billions)\": 1610.556, \"Social Score\": 91.29, \"Basic Human Needs\": 97.25, \"Foundation of Wellbeing\": 91.07, \"Opportunity\": 85.55, \"Life Expectancy\": 83.792, \"language\": \"{'eng': 'English'}\", \"population\": 25687041, \"lat\": -27.0, \"lng\": 133.0, \"independent\": true, \"landlocked\": false, \"cca3\": \"AUS\", \"GDP per Capita\": 6.269916414272863e-05, \"Region\": \"Australia and New Zealand\"}, {\"Overall rank\": 12, \"Score\": 7.167, \"Country\": \"Costa Rica\", \"GDP (Billions)\": 61.46, \"Social Score\": 83.01, \"Basic Human Needs\": 89.88, \"Foundation of Wellbeing\": 84.62, \"Opportunity\": 74.51, \"Life Expectancy\": 80.752, \"language\": \"{'spa': 'Spanish'}\", \"population\": 5094114, \"lat\": 10.0, \"lng\": -84.0, \"independent\": true, \"landlocked\": false, \"cca3\": \"CRI\", \"GDP per Capita\": 1.2064904711594598e-05, \"Region\": \"Latin America and Caribbean\"}, {\"Overall rank\": 13, \"Score\": 7.139, \"Country\": \"Israel\", \"GDP (Billions)\": 467.532, \"Social Score\": 83.62, \"Basic Human Needs\": 93.43, \"Foundation of Wellbeing\": 85.53, \"Opportunity\": 71.89, \"Life Expectancy\": 83.34, \"language\": \"{'ara': 'Arabic', 'heb': 'Hebrew'}\", \"population\": 9216900, \"lat\": 31.47, \"lng\": 35.13, \"independent\": true, \"landlocked\": false, \"cca3\": \"ISR\", \"GDP per Capita\": 5.072551508641734e-05, \"Region\": \"Middle East and Northern Africa\"}, {\"Overall rank\": 14, \"Score\": 7.09, \"Country\": \"Luxembourg\", \"GDP (Billions)\": 83.771, \"Social Score\": 89.56, \"Basic Human Needs\": 95.72, \"Foundation of Wellbeing\": 91.84, \"Opportunity\": 81.13, \"Life Expectancy\": 82.624, \"language\": \"{'deu': 'German', 'fra': 'French', 'ltz': 'Luxembourgish'}\", \"population\": 632275, \"lat\": 49.75, \"lng\": 6.16666666, \"independent\": true, \"landlocked\": true, \"cca3\": \"LUX\", \"GDP per Capita\": 0.0001324914001028, \"Region\": \"Western Europe\"}, {\"Overall rank\": 15, \"Score\": 7.054, \"Country\": \"United Kingdom\", \"GDP (Billions)\": 3108.416, \"Social Score\": 88.54, \"Basic Human Needs\": 94.36, \"Foundation of Wellbeing\": 90.21, \"Opportunity\": 81.06, \"Life Expectancy\": 81.646, \"language\": \"{'eng': 'English'}\", \"population\": 67215293, \"lat\": 54.0, \"lng\": -2.0, \"independent\": true, \"landlocked\": false, \"cca3\": \"GBR\", \"GDP per Capita\": 4.624566614624443e-05, \"Region\": \"Western Europe\"}, {\"Overall rank\": 16, \"Score\": 7.021, \"Country\": \"Ireland\", \"GDP (Billions)\": 516.253, \"Social Score\": 90.35, \"Basic Human Needs\": 96.32, \"Foundation of Wellbeing\": 90.03, \"Opportunity\": 84.7, \"Life Expectancy\": 82.658, \"language\": \"{'eng': 'English', 'gle': 'Irish'}\", \"population\": 4994724, \"lat\": 53.0, \"lng\": -8.0, \"independent\": true, \"landlocked\": false, \"cca3\": \"IRL\", \"GDP per Capita\": 0.0001033596651186, \"Region\": \"Western Europe\"}, {\"Overall rank\": 17, \"Score\": 6.985, \"Country\": \"Germany\", \"GDP (Billions)\": 4230.172, \"Social Score\": 90.56, \"Basic Human Needs\": 96.14, \"Foundation of Wellbeing\": 89.02, \"Opportunity\": 86.53, \"Life Expectancy\": 81.724, \"language\": \"{'deu': 'German'}\", \"population\": 83240525, \"lat\": 51.0, \"lng\": 9.0, \"independent\": true, \"landlocked\": false, \"cca3\": \"DEU\", \"GDP per Capita\": 5.081866074246888e-05, \"Region\": \"Western Europe\"}, {\"Overall rank\": 18, \"Score\": 6.923, \"Country\": \"Belgium\", \"GDP (Billions)\": 581.848, \"Social Score\": 89.46, \"Basic Human Needs\": 94.01, \"Foundation of Wellbeing\": 89.3, \"Opportunity\": 85.07, \"Life Expectancy\": 82.014, \"language\": \"{'deu': 'German', 'fra': 'French', 'nld': 'Dutch'}\", \"population\": 11555997, \"lat\": 50.83333333, \"lng\": 4.0, \"independent\": true, \"landlocked\": false, \"cca3\": \"BEL\", \"GDP per Capita\": 5.035030729066475e-05, \"Region\": \"Western Europe\"}, {\"Overall rank\": 19, \"Score\": 6.892, \"Country\": \"United States\", \"GDP (Billions)\": 22939.58, \"Social Score\": 85.71, \"Basic Human Needs\": 92.08, \"Foundation of Wellbeing\": 83.14, \"Opportunity\": 81.89, \"Life Expectancy\": 79.05, \"language\": \"{'eng': 'English'}\", \"population\": 329484123, \"lat\": 38.0, \"lng\": -97.0, \"independent\": true, \"landlocked\": false, \"cca3\": \"USA\", \"GDP per Capita\": 6.962271745033373e-05, \"Region\": \"North America\"}, {\"Overall rank\": 20, \"Score\": 6.852, \"Country\": \"Czech Republic\", \"GDP (Billions)\": 276.914, \"Social Score\": 86.69, \"Basic Human Needs\": 95.45, \"Foundation of Wellbeing\": 86.79, \"Opportunity\": 77.83, \"Life Expectancy\": 79.71, \"language\": \"{'ces': 'Czech', 'slk': 'Slovak'}\", \"population\": 10698896, \"lat\": 49.75, \"lng\": 15.5, \"independent\": true, \"landlocked\": true, \"cca3\": \"CZE\", \"GDP per Capita\": 2.588248357587549e-05, \"Region\": \"Central and Eastern Europe\"}, {\"Overall rank\": 21, \"Score\": 6.825, \"Country\": \"United Arab Emirates\", \"GDP (Billions)\": 410.158, \"Social Score\": 70.6, \"Basic Human Needs\": 86.8, \"Foundation of Wellbeing\": 71.63, \"Opportunity\": 53.38, \"Life Expectancy\": 78.318, \"language\": \"{'ara': 'Arabic'}\", \"population\": 9890400, \"lat\": 24.0, \"lng\": 54.0, \"independent\": true, \"landlocked\": false, \"cca3\": \"ARE\", \"GDP per Capita\": 4.147031464854809e-05, \"Region\": \"Middle East and Northern Africa\"}, {\"Overall rank\": 22, \"Score\": 6.726, \"Country\": \"Malta\", \"GDP (Billions)\": 16.695, \"Social Score\": 84.89, \"Basic Human Needs\": 93.25, \"Foundation of Wellbeing\": 87.98, \"Opportunity\": 73.43, \"Life Expectancy\": 82.906, \"language\": \"{'eng': 'English', 'mlt': 'Maltese'}\", \"population\": 525285, \"lat\": 35.83333333, \"lng\": 14.58333333, \"independent\": true, \"landlocked\": false, \"cca3\": \"MLT\", \"GDP per Capita\": 3.178274650903795e-05, \"Region\": \"Western Europe\"}, {\"Overall rank\": 23, \"Score\": 6.595, \"Country\": \"Mexico\", \"GDP (Billions)\": 1285.518, \"Social Score\": 73.52, \"Basic Human Needs\": 82.54, \"Foundation of Wellbeing\": 74.67, \"Opportunity\": 63.36, \"Life Expectancy\": 75.324, \"language\": \"{'spa': 'Spanish'}\", \"population\": 128932753, \"lat\": 23.0, \"lng\": -102.0, \"independent\": true, \"landlocked\": false, \"cca3\": \"MEX\", \"GDP per Capita\": 9.970453357185354e-06, \"Region\": \"Latin America and Caribbean\"}, {\"Overall rank\": 24, \"Score\": 6.592, \"Country\": \"France\", \"GDP (Billions)\": 2940.428, \"Social Score\": 88.78, \"Basic Human Needs\": 94.48, \"Foundation of Wellbeing\": 90.78, \"Opportunity\": 81.09, \"Life Expectancy\": 82.996, \"language\": \"{'fra': 'French'}\", \"population\": 67391582, \"lat\": 46.0, \"lng\": 2.0, \"independent\": true, \"landlocked\": false, \"cca3\": \"FRA\", \"GDP per Capita\": 4.36319776556069e-05, \"Region\": \"Western Europe\"}, {\"Overall rank\": 26, \"Score\": 6.444, \"Country\": \"Chile\", \"GDP (Billions)\": 331.25, \"Social Score\": 83.34, \"Basic Human Needs\": 90.79, \"Foundation of Wellbeing\": 81.87, \"Opportunity\": 77.35, \"Life Expectancy\": 80.584, \"language\": \"{'spa': 'Spanish'}\", \"population\": 19116209, \"lat\": -30.0, \"lng\": -71.0, \"independent\": true, \"landlocked\": false, \"cca3\": \"CHL\", \"GDP per Capita\": 1.7328226532781683e-05, \"Region\": \"Latin America and Caribbean\"}, {\"Overall rank\": 27, \"Score\": 6.436, \"Country\": \"Guatemala\", \"GDP (Billions)\": 83.305, \"Social Score\": 61.67, \"Basic Human Needs\": 68.32, \"Foundation of Wellbeing\": 71.33, \"Opportunity\": 45.35, \"Life Expectancy\": 74.828, \"language\": \"{'spa': 'Spanish'}\", \"population\": 16858333, \"lat\": 15.5, \"lng\": -90.25, \"independent\": true, \"landlocked\": false, \"cca3\": \"GTM\", \"GDP per Capita\": 4.941473157518006e-06, \"Region\": \"Latin America and Caribbean\"}, {\"Overall rank\": 28, \"Score\": 6.375, \"Country\": \"Saudi Arabia\", \"GDP (Billions)\": 842.588, \"Social Score\": 65.06, \"Basic Human Needs\": 84.54, \"Foundation of Wellbeing\": 67.64, \"Opportunity\": 43.02, \"Life Expectancy\": 75.532, \"language\": \"{'ara': 'Arabic'}\", \"population\": 34813867, \"lat\": 25.0, \"lng\": 45.0, \"independent\": true, \"landlocked\": false, \"cca3\": \"SAU\", \"GDP per Capita\": 2.420265464907992e-05, \"Region\": \"Middle East and Northern Africa\"}, {\"Overall rank\": 29, \"Score\": 6.374, \"Country\": \"Qatar\", \"GDP (Billions)\": 169.184, \"Social Score\": 70.58, \"Basic Human Needs\": 90.4, \"Foundation of Wellbeing\": 72.1, \"Opportunity\": 49.23, \"Life Expectancy\": 80.588, \"language\": \"{'ara': 'Arabic'}\", \"population\": 2881060, \"lat\": 25.5, \"lng\": 51.25, \"independent\": true, \"landlocked\": false, \"cca3\": \"QAT\", \"GDP per Capita\": 5.8722831180190624e-05, \"Region\": \"Middle East and Northern Africa\"}, {\"Overall rank\": 30, \"Score\": 6.354, \"Country\": \"Spain\", \"GDP (Billions)\": 1439.958, \"Social Score\": 88.71, \"Basic Human Needs\": 95.27, \"Foundation of Wellbeing\": 89.71, \"Opportunity\": 81.15, \"Life Expectancy\": 83.864, \"language\": \"{'spa': 'Spanish'}\", \"population\": 47351567, \"lat\": 40.0, \"lng\": -4.0, \"independent\": true, \"landlocked\": false, \"cca3\": \"ESP\", \"GDP per Capita\": 3.040993342416736e-05, \"Region\": \"Western Europe\"}, {\"Overall rank\": 31, \"Score\": 6.321, \"Country\": \"Panama\", \"GDP (Billions)\": 60.121, \"Social Score\": 76.55, \"Basic Human Needs\": 86.0, \"Foundation of Wellbeing\": 79.83, \"Opportunity\": 63.82, \"Life Expectancy\": 78.928, \"language\": \"{'spa': 'Spanish'}\", \"population\": 4314768, \"lat\": 9.0, \"lng\": -80.0, \"independent\": true, \"landlocked\": false, \"cca3\": \"PAN\", \"GDP per Capita\": 1.393377349604892e-05, \"Region\": \"Latin America and Caribbean\"}, {\"Overall rank\": 32, \"Score\": 6.3, \"Country\": \"Brazil\", \"GDP (Billions)\": 1645.837, \"Social Score\": 73.91, \"Basic Human Needs\": 82.69, \"Foundation of Wellbeing\": 76.59, \"Opportunity\": 62.46, \"Life Expectancy\": 76.368, \"language\": \"{'por': 'Portuguese'}\", \"population\": 212559409, \"lat\": -10.0, \"lng\": -55.0, \"independent\": true, \"landlocked\": false, \"cca3\": \"BRA\", \"GDP per Capita\": 7.742950583758915e-06, \"Region\": \"Latin America and Caribbean\"}, {\"Overall rank\": 33, \"Score\": 6.293, \"Country\": \"Uruguay\", \"GDP (Billions)\": 60.108, \"Social Score\": 82.99, \"Basic Human Needs\": 88.64, \"Foundation of Wellbeing\": 82.59, \"Opportunity\": 77.74, \"Life Expectancy\": 78.282, \"language\": \"{'spa': 'Spanish'}\", \"population\": 3473727, \"lat\": -33.0, \"lng\": -56.0, \"independent\": true, \"landlocked\": false, \"cca3\": \"URY\", \"GDP per Capita\": 1.7303605032865277e-05, \"Region\": \"Latin America and Caribbean\"}, {\"Overall rank\": 34, \"Score\": 6.262, \"Country\": \"Singapore\", \"GDP (Billions)\": 378.645, \"Social Score\": 85.46, \"Basic Human Needs\": 97.66, \"Foundation of Wellbeing\": 86.13, \"Opportunity\": 72.58, \"Life Expectancy\": 83.934, \"language\": \"{'zho': 'Chinese', 'eng': 'English', 'msa': 'Malay', 'tam': 'Tamil'}\", \"population\": 5685807, \"lat\": 1.36666666, \"lng\": 103.8, \"independent\": true, \"landlocked\": false, \"cca3\": \"SGP\", \"GDP per Capita\": 6.659476834159161e-05, \"Region\": \"Southeastern Asia\"}, {\"Overall rank\": 35, \"Score\": 6.253, \"Country\": \"El Salvador\", \"GDP (Billions)\": 27.665, \"Social Score\": 67.25, \"Basic Human Needs\": 77.62, \"Foundation of Wellbeing\": 68.87, \"Opportunity\": 55.26, \"Life Expectancy\": 73.846, \"language\": \"{'spa': 'Spanish'}\", \"population\": 6486201, \"lat\": 13.83333333, \"lng\": -88.91666666, \"independent\": true, \"landlocked\": false, \"cca3\": \"SLV\", \"GDP per Capita\": 4.265208555824897e-06, \"Region\": \"Latin America and Caribbean\"}, {\"Overall rank\": 36, \"Score\": 6.223, \"Country\": \"Italy\", \"GDP (Billions)\": 2120.232, \"Social Score\": 87.36, \"Basic Human Needs\": 93.19, \"Foundation of Wellbeing\": 88.59, \"Opportunity\": 80.3, \"Life Expectancy\": 83.856, \"language\": \"{'ita': 'Italian'}\", \"population\": 59554023, \"lat\": 42.83333333, \"lng\": 12.83333333, \"independent\": true, \"landlocked\": false, \"cca3\": \"ITA\", \"GDP per Capita\": 3.56018265970042e-05, \"Region\": \"Western Europe\"}, {\"Overall rank\": 37, \"Score\": 6.199, \"Country\": \"Bahrain\", \"GDP (Billions)\": 39.104, \"Social Score\": 66.6, \"Basic Human Needs\": 86.34, \"Foundation of Wellbeing\": 69.6, \"Opportunity\": 43.86, \"Life Expectancy\": 77.604, \"language\": \"{'ara': 'Arabic'}\", \"population\": 1701583, \"lat\": 26.0, \"lng\": 50.55, \"independent\": true, \"landlocked\": false, \"cca3\": \"BHR\", \"GDP per Capita\": 2.2980953617895807e-05, \"Region\": \"Middle East and Northern Africa\"}, {\"Overall rank\": 40, \"Score\": 6.182, \"Country\": \"Poland\", \"GDP (Billions)\": 655.332, \"Social Score\": 84.32, \"Basic Human Needs\": 94.44, \"Foundation of Wellbeing\": 83.67, \"Opportunity\": 74.86, \"Life Expectancy\": 79.108, \"language\": \"{'pol': 'Polish'}\", \"population\": 37950802, \"lat\": 52.0, \"lng\": 20.0, \"independent\": true, \"landlocked\": false, \"cca3\": \"POL\", \"GDP per Capita\": 1.7267935470770816e-05, \"Region\": \"Central and Eastern Europe\"}, {\"Overall rank\": 41, \"Score\": 6.174, \"Country\": \"Uzbekistan\", \"GDP (Billions)\": 65.503, \"Social Score\": 64.98, \"Basic Human Needs\": 80.35, \"Foundation of Wellbeing\": 64.65, \"Opportunity\": 49.94, \"Life Expectancy\": 71.938, \"language\": \"{'rus': 'Russian', 'uzb': 'Uzbek'}\", \"population\": 34232050, \"lat\": 41.0, \"lng\": 64.0, \"independent\": true, \"landlocked\": true, \"cca3\": \"UZB\", \"GDP per Capita\": 1.913499191547103e-06, \"Region\": \"Central and Eastern Europe\"}, {\"Overall rank\": 42, \"Score\": 6.149, \"Country\": \"Lithuania\", \"GDP (Billions)\": 62.635, \"Social Score\": 83.97, \"Basic Human Needs\": 90.83, \"Foundation of Wellbeing\": 83.77, \"Opportunity\": 77.3, \"Life Expectancy\": 76.258, \"language\": \"{'lit': 'Lithuanian'}\", \"population\": 2794700, \"lat\": 56.0, \"lng\": 24.0, \"independent\": true, \"landlocked\": false, \"cca3\": \"LTU\", \"GDP per Capita\": 2.24120656957813e-05, \"Region\": \"Central and Eastern Europe\"}, {\"Overall rank\": 43, \"Score\": 6.125, \"Country\": \"Colombia\", \"GDP (Billions)\": 300.791, \"Social Score\": 74.0, \"Basic Human Needs\": 83.31, \"Foundation of Wellbeing\": 80.09, \"Opportunity\": 58.59, \"Life Expectancy\": 77.7, \"language\": \"{'spa': 'Spanish'}\", \"population\": 50882884, \"lat\": 4.0, \"lng\": -72.0, \"independent\": true, \"landlocked\": false, \"cca3\": \"COL\", \"GDP per Capita\": 5.91143772432396e-06, \"Region\": \"Latin America and Caribbean\"}, {\"Overall rank\": 44, \"Score\": 6.118, \"Country\": \"Slovenia\", \"GDP (Billions)\": 60.89, \"Social Score\": 87.71, \"Basic Human Needs\": 95.62, \"Foundation of Wellbeing\": 88.85, \"Opportunity\": 78.64, \"Life Expectancy\": 81.696, \"language\": \"{'slv': 'Slovene'}\", \"population\": 2100126, \"lat\": 46.11666666, \"lng\": 14.81666666, \"independent\": true, \"landlocked\": false, \"cca3\": \"SVN\", \"GDP per Capita\": 2.899349848532897e-05, \"Region\": \"Central and Eastern Europe\"}, {\"Overall rank\": 45, \"Score\": 6.105, \"Country\": \"Nicaragua\", \"GDP (Billions)\": 13.397, \"Social Score\": 64.02, \"Basic Human Needs\": 75.09, \"Foundation of Wellbeing\": 72.83, \"Opportunity\": 44.13, \"Life Expectancy\": 75.014, \"language\": \"{'spa': 'Spanish'}\", \"population\": 6624554, \"lat\": 13.0, \"lng\": -85.0, \"independent\": true, \"landlocked\": false, \"cca3\": \"NIC\", \"GDP per Capita\": 2.022324823678696e-06, \"Region\": \"Latin America and Caribbean\"}, {\"Overall rank\": 47, \"Score\": 6.086, \"Country\": \"Argentina\", \"GDP (Billions)\": 455.172, \"Social Score\": 80.66, \"Basic Human Needs\": 87.73, \"Foundation of Wellbeing\": 80.05, \"Opportunity\": 74.2, \"Life Expectancy\": 77.026, \"language\": \"{'grn': 'Guaran\\u00ed', 'spa': 'Spanish'}\", \"population\": 45376763, \"lat\": -34.0, \"lng\": -64.0, \"independent\": true, \"landlocked\": false, \"cca3\": \"ARG\", \"GDP per Capita\": 1.0030949100534122e-05, \"Region\": \"Latin America and Caribbean\"}, {\"Overall rank\": 48, \"Score\": 6.07, \"Country\": \"Romania\", \"GDP (Billions)\": 287.279, \"Social Score\": 78.35, \"Basic Human Needs\": 89.46, \"Foundation of Wellbeing\": 78.04, \"Opportunity\": 67.54, \"Life Expectancy\": 76.366, \"language\": \"{'ron': 'Romanian'}\", \"population\": 19286123, \"lat\": 46.0, \"lng\": 25.0, \"independent\": true, \"landlocked\": false, \"cca3\": \"ROU\", \"GDP per Capita\": 1.489563247107778e-05, \"Region\": \"Central and Eastern Europe\"}, {\"Overall rank\": 49, \"Score\": 6.046, \"Country\": \"Cyprus\", \"GDP (Billions)\": 26.546, \"Social Score\": 86.64, \"Basic Human Needs\": 93.4, \"Foundation of Wellbeing\": 89.66, \"Opportunity\": 76.84, \"Life Expectancy\": 81.358, \"language\": \"{'ell': 'Greek', 'tur': 'Turkish'}\", \"population\": 1207361, \"lat\": 35.0, \"lng\": 33.0, \"independent\": true, \"landlocked\": false, \"cca3\": \"CYP\", \"GDP per Capita\": 2.198679599556388e-05, \"Region\": \"Western Europe\"}, {\"Overall rank\": 50, \"Score\": 6.028, \"Country\": \"Ecuador\", \"GDP (Billions)\": 104.483, \"Social Score\": 75.45, \"Basic Human Needs\": 84.35, \"Foundation of Wellbeing\": 79.45, \"Opportunity\": 62.55, \"Life Expectancy\": 77.508, \"language\": \"{'spa': 'Spanish'}\", \"population\": 17643060, \"lat\": -2.0, \"lng\": -77.5, \"independent\": true, \"landlocked\": false, \"cca3\": \"ECU\", \"GDP per Capita\": 5.922045268791242e-06, \"Region\": \"Latin America and Caribbean\"}, {\"Overall rank\": 51, \"Score\": 6.021, \"Country\": \"Kuwait\", \"GDP (Billions)\": 132.266, \"Social Score\": 77.47, \"Basic Human Needs\": 90.41, \"Foundation of Wellbeing\": 81.67, \"Opportunity\": 60.33, \"Life Expectancy\": 75.746, \"language\": \"{'ara': 'Arabic'}\", \"population\": 4270563, \"lat\": 29.5, \"lng\": 45.75, \"independent\": true, \"landlocked\": false, \"cca3\": \"KWT\", \"GDP per Capita\": 3.0971560424234463e-05, \"Region\": \"Middle East and Northern Africa\"}, {\"Overall rank\": 52, \"Score\": 6.008, \"Country\": \"Thailand\", \"GDP (Billions)\": 546.223, \"Social Score\": 70.72, \"Basic Human Needs\": 80.89, \"Foundation of Wellbeing\": 75.44, \"Opportunity\": 55.83, \"Life Expectancy\": 77.558, \"language\": \"{'tha': 'Thai'}\", \"population\": 69799978, \"lat\": 15.0, \"lng\": 100.0, \"independent\": true, \"landlocked\": false, \"cca3\": \"THA\", \"GDP per Capita\": 7.825546879112196e-06, \"Region\": \"Southeastern Asia\"}, {\"Overall rank\": 53, \"Score\": 5.94, \"Country\": \"Latvia\", \"GDP (Billions)\": 37.199, \"Social Score\": 83.19, \"Basic Human Needs\": 90.74, \"Foundation of Wellbeing\": 83.83, \"Opportunity\": 74.99, \"Life Expectancy\": 75.594, \"language\": \"{'lav': 'Latvian'}\", \"population\": 1901548, \"lat\": 57.0, \"lng\": 25.0, \"independent\": true, \"landlocked\": false, \"cca3\": \"LVA\", \"GDP per Capita\": 1.9562482777189956e-05, \"Region\": \"Central and Eastern Europe\"}, {\"Overall rank\": 55, \"Score\": 5.893, \"Country\": \"Estonia\", \"GDP (Billions)\": 36.039, \"Social Score\": 87.26, \"Basic Human Needs\": 93.08, \"Foundation of Wellbeing\": 91.5, \"Opportunity\": 77.21, \"Life Expectancy\": 79.036, \"language\": \"{'est': 'Estonian'}\", \"population\": 1331057, \"lat\": 59.0, \"lng\": 26.0, \"independent\": true, \"landlocked\": false, \"cca3\": \"EST\", \"GDP per Capita\": 2.707547460401771e-05, \"Region\": \"Central and Eastern Europe\"}, {\"Overall rank\": 56, \"Score\": 5.89, \"Country\": \"Jamaica\", \"GDP (Billions)\": 14.857, \"Social Score\": 74.75, \"Basic Human Needs\": 79.34, \"Foundation of Wellbeing\": 74.44, \"Opportunity\": 70.47, \"Life Expectancy\": 74.77, \"language\": \"{'eng': 'English', 'jam': 'Jamaican Patois'}\", \"population\": 2961161, \"lat\": 18.25, \"lng\": -77.5, \"independent\": true, \"landlocked\": false, \"cca3\": \"JAM\", \"GDP per Capita\": 5.017288826916199e-06, \"Region\": \"Latin America and Caribbean\"}, {\"Overall rank\": 57, \"Score\": 5.888, \"Country\": \"Mauritius\", \"GDP (Billions)\": 10.998, \"Social Score\": 78.96, \"Basic Human Needs\": 90.9, \"Foundation of Wellbeing\": 76.52, \"Opportunity\": 69.47, \"Life Expectancy\": 75.36, \"language\": \"{'eng': 'English', 'fra': 'French', 'mfe': 'Mauritian Creole'}\", \"population\": 1265740, \"lat\": -20.28333333, \"lng\": 57.55, \"independent\": true, \"landlocked\": false, \"cca3\": \"MUS\", \"GDP per Capita\": 8.688988259832193e-06, \"Region\": \"Sub-Saharan Africa\"}, {\"Overall rank\": 58, \"Score\": 5.886, \"Country\": \"Japan\", \"GDP (Billions)\": 5103.11, \"Social Score\": 90.14, \"Basic Human Needs\": 97.78, \"Foundation of Wellbeing\": 92.15, \"Opportunity\": 80.5, \"Life Expectancy\": 84.91, \"language\": \"{'jpn': 'Japanese'}\", \"population\": 125836021, \"lat\": 36.0, \"lng\": 138.0, \"independent\": true, \"landlocked\": false, \"cca3\": \"JPN\", \"GDP per Capita\": 4.055365037329017e-05, \"Region\": \"Eastern Asia\"}, {\"Overall rank\": 59, \"Score\": 5.86, \"Country\": \"Honduras\", \"GDP (Billions)\": 26.325, \"Social Score\": 62.41, \"Basic Human Needs\": 73.72, \"Foundation of Wellbeing\": 66.38, \"Opportunity\": 47.12, \"Life Expectancy\": 75.694, \"language\": \"{'spa': 'Spanish'}\", \"population\": 9904608, \"lat\": 15.0, \"lng\": -86.5, \"independent\": true, \"landlocked\": false, \"cca3\": \"HND\", \"GDP per Capita\": 2.65785379895903e-06, \"Region\": \"Latin America and Caribbean\"}, {\"Overall rank\": 60, \"Score\": 5.809, \"Country\": \"Kazakhstan\", \"GDP (Billions)\": 194.024, \"Social Score\": 72.66, \"Basic Human Needs\": 85.6, \"Foundation of Wellbeing\": 76.13, \"Opportunity\": 56.24, \"Life Expectancy\": 73.756, \"language\": \"{'kaz': 'Kazakh', 'rus': 'Russian'}\", \"population\": 18754440, \"lat\": 48.0, \"lng\": 68.0, \"independent\": true, \"landlocked\": true, \"cca3\": \"KAZ\", \"GDP per Capita\": 1.0345496853011874e-05, \"Region\": \"Central and Eastern Europe\"}, {\"Overall rank\": 61, \"Score\": 5.779, \"Country\": \"Bolivia\", \"GDP (Billions)\": 38.547, \"Social Score\": 69.23, \"Basic Human Needs\": 82.26, \"Foundation of Wellbeing\": 69.2, \"Opportunity\": 56.24, \"Life Expectancy\": 72.096, \"language\": \"{'aym': 'Aymara', 'grn': 'Guaran\\u00ed', 'que': 'Quechua', 'spa': 'Spanish'}\", \"population\": 11673029, \"lat\": -17.0, \"lng\": -65.0, \"independent\": true, \"landlocked\": true, \"cca3\": \"BOL\", \"GDP per Capita\": 3.302227725126015e-06, \"Region\": \"Latin America and Caribbean\"}, {\"Overall rank\": 62, \"Score\": 5.758, \"Country\": \"Hungary\", \"GDP (Billions)\": 180.959, \"Social Score\": 81.02, \"Basic Human Needs\": 92.1, \"Foundation of Wellbeing\": 80.76, \"Opportunity\": 70.19, \"Life Expectancy\": 77.174, \"language\": \"{'hun': 'Hungarian'}\", \"population\": 9749763, \"lat\": 47.0, \"lng\": 20.0, \"independent\": true, \"landlocked\": true, \"cca3\": \"HUN\", \"GDP per Capita\": 1.856034859514021e-05, \"Region\": \"Central and Eastern Europe\"}, {\"Overall rank\": 63, \"Score\": 5.743, \"Country\": \"Paraguay\", \"GDP (Billions)\": 36.973, \"Social Score\": 72.48, \"Basic Human Needs\": 83.87, \"Foundation of Wellbeing\": 75.5, \"Opportunity\": 58.09, \"Life Expectancy\": 74.488, \"language\": \"{'grn': 'Guaran\\u00ed', 'spa': 'Spanish'}\", \"population\": 7132530, \"lat\": -23.0, \"lng\": -58.0, \"independent\": true, \"landlocked\": true, \"cca3\": \"PRY\", \"GDP per Capita\": 5.183714614589774e-06, \"Region\": \"Latin America and Caribbean\"}, {\"Overall rank\": 65, \"Score\": 5.697, \"Country\": \"Peru\", \"GDP (Billions)\": 225.858, \"Social Score\": 74.22, \"Basic Human Needs\": 82.46, \"Foundation of Wellbeing\": 78.5, \"Opportunity\": 61.69, \"Life Expectancy\": 77.234, \"language\": \"{'aym': 'Aymara', 'que': 'Quechua', 'spa': 'Spanish'}\", \"population\": 32971846, \"lat\": -10.0, \"lng\": -76.0, \"independent\": true, \"landlocked\": false, \"cca3\": \"PER\", \"GDP per Capita\": 6.850025928181273e-06, \"Region\": \"Latin America and Caribbean\"}, {\"Overall rank\": 66, \"Score\": 5.693, \"Country\": \"Portugal\", \"GDP (Billions)\": 251.709, \"Social Score\": 87.79, \"Basic Human Needs\": 95.69, \"Foundation of Wellbeing\": 88.12, \"Opportunity\": 79.57, \"Life Expectancy\": 82.47, \"language\": \"{'por': 'Portuguese'}\", \"population\": 10305564, \"lat\": 39.5, \"lng\": -8.0, \"independent\": true, \"landlocked\": false, \"cca3\": \"PRT\", \"GDP per Capita\": 2.442457297824748e-05, \"Region\": \"Western Europe\"}, {\"Overall rank\": 67, \"Score\": 5.653, \"Country\": \"Pakistan\", \"GDP (Billions)\": 263.7, \"Social Score\": 49.25, \"Basic Human Needs\": 59.49, \"Foundation of Wellbeing\": 46.88, \"Opportunity\": 41.39, \"Life Expectancy\": 67.636, \"language\": \"{'eng': 'English', 'urd': 'Urdu'}\", \"population\": 220892331, \"lat\": 30.0, \"lng\": 70.0, \"independent\": true, \"landlocked\": false, \"cca3\": \"PAK\", \"GDP per Capita\": 1.193794274369806e-06, \"Region\": \"Southern Asia\"}, {\"Overall rank\": 68, \"Score\": 5.648, \"Country\": \"Russia\", \"GDP (Billions)\": 1647.568, \"Social Score\": 72.56, \"Basic Human Needs\": 84.05, \"Foundation of Wellbeing\": 74.18, \"Opportunity\": 59.44, \"Life Expectancy\": 72.842, \"language\": \"{'rus': 'Russian'}\", \"population\": 144104080, \"lat\": 60.0, \"lng\": 100.0, \"independent\": true, \"landlocked\": false, \"cca3\": \"RUS\", \"GDP per Capita\": 1.1433180795436187e-05, \"Region\": \"Central and Eastern Europe\"}, {\"Overall rank\": 69, \"Score\": 5.631, \"Country\": \"Philippines\", \"GDP (Billions)\": 385.737, \"Social Score\": 66.62, \"Basic Human Needs\": 70.74, \"Foundation of Wellbeing\": 71.24, \"Opportunity\": 57.87, \"Life Expectancy\": 71.534, \"language\": \"{'eng': 'English', 'fil': 'Filipino'}\", \"population\": 109581085, \"lat\": 13.0, \"lng\": 122.0, \"independent\": true, \"landlocked\": false, \"cca3\": \"PHL\", \"GDP per Capita\": 3.520105682472482e-06, \"Region\": \"Southeastern Asia\"}, {\"Overall rank\": 70, \"Score\": 5.603, \"Country\": \"Serbia\", \"GDP (Billions)\": 60.669, \"Social Score\": 75.54, \"Basic Human Needs\": 87.53, \"Foundation of Wellbeing\": 75.19, \"Opportunity\": 63.9, \"Life Expectancy\": 76.33, \"language\": \"{'srp': 'Serbian'}\", \"population\": 6908224, \"lat\": 44.0, \"lng\": 21.0, \"independent\": true, \"landlocked\": true, \"cca3\": \"SRB\", \"GDP per Capita\": 8.782141401321092e-06, \"Region\": \"Central and Eastern Europe\"}, {\"Overall rank\": 71, \"Score\": 5.529, \"Country\": \"Moldova\", \"GDP (Billions)\": 12.396, \"Social Score\": 72.58, \"Basic Human Needs\": 83.32, \"Foundation of Wellbeing\": 75.42, \"Opportunity\": 59.02, \"Life Expectancy\": 72.176, \"language\": \"{'ron': 'Moldavian'}\", \"population\": 2617820, \"lat\": 47.0, \"lng\": 29.0, \"independent\": true, \"landlocked\": true, \"cca3\": \"MDA\", \"GDP per Capita\": 4.73523771687893e-06, \"Region\": \"Central and Eastern Europe\"}, {\"Overall rank\": 73, \"Score\": 5.523, \"Country\": \"Montenegro\", \"GDP (Billions)\": 5.494, \"Social Score\": 74.42, \"Basic Human Needs\": 86.18, \"Foundation of Wellbeing\": 77.96, \"Opportunity\": 59.12, \"Life Expectancy\": 77.242, \"language\": \"{'cnr': 'Montenegrin'}\", \"population\": 621718, \"lat\": 42.5, \"lng\": 19.3, \"independent\": true, \"landlocked\": false, \"cca3\": \"MNE\", \"GDP per Capita\": 8.836803824241859e-06, \"Region\": \"Central and Eastern Europe\"}, {\"Overall rank\": 74, \"Score\": 5.467, \"Country\": \"Tajikistan\", \"GDP (Billions)\": 8.104, \"Social Score\": 56.99, \"Basic Human Needs\": 76.81, \"Foundation of Wellbeing\": 59.94, \"Opportunity\": 34.22, \"Life Expectancy\": 71.562, \"language\": \"{'rus': 'Russian', 'tgk': 'Tajik'}\", \"population\": 9537642, \"lat\": 39.0, \"lng\": 71.0, \"independent\": true, \"landlocked\": true, \"cca3\": \"TJK\", \"GDP per Capita\": 8.496859076908108e-07, \"Region\": \"Central and Eastern Europe\"}, {\"Overall rank\": 75, \"Score\": 5.432, \"Country\": \"Croatia\", \"GDP (Billions)\": 63.399, \"Social Score\": 81.92, \"Basic Human Needs\": 91.29, \"Foundation of Wellbeing\": 84.79, \"Opportunity\": 69.69, \"Life Expectancy\": 78.866, \"language\": \"{'hrv': 'Croatian'}\", \"population\": 4047200, \"lat\": 45.16666666, \"lng\": 15.5, \"independent\": true, \"landlocked\": false, \"cca3\": \"HRV\", \"GDP per Capita\": 1.5664904131251235e-05, \"Region\": \"Central and Eastern Europe\"}, {\"Overall rank\": 77, \"Score\": 5.425, \"Country\": \"Dominican Republic\", \"GDP (Billions)\": 89.502, \"Social Score\": 71.05, \"Basic Human Needs\": 78.69, \"Foundation of Wellbeing\": 74.99, \"Opportunity\": 59.48, \"Life Expectancy\": 74.482, \"language\": \"{'spa': 'Spanish'}\", \"population\": 10847904, \"lat\": 19.0, \"lng\": -70.66666666, \"independent\": true, \"landlocked\": false, \"cca3\": \"DOM\", \"GDP per Capita\": 8.250626111735502e-06, \"Region\": \"Latin America and Caribbean\"}, {\"Overall rank\": 79, \"Score\": 5.373, \"Country\": \"Turkey\", \"GDP (Billions)\": 795.952, \"Social Score\": 68.27, \"Basic Human Needs\": 85.2, \"Foundation of Wellbeing\": 67.47, \"Opportunity\": 52.14, \"Life Expectancy\": 78.222, \"language\": \"{'tur': 'Turkish'}\", \"population\": 84339067, \"lat\": 39.0, \"lng\": 35.0, \"independent\": true, \"landlocked\": false, \"cca3\": \"TUR\", \"GDP per Capita\": 9.437524368155508e-06, \"Region\": \"Middle East and Northern Africa\"}, {\"Overall rank\": 80, \"Score\": 5.339, \"Country\": \"Malaysia\", \"GDP (Billions)\": 371.114, \"Social Score\": 76.96, \"Basic Human Needs\": 88.77, \"Foundation of Wellbeing\": 80.52, \"Opportunity\": 61.59, \"Life Expectancy\": 76.506, \"language\": \"{'eng': 'English', 'msa': 'Malay'}\", \"population\": 32365998, \"lat\": 2.5, \"lng\": 112.5, \"independent\": true, \"landlocked\": false, \"cca3\": \"MYS\", \"GDP per Capita\": 1.1466168909730514e-05, \"Region\": \"Southeastern Asia\"}, {\"Overall rank\": 81, \"Score\": 5.323, \"Country\": \"Belarus\", \"GDP (Billions)\": 65.754, \"Social Score\": 77.0, \"Basic Human Needs\": 89.8, \"Foundation of Wellbeing\": 76.83, \"Opportunity\": 64.38, \"Life Expectancy\": 75.058, \"language\": \"{'bel': 'Belarusian', 'rus': 'Russian'}\", \"population\": 9398861, \"lat\": 53.0, \"lng\": 28.0, \"independent\": true, \"landlocked\": true, \"cca3\": \"BLR\", \"GDP per Capita\": 6.99595408422361e-06, \"Region\": \"Central and Eastern Europe\"}, {\"Overall rank\": 82, \"Score\": 5.287, \"Country\": \"Greece\", \"GDP (Billions)\": 211.645, \"Social Score\": 85.78, \"Basic Human Needs\": 93.78, \"Foundation of Wellbeing\": 85.11, \"Opportunity\": 78.46, \"Life Expectancy\": 82.636, \"language\": \"{'ell': 'Greek'}\", \"population\": 10715549, \"lat\": 39.0, \"lng\": 22.0, \"independent\": true, \"landlocked\": false, \"cca3\": \"GRC\", \"GDP per Capita\": 1.9751204534644004e-05, \"Region\": \"Western Europe\"}, {\"Overall rank\": 83, \"Score\": 5.285, \"Country\": \"Mongolia\", \"GDP (Billions)\": 14.28, \"Social Score\": 71.07, \"Basic Human Needs\": 77.42, \"Foundation of Wellbeing\": 71.27, \"Opportunity\": 64.52, \"Life Expectancy\": 70.334, \"language\": \"{'mon': 'Mongolian'}\", \"population\": 3278292, \"lat\": 46.0, \"lng\": 105.0, \"independent\": true, \"landlocked\": true, \"cca3\": \"MNG\", \"GDP per Capita\": 4.355926805787892e-06, \"Region\": \"Eastern Asia\"}, {\"Overall rank\": 84, \"Score\": 5.274, \"Country\": \"North Macedonia\", \"GDP (Billions)\": 13.885, \"Social Score\": 73.16, \"Basic Human Needs\": 88.15, \"Foundation of Wellbeing\": 75.06, \"Opportunity\": 56.25, \"Life Expectancy\": 76.128, \"language\": \"{'mkd': 'Macedonian'}\", \"population\": 2077132, \"lat\": 41.83333333, \"lng\": 22.0, \"independent\": true, \"landlocked\": true, \"cca3\": \"MKD\", \"GDP per Capita\": 6.68469793927396e-06, \"Region\": \"Western Europe\"}, {\"Overall rank\": 85, \"Score\": 5.265, \"Country\": \"Nigeria\", \"GDP (Billions)\": 480.482, \"Social Score\": 51.31, \"Basic Human Needs\": 50.82, \"Foundation of Wellbeing\": 57.47, \"Opportunity\": 45.64, \"Life Expectancy\": 55.436, \"language\": \"{'eng': 'English'}\", \"population\": 206139587, \"lat\": 10.0, \"lng\": 8.0, \"independent\": true, \"landlocked\": false, \"cca3\": \"NGA\", \"GDP per Capita\": 2.330857488329013e-06, \"Region\": \"Sub-Saharan Africa\"}, {\"Overall rank\": 87, \"Score\": 5.247, \"Country\": \"Turkmenistan\", \"GDP (Billions)\": 53.087, \"Social Score\": 58.35, \"Basic Human Needs\": 83.18, \"Foundation of Wellbeing\": 59.84, \"Opportunity\": 32.05, \"Life Expectancy\": 68.5, \"language\": \"{'rus': 'Russian', 'tuk': 'Turkmen'}\", \"population\": 6031187, \"lat\": 40.0, \"lng\": 60.0, \"independent\": true, \"landlocked\": true, \"cca3\": \"TKM\", \"GDP per Capita\": 8.80208158029257e-06, \"Region\": \"Central and Eastern Europe\"}, {\"Overall rank\": 88, \"Score\": 5.211, \"Country\": \"Algeria\", \"GDP (Billions)\": 163.812, \"Social Score\": 69.92, \"Basic Human Needs\": 87.69, \"Foundation of Wellbeing\": 66.05, \"Opportunity\": 56.02, \"Life Expectancy\": 77.318, \"language\": \"{'ara': 'Arabic'}\", \"population\": 44700000, \"lat\": 28.0, \"lng\": 3.0, \"independent\": true, \"landlocked\": false, \"cca3\": \"DZA\", \"GDP per Capita\": 3.664697986577181e-06, \"Region\": \"Middle East and Northern Africa\"}, {\"Overall rank\": 89, \"Score\": 5.208, \"Country\": \"Morocco\", \"GDP (Billions)\": 126.035, \"Social Score\": 66.9, \"Basic Human Needs\": 84.78, \"Foundation of Wellbeing\": 64.5, \"Opportunity\": 51.43, \"Life Expectancy\": 77.21, \"language\": \"{'ara': 'Arabic', 'ber': 'Berber'}\", \"population\": 36910558, \"lat\": 32.0, \"lng\": -5.0, \"independent\": true, \"landlocked\": false, \"cca3\": \"MAR\", \"GDP per Capita\": 3.41460565294082e-06, \"Region\": \"Middle East and Northern Africa\"}, {\"Overall rank\": 90, \"Score\": 5.208, \"Country\": \"Azerbaijan\", \"GDP (Billions)\": 52.645, \"Social Score\": 64.11, \"Basic Human Needs\": 83.4, \"Foundation of Wellbeing\": 67.62, \"Opportunity\": 41.32, \"Life Expectancy\": 73.226, \"language\": \"{'aze': 'Azerbaijani', 'rus': 'Russian'}\", \"population\": 10110116, \"lat\": 40.5, \"lng\": 47.5, \"independent\": true, \"landlocked\": true, \"cca3\": \"AZE\", \"GDP per Capita\": 5.207160827828287e-06, \"Region\": \"Central and Eastern Europe\"}, {\"Overall rank\": 91, \"Score\": 5.197, \"Country\": \"Lebanon\", \"GDP (Billions)\": 33.38, \"Social Score\": 69.37, \"Basic Human Needs\": 84.32, \"Foundation of Wellbeing\": 67.14, \"Opportunity\": 56.63, \"Life Expectancy\": 79.18, \"language\": \"{'ara': 'Arabic', 'fra': 'French'}\", \"population\": 6825442, \"lat\": 33.83333333, \"lng\": 35.83333333, \"independent\": true, \"landlocked\": false, \"cca3\": \"LBN\", \"GDP per Capita\": 4.890525771078269e-06, \"Region\": \"Middle East and Northern Africa\"}, {\"Overall rank\": 92, \"Score\": 5.192, \"Country\": \"Indonesia\", \"GDP (Billions)\": 1150.245, \"Social Score\": 69.49, \"Basic Human Needs\": 79.79, \"Foundation of Wellbeing\": 68.76, \"Opportunity\": 59.92, \"Life Expectancy\": 72.138, \"language\": \"{'ind': 'Indonesian'}\", \"population\": 273523621, \"lat\": -5.0, \"lng\": 120.0, \"independent\": true, \"landlocked\": false, \"cca3\": \"IDN\", \"GDP per Capita\": 4.20528580235489e-06, \"Region\": \"Southeastern Asia\"}, {\"Overall rank\": 93, \"Score\": 5.191, \"Country\": \"China\", \"GDP (Billions)\": 16862.979, \"Social Score\": 66.12, \"Basic Human Needs\": 82.93, \"Foundation of Wellbeing\": 64.79, \"Opportunity\": 50.63, \"Life Expectancy\": 77.3, \"language\": \"{'zho': 'Chinese'}\", \"population\": 1402112000, \"lat\": 35.0, \"lng\": 105.0, \"independent\": true, \"landlocked\": false, \"cca3\": \"CHN\", \"GDP per Capita\": 1.202684165031039e-05, \"Region\": \"Eastern Asia\"}, {\"Overall rank\": 94, \"Score\": 5.175, \"Country\": \"Vietnam\", \"GDP (Billions)\": 368.002, \"Social Score\": 68.85, \"Basic Human Needs\": 82.03, \"Foundation of Wellbeing\": 72.31, \"Opportunity\": 52.23, \"Life Expectancy\": 75.67, \"language\": \"{'vie': 'Vietnamese'}\", \"population\": 97338583, \"lat\": 16.16666666, \"lng\": 107.83333333, \"independent\": true, \"landlocked\": false, \"cca3\": \"VNM\", \"GDP per Capita\": 3.780638557271786e-06, \"Region\": \"Southeastern Asia\"}, {\"Overall rank\": 95, \"Score\": 5.082, \"Country\": \"Bhutan\", \"GDP (Billions)\": 2.48, \"Social Score\": 68.34, \"Basic Human Needs\": 82.02, \"Foundation of Wellbeing\": 65.9, \"Opportunity\": 57.09, \"Life Expectancy\": 72.472, \"language\": \"{'dzo': 'Dzongkha'}\", \"population\": 771612, \"lat\": 27.5, \"lng\": 90.5, \"independent\": true, \"landlocked\": true, \"cca3\": \"BTN\", \"GDP per Capita\": 3.214050585009046e-06, \"Region\": \"Southern Asia\"}, {\"Overall rank\": 96, \"Score\": 5.044, \"Country\": \"Cameroon\", \"GDP (Billions)\": 44.806, \"Social Score\": 51.29, \"Basic Human Needs\": 56.31, \"Foundation of Wellbeing\": 54.2, \"Opportunity\": 43.36, \"Life Expectancy\": 60.01, \"language\": \"{'eng': 'English', 'fra': 'French'}\", \"population\": 26545864, \"lat\": 6.0, \"lng\": 12.0, \"independent\": true, \"landlocked\": false, \"cca3\": \"CMR\", \"GDP per Capita\": 1.6878712254383585e-06, \"Region\": \"Sub-Saharan Africa\"}, {\"Overall rank\": 97, \"Score\": 5.011, \"Country\": \"Bulgaria\", \"GDP (Billions)\": 77.907, \"Social Score\": 79.86, \"Basic Human Needs\": 90.88, \"Foundation of Wellbeing\": 78.19, \"Opportunity\": 70.51, \"Life Expectancy\": 75.362, \"language\": \"{'bul': 'Bulgarian'}\", \"population\": 6927288, \"lat\": 43.0, \"lng\": 25.0, \"independent\": true, \"landlocked\": false, \"cca3\": \"BGR\", \"GDP per Capita\": 1.1246392527638522e-05, \"Region\": \"Central and Eastern Europe\"}, {\"Overall rank\": 98, \"Score\": 4.996, \"Country\": \"Ghana\", \"GDP (Billions)\": 75.487, \"Social Score\": 64.86, \"Basic Human Needs\": 65.19, \"Foundation of Wellbeing\": 68.04, \"Opportunity\": 61.35, \"Life Expectancy\": 64.682, \"language\": \"{'eng': 'English'}\", \"population\": 31072945, \"lat\": 8.0, \"lng\": -2.0, \"independent\": true, \"landlocked\": false, \"cca3\": \"GHA\", \"GDP per Capita\": 2.4293481033098085e-06, \"Region\": \"Sub-Saharan Africa\"}, {\"Overall rank\": 100, \"Score\": 4.913, \"Country\": \"Nepal\", \"GDP (Billions)\": 34.265, \"Social Score\": 57.6, \"Basic Human Needs\": 67.59, \"Foundation of Wellbeing\": 53.43, \"Opportunity\": 51.79, \"Life Expectancy\": 71.454, \"language\": \"{'nep': 'Nepali'}\", \"population\": 29136808, \"lat\": 28.0, \"lng\": 84.0, \"independent\": true, \"landlocked\": true, \"cca3\": \"NPL\", \"GDP per Capita\": 1.1760039054380974e-06, \"Region\": \"Southern Asia\"}, {\"Overall rank\": 101, \"Score\": 4.906, \"Country\": \"Jordan\", \"GDP (Billions)\": 45.344, \"Social Score\": 71.5, \"Basic Human Needs\": 89.35, \"Foundation of Wellbeing\": 69.61, \"Opportunity\": 55.54, \"Life Expectancy\": 74.874, \"language\": \"{'ara': 'Arabic'}\", \"population\": 10203140, \"lat\": 31.0, \"lng\": 36.0, \"independent\": true, \"landlocked\": false, \"cca3\": \"JOR\", \"GDP per Capita\": 4.44412210358772e-06, \"Region\": \"Middle East and Northern Africa\"}, {\"Overall rank\": 102, \"Score\": 4.883, \"Country\": \"Benin\", \"GDP (Billions)\": 18.067, \"Social Score\": 55.56, \"Basic Human Needs\": 51.94, \"Foundation of Wellbeing\": 60.97, \"Opportunity\": 53.77, \"Life Expectancy\": 62.532, \"language\": \"{'fra': 'French'}\", \"population\": 12123198, \"lat\": 9.5, \"lng\": 2.25, \"independent\": true, \"landlocked\": false, \"cca3\": \"BEN\", \"GDP per Capita\": 1.4902833394290846e-06, \"Region\": \"Sub-Saharan Africa\"}, {\"Overall rank\": 104, \"Score\": 4.799, \"Country\": \"Gabon\", \"GDP (Billions)\": 18.293, \"Social Score\": 63.93, \"Basic Human Needs\": 73.31, \"Foundation of Wellbeing\": 62.78, \"Opportunity\": 55.71, \"Life Expectancy\": 66.836, \"language\": \"{'fra': 'French'}\", \"population\": 2225728, \"lat\": -1.0, \"lng\": 11.75, \"independent\": true, \"landlocked\": false, \"cca3\": \"GAB\", \"GDP per Capita\": 8.218883888777066e-06, \"Region\": \"Sub-Saharan Africa\"}, {\"Overall rank\": 106, \"Score\": 4.722, \"Country\": \"South Africa\", \"GDP (Billions)\": 415.315, \"Social Score\": 70.26, \"Basic Human Needs\": 73.35, \"Foundation of Wellbeing\": 69.28, \"Opportunity\": 68.14, \"Life Expectancy\": 64.628, \"language\": \"{'afr': 'Afrikaans', 'eng': 'English', 'nbl': 'Southern Ndebele', 'nso': 'Northern Sotho', 'sot': 'Southern Sotho', 'ssw': 'Swazi', 'tsn': 'Tswana', 'tso': 'Tsonga', 'ven': 'Venda', 'xho': 'Xhosa', 'zul': 'Zulu'}\", \"population\": 59308690, \"lat\": -29.0, \"lng\": 24.0, \"independent\": true, \"landlocked\": false, \"cca3\": \"ZAF\", \"GDP per Capita\": 7.002599450434667e-06, \"Region\": \"Sub-Saharan Africa\"}, {\"Overall rank\": 107, \"Score\": 4.719, \"Country\": \"Albania\", \"GDP (Billions)\": 16.77, \"Social Score\": 75.41, \"Basic Human Needs\": 86.92, \"Foundation of Wellbeing\": 82.71, \"Opportunity\": 56.6, \"Life Expectancy\": 78.844, \"language\": \"{'sqi': 'Albanian'}\", \"population\": 2837743, \"lat\": 41.0, \"lng\": 20.0, \"independent\": true, \"landlocked\": false, \"cca3\": \"ALB\", \"GDP per Capita\": 5.9096260655034655e-06, \"Region\": \"Central and Eastern Europe\"}, {\"Overall rank\": 109, \"Score\": 4.7, \"Country\": \"Cambodia\", \"GDP (Billions)\": 26.08, \"Social Score\": 56.27, \"Basic Human Needs\": 67.27, \"Foundation of Wellbeing\": 62.09, \"Opportunity\": 39.43, \"Life Expectancy\": 70.32, \"language\": \"{'khm': 'Khmer'}\", \"population\": 16718971, \"lat\": 13.0, \"lng\": 105.0, \"independent\": true, \"landlocked\": false, \"cca3\": \"KHM\", \"GDP per Capita\": 1.5599046137468626e-06, \"Region\": \"Southeastern Asia\"}, {\"Overall rank\": 111, \"Score\": 4.681, \"Country\": \"Senegal\", \"GDP (Billions)\": 27.576, \"Social Score\": 60.04, \"Basic Human Needs\": 66.2, \"Foundation of Wellbeing\": 61.17, \"Opportunity\": 52.76, \"Life Expectancy\": 68.59, \"language\": \"{'fra': 'French'}\", \"population\": 16743930, \"lat\": 14.0, \"lng\": -14.0, \"independent\": true, \"landlocked\": false, \"cca3\": \"SEN\", \"GDP per Capita\": 1.6469251842309422e-06, \"Region\": \"Sub-Saharan Africa\"}, {\"Overall rank\": 112, \"Score\": 4.668, \"Country\": \"Somalia\", \"GDP (Billions)\": 5.424, \"Social Score\": 35.58, \"Basic Human Needs\": 36.87, \"Foundation of Wellbeing\": 43.98, \"Opportunity\": 25.9, \"Life Expectancy\": 58.06, \"language\": \"{'ara': 'Arabic', 'som': 'Somali'}\", \"population\": 15893219, \"lat\": 10.0, \"lng\": 49.0, \"independent\": true, \"landlocked\": false, \"cca3\": \"SOM\", \"GDP per Capita\": 3.4127762286544977e-07, \"Region\": \"Sub-Saharan Africa\"}, {\"Overall rank\": 113, \"Score\": 4.639, \"Country\": \"Namibia\", \"GDP (Billions)\": 12.213, \"Social Score\": 67.14, \"Basic Human Needs\": 67.29, \"Foundation of Wellbeing\": 70.92, \"Opportunity\": 63.21, \"Life Expectancy\": 64.492, \"language\": \"{'afr': 'Afrikaans', 'deu': 'German', 'eng': 'English', 'her': 'Herero', 'hgm': 'Khoekhoe', 'kwn': 'Kwangali', 'loz': 'Lozi', 'ndo': 'Ndonga', 'tsn': 'Tswana'}\", \"population\": 2540916, \"lat\": -22.0, \"lng\": 17.0, \"independent\": true, \"landlocked\": false, \"cca3\": \"NAM\", \"GDP per Capita\": 4.806534336436151e-06, \"Region\": \"Sub-Saharan Africa\"}, {\"Overall rank\": 114, \"Score\": 4.628, \"Country\": \"Niger\", \"GDP (Billions)\": 15.637, \"Social Score\": 42.21, \"Basic Human Needs\": 42.2, \"Foundation of Wellbeing\": 42.81, \"Opportunity\": 41.63, \"Life Expectancy\": 63.256, \"language\": \"{'fra': 'French'}\", \"population\": 24206636, \"lat\": 16.0, \"lng\": 8.0, \"independent\": true, \"landlocked\": true, \"cca3\": \"NER\", \"GDP per Capita\": 6.459798874986182e-07, \"Region\": \"Sub-Saharan Africa\"}, {\"Overall rank\": 115, \"Score\": 4.587, \"Country\": \"Burkina Faso\", \"GDP (Billions)\": 19.932, \"Social Score\": 49.87, \"Basic Human Needs\": 47.93, \"Foundation of Wellbeing\": 54.74, \"Opportunity\": 46.95, \"Life Expectancy\": 62.568, \"language\": \"{'fra': 'French'}\", \"population\": 20903278, \"lat\": 13.0, \"lng\": -2.0, \"independent\": true, \"landlocked\": true, \"cca3\": \"BFA\", \"GDP per Capita\": 9.535346561434048e-07, \"Region\": \"Sub-Saharan Africa\"}, {\"Overall rank\": 116, \"Score\": 4.559, \"Country\": \"Armenia\", \"GDP (Billions)\": 13.612, \"Social Score\": 76.46, \"Basic Human Needs\": 87.91, \"Foundation of Wellbeing\": 78.22, \"Opportunity\": 63.24, \"Life Expectancy\": 75.414, \"language\": \"{'hye': 'Armenian'}\", \"population\": 2963234, \"lat\": 40.0, \"lng\": 45.0, \"independent\": true, \"landlocked\": true, \"cca3\": \"ARM\", \"GDP per Capita\": 4.593629797714255e-06, \"Region\": \"Central and Eastern Europe\"}, {\"Overall rank\": 118, \"Score\": 4.534, \"Country\": \"Guinea\", \"GDP (Billions)\": 16.724, \"Social Score\": 43.41, \"Basic Human Needs\": 44.61, \"Foundation of Wellbeing\": 52.88, \"Opportunity\": 32.76, \"Life Expectancy\": 62.32, \"language\": \"{'fra': 'French'}\", \"population\": 13132792, \"lat\": 11.0, \"lng\": -10.0, \"independent\": true, \"landlocked\": false, \"cca3\": \"GIN\", \"GDP per Capita\": 1.273453504784055e-06, \"Region\": \"Sub-Saharan Africa\"}, {\"Overall rank\": 119, \"Score\": 4.519, \"Country\": \"Georgia\", \"GDP (Billions)\": 17.846, \"Social Score\": 74.85, \"Basic Human Needs\": 83.79, \"Foundation of Wellbeing\": 77.14, \"Opportunity\": 63.64, \"Life Expectancy\": 74.096, \"language\": \"{'kat': 'Georgian'}\", \"population\": 3714000, \"lat\": 42.0, \"lng\": 43.5, \"independent\": true, \"landlocked\": false, \"cca3\": \"GEO\", \"GDP per Capita\": 4.805061927840604e-06, \"Region\": \"Central and Eastern Europe\"}, {\"Overall rank\": 121, \"Score\": 4.509, \"Country\": \"Kenya\", \"GDP (Billions)\": 109.491, \"Social Score\": 57.1, \"Basic Human Needs\": 55.97, \"Foundation of Wellbeing\": 64.6, \"Opportunity\": 50.74, \"Life Expectancy\": 67.212, \"language\": \"{'eng': 'English', 'swa': 'Swahili'}\", \"population\": 53771300, \"lat\": 1.0, \"lng\": 38.0, \"independent\": true, \"landlocked\": false, \"cca3\": \"KEN\", \"GDP per Capita\": 2.0362349431760066e-06, \"Region\": \"Sub-Saharan Africa\"}, {\"Overall rank\": 122, \"Score\": 4.49, \"Country\": \"Mauritania\", \"GDP (Billions)\": 9.164, \"Social Score\": 48.95, \"Basic Human Needs\": 56.63, \"Foundation of Wellbeing\": 52.69, \"Opportunity\": 37.52, \"Life Expectancy\": 65.378, \"language\": \"{'ara': 'Arabic'}\", \"population\": 4649660, \"lat\": 20.0, \"lng\": -12.0, \"independent\": true, \"landlocked\": false, \"cca3\": \"MRT\", \"GDP per Capita\": 1.9708967967550315e-06, \"Region\": \"Sub-Saharan Africa\"}, {\"Overall rank\": 123, \"Score\": 4.466, \"Country\": \"Mozambique\", \"GDP (Billions)\": 15.833, \"Social Score\": 49.0, \"Basic Human Needs\": 46.93, \"Foundation of Wellbeing\": 56.22, \"Opportunity\": 43.85, \"Life Expectancy\": 61.714, \"language\": \"{'por': 'Portuguese'}\", \"population\": 31255435, \"lat\": -18.25, \"lng\": 35.0, \"independent\": true, \"landlocked\": false, \"cca3\": \"MOZ\", \"GDP per Capita\": 5.0656789771123e-07, \"Region\": \"Sub-Saharan Africa\"}, {\"Overall rank\": 124, \"Score\": 4.461, \"Country\": \"Tunisia\", \"GDP (Billions)\": 42.733, \"Social Score\": 75.02, \"Basic Human Needs\": 85.56, \"Foundation of Wellbeing\": 71.29, \"Opportunity\": 68.19, \"Life Expectancy\": 77.17, \"language\": \"{'ara': 'Arabic'}\", \"population\": 11818618, \"lat\": 34.0, \"lng\": 9.0, \"independent\": true, \"landlocked\": false, \"cca3\": \"TUN\", \"GDP per Capita\": 3.615735782305511e-06, \"Region\": \"Middle East and Northern Africa\"}, {\"Overall rank\": 125, \"Score\": 4.456, \"Country\": \"Bangladesh\", \"GDP (Billions)\": 355.689, \"Social Score\": 55.23, \"Basic Human Needs\": 64.18, \"Foundation of Wellbeing\": 59.75, \"Opportunity\": 41.76, \"Life Expectancy\": 73.286, \"language\": \"{'ben': 'Bengali'}\", \"population\": 164689383, \"lat\": 24.0, \"lng\": 90.0, \"independent\": true, \"landlocked\": false, \"cca3\": \"BGD\", \"GDP per Capita\": 2.15975670999994e-06, \"Region\": \"Southern Asia\"}, {\"Overall rank\": 126, \"Score\": 4.437, \"Country\": \"Iraq\", \"GDP (Billions)\": 201.472, \"Social Score\": 63.52, \"Basic Human Needs\": 78.06, \"Foundation of Wellbeing\": 63.19, \"Opportunity\": 49.31, \"Life Expectancy\": 70.938, \"language\": \"{'ara': 'Arabic', 'arc': 'Aramaic', 'ckb': 'Sorani'}\", \"population\": 40222503, \"lat\": 33.0, \"lng\": 44.0, \"independent\": true, \"landlocked\": false, \"cca3\": \"IRQ\", \"GDP per Capita\": 5.008937409986644e-06, \"Region\": \"Middle East and Northern Africa\"}, {\"Overall rank\": 128, \"Score\": 4.39, \"Country\": \"Mali\", \"GDP (Billions)\": 19.563, \"Social Score\": 48.29, \"Basic Human Needs\": 51.99, \"Foundation of Wellbeing\": 51.69, \"Opportunity\": 41.19, \"Life Expectancy\": 60.174, \"language\": \"{'fra': 'French'}\", \"population\": 20250834, \"lat\": 17.0, \"lng\": -4.0, \"independent\": true, \"landlocked\": true, \"cca3\": \"MLI\", \"GDP per Capita\": 9.66034287773037e-07, \"Region\": \"Sub-Saharan Africa\"}, {\"Overall rank\": 129, \"Score\": 4.374, \"Country\": \"Sierra Leone\", \"GDP (Billions)\": 4.407, \"Social Score\": 51.74, \"Basic Human Needs\": 47.0, \"Foundation of Wellbeing\": 58.15, \"Opportunity\": 50.07, \"Life Expectancy\": 55.55, \"language\": \"{'eng': 'English'}\", \"population\": 7976985, \"lat\": 8.5, \"lng\": -11.5, \"independent\": true, \"landlocked\": false, \"cca3\": \"SLE\", \"GDP per Capita\": 5.524643709371398e-07, \"Region\": \"Sub-Saharan Africa\"}, {\"Overall rank\": 130, \"Score\": 4.366, \"Country\": \"Sri Lanka\", \"GDP (Billions)\": 80.785, \"Social Score\": 73.2, \"Basic Human Needs\": 81.89, \"Foundation of Wellbeing\": 80.33, \"Opportunity\": 57.39, \"Life Expectancy\": 77.392, \"language\": \"{'sin': 'Sinhala', 'tam': 'Tamil'}\", \"population\": 21919000, \"lat\": 7.0, \"lng\": 81.0, \"independent\": true, \"landlocked\": false, \"cca3\": \"LKA\", \"GDP per Capita\": 3.68561521967243e-06, \"Region\": \"Southern Asia\"}, {\"Overall rank\": 131, \"Score\": 4.36, \"Country\": \"Myanmar\", \"GDP (Billions)\": 66.74, \"Social Score\": 55.99, \"Basic Human Needs\": 64.61, \"Foundation of Wellbeing\": 59.27, \"Opportunity\": 44.1, \"Life Expectancy\": 67.576, \"language\": \"{'mya': 'Burmese'}\", \"population\": 54409794, \"lat\": 22.0, \"lng\": 98.0, \"independent\": true, \"landlocked\": false, \"cca3\": \"MMR\", \"GDP per Capita\": 1.2266173990660575e-06, \"Region\": \"Southeastern Asia\"}, {\"Overall rank\": 132, \"Score\": 4.35, \"Country\": \"Chad\", \"GDP (Billions)\": 12.345, \"Social Score\": 31.29, \"Basic Human Needs\": 30.87, \"Foundation of Wellbeing\": 37.89, \"Opportunity\": 25.1, \"Life Expectancy\": 54.896, \"language\": \"{'ara': 'Arabic', 'fra': 'French'}\", \"population\": 16425859, \"lat\": 15.0, \"lng\": 19.0, \"independent\": true, \"landlocked\": true, \"cca3\": \"TCD\", \"GDP per Capita\": 7.515588682454903e-07, \"Region\": \"Sub-Saharan Africa\"}, {\"Overall rank\": 133, \"Score\": 4.332, \"Country\": \"Ukraine\", \"GDP (Billions)\": 181.038, \"Social Score\": 73.38, \"Basic Human Needs\": 83.36, \"Foundation of Wellbeing\": 71.97, \"Opportunity\": 64.79, \"Life Expectancy\": 72.364, \"language\": \"{'ukr': 'Ukrainian'}\", \"population\": 44134693, \"lat\": 49.0, \"lng\": 32.0, \"independent\": true, \"landlocked\": false, \"cca3\": \"UKR\", \"GDP per Capita\": 4.101943113096992e-06, \"Region\": \"Central and Eastern Europe\"}, {\"Overall rank\": 134, \"Score\": 4.286, \"Country\": \"Ethiopia\", \"GDP (Billions)\": 92.757, \"Social Score\": 48.59, \"Basic Human Needs\": 51.65, \"Foundation of Wellbeing\": 53.38, \"Opportunity\": 40.74, \"Life Expectancy\": 67.442, \"language\": \"{'amh': 'Amharic'}\", \"population\": 114963583, \"lat\": 8.0, \"lng\": 38.0, \"independent\": true, \"landlocked\": true, \"cca3\": \"ETH\", \"GDP per Capita\": 8.068381097690736e-07, \"Region\": \"Sub-Saharan Africa\"}, {\"Overall rank\": 136, \"Score\": 4.189, \"Country\": \"Uganda\", \"GDP (Billions)\": 43.243, \"Social Score\": 52.98, \"Basic Human Needs\": 53.67, \"Foundation of Wellbeing\": 59.2, \"Opportunity\": 46.08, \"Life Expectancy\": 64.056, \"language\": \"{'eng': 'English', 'swa': 'Swahili'}\", \"population\": 45741000, \"lat\": 1.0, \"lng\": 32.0, \"independent\": true, \"landlocked\": true, \"cca3\": \"UGA\", \"GDP per Capita\": 9.453881637917842e-07, \"Region\": \"Sub-Saharan Africa\"}, {\"Overall rank\": 137, \"Score\": 4.166, \"Country\": \"Egypt\", \"GDP (Billions)\": 396.328, \"Social Score\": 59.98, \"Basic Human Needs\": 79.41, \"Foundation of Wellbeing\": 51.55, \"Opportunity\": 48.98, \"Life Expectancy\": 72.38, \"language\": \"{'ara': 'Arabic'}\", \"population\": 102334403, \"lat\": 27.0, \"lng\": 30.0, \"independent\": true, \"landlocked\": false, \"cca3\": \"EGY\", \"GDP per Capita\": 3.872871569886424e-06, \"Region\": \"Middle East and Northern Africa\"}, {\"Overall rank\": 138, \"Score\": 4.107, \"Country\": \"Zambia\", \"GDP (Billions)\": 21.699, \"Social Score\": 55.34, \"Basic Human Needs\": 56.09, \"Foundation of Wellbeing\": 59.94, \"Opportunity\": 49.99, \"Life Expectancy\": 64.412, \"language\": \"{'eng': 'English'}\", \"population\": 18383956, \"lat\": -15.0, \"lng\": 30.0, \"independent\": true, \"landlocked\": true, \"cca3\": \"ZMB\", \"GDP per Capita\": 1.1803226683092583e-06, \"Region\": \"Sub-Saharan Africa\"}, {\"Overall rank\": 139, \"Score\": 4.085, \"Country\": \"Togo\", \"GDP (Billions)\": 8.493, \"Social Score\": 53.05, \"Basic Human Needs\": 50.8, \"Foundation of Wellbeing\": 60.51, \"Opportunity\": 47.84, \"Life Expectancy\": 61.81, \"language\": \"{'fra': 'French'}\", \"population\": 8278737, \"lat\": 8.0, \"lng\": 1.16666666, \"independent\": true, \"landlocked\": false, \"cca3\": \"TGO\", \"GDP per Capita\": 1.025881121721828e-06, \"Region\": \"Sub-Saharan Africa\"}, {\"Overall rank\": 140, \"Score\": 4.015, \"Country\": \"India\", \"GDP (Billions)\": 2946.061, \"Social Score\": 56.8, \"Basic Human Needs\": 66.24, \"Foundation of Wellbeing\": 50.15, \"Opportunity\": 54.01, \"Life Expectancy\": 70.19, \"language\": \"{'eng': 'English', 'hin': 'Hindi', 'tam': 'Tamil'}\", \"population\": 1380004385, \"lat\": 20.0, \"lng\": 77.0, \"independent\": true, \"landlocked\": false, \"cca3\": \"IND\", \"GDP per Capita\": 2.134820028126215e-06, \"Region\": \"Southern Asia\"}, {\"Overall rank\": 141, \"Score\": 3.975, \"Country\": \"Liberia\", \"GDP (Billions)\": 3.384, \"Social Score\": 51.37, \"Basic Human Needs\": 47.75, \"Foundation of Wellbeing\": 52.42, \"Opportunity\": 53.94, \"Life Expectancy\": 64.72, \"language\": \"{'eng': 'English'}\", \"population\": 5057677, \"lat\": 6.5, \"lng\": -9.5, \"independent\": true, \"landlocked\": false, \"cca3\": \"LBR\", \"GDP per Capita\": 6.690818729626269e-07, \"Region\": \"Sub-Saharan Africa\"}, {\"Overall rank\": 143, \"Score\": 3.933, \"Country\": \"Madagascar\", \"GDP (Billions)\": 14.101, \"Social Score\": 48.46, \"Basic Human Needs\": 43.54, \"Foundation of Wellbeing\": 54.67, \"Opportunity\": 47.17, \"Life Expectancy\": 67.866, \"language\": \"{'fra': 'French', 'mlg': 'Malagasy'}\", \"population\": 27691019, \"lat\": -20.0, \"lng\": 47.0, \"independent\": true, \"landlocked\": false, \"cca3\": \"MDG\", \"GDP per Capita\": 5.092264751976083e-07, \"Region\": \"Sub-Saharan Africa\"}, {\"Overall rank\": 144, \"Score\": 3.802, \"Country\": \"Lesotho\", \"GDP (Billions)\": 2.478, \"Social Score\": 53.8, \"Basic Human Needs\": 44.33, \"Foundation of Wellbeing\": 60.05, \"Opportunity\": 57.02, \"Life Expectancy\": 55.222, \"language\": \"{'eng': 'English', 'sot': 'Sotho'}\", \"population\": 2142252, \"lat\": -29.5, \"lng\": 28.5, \"independent\": true, \"landlocked\": true, \"cca3\": \"LSO\", \"GDP per Capita\": 1.1567266596086735e-06, \"Region\": \"Sub-Saharan Africa\"}, {\"Overall rank\": 145, \"Score\": 3.775, \"Country\": \"Burundi\", \"GDP (Billions)\": 3.193, \"Social Score\": 41.2, \"Basic Human Needs\": 40.33, \"Foundation of Wellbeing\": 50.08, \"Opportunity\": 33.21, \"Life Expectancy\": 62.372, \"language\": \"{'fra': 'French', 'run': 'Kirundi'}\", \"population\": 11890781, \"lat\": -3.5, \"lng\": 30.0, \"independent\": true, \"landlocked\": true, \"cca3\": \"BDI\", \"GDP per Capita\": 2.685273574544852e-07, \"Region\": \"Sub-Saharan Africa\"}, {\"Overall rank\": 146, \"Score\": 3.663, \"Country\": \"Zimbabwe\", \"GDP (Billions)\": 25.791, \"Social Score\": 52.26, \"Basic Human Needs\": 51.4, \"Foundation of Wellbeing\": 64.48, \"Opportunity\": 40.88, \"Life Expectancy\": 61.894, \"language\": \"{'bwg': 'Chibarwe', 'eng': 'English', 'kck': 'Kalanga', 'khi': 'Khoisan', 'ndc': 'Ndau', 'nde': 'Northern Ndebele', 'nya': 'Chewa', 'sna': 'Shona', 'sot': 'Sotho', 'toi': 'Tonga', 'tsn': 'Tswana', 'tso': 'Tsonga', 'ven': 'Venda', 'xho': 'Xhosa', 'zib': 'Zimbabwean Sign Language'}\", \"population\": 14862927, \"lat\": -20.0, \"lng\": 30.0, \"independent\": true, \"landlocked\": true, \"cca3\": \"ZWE\", \"GDP per Capita\": 1.7352571266749811e-06, \"Region\": \"Sub-Saharan Africa\"}, {\"Overall rank\": 147, \"Score\": 3.597, \"Country\": \"Haiti\", \"GDP (Billions)\": 20.143, \"Social Score\": 48.79, \"Basic Human Needs\": 50.21, \"Foundation of Wellbeing\": 54.5, \"Opportunity\": 41.65, \"Life Expectancy\": 64.696, \"language\": \"{'fra': 'French', 'hat': 'Haitian Creole'}\", \"population\": 11402533, \"lat\": 19.0, \"lng\": -72.41666666, \"independent\": true, \"landlocked\": false, \"cca3\": \"HTI\", \"GDP per Capita\": 1.7665373123673486e-06, \"Region\": \"Latin America and Caribbean\"}, {\"Overall rank\": 148, \"Score\": 3.488, \"Country\": \"Botswana\", \"GDP (Billions)\": 17.605, \"Social Score\": 69.36, \"Basic Human Needs\": 71.48, \"Foundation of Wellbeing\": 74.24, \"Opportunity\": 62.36, \"Life Expectancy\": 69.706, \"language\": \"{'eng': 'English', 'tsn': 'Tswana'}\", \"population\": 2351625, \"lat\": -22.0, \"lng\": 24.0, \"independent\": true, \"landlocked\": true, \"cca3\": \"BWA\", \"GDP per Capita\": 7.48631265614203e-06, \"Region\": \"Sub-Saharan Africa\"}, {\"Overall rank\": 150, \"Score\": 3.41, \"Country\": \"Malawi\", \"GDP (Billions)\": 12.15, \"Social Score\": 54.07, \"Basic Human Needs\": 53.6, \"Foundation of Wellbeing\": 59.58, \"Opportunity\": 49.02, \"Life Expectancy\": 65.182, \"language\": \"{'eng': 'English', 'nya': 'Chewa'}\", \"population\": 19129955, \"lat\": -13.5, \"lng\": 34.0, \"independent\": true, \"landlocked\": true, \"cca3\": \"MWI\", \"GDP per Capita\": 6.351295651244345e-07, \"Region\": \"Sub-Saharan Africa\"}, {\"Overall rank\": 152, \"Score\": 3.334, \"Country\": \"Rwanda\", \"GDP (Billions)\": 10.395, \"Social Score\": 54.13, \"Basic Human Needs\": 54.52, \"Foundation of Wellbeing\": 62.65, \"Opportunity\": 45.21, \"Life Expectancy\": 69.688, \"language\": \"{'eng': 'English', 'fra': 'French', 'kin': 'Kinyarwanda'}\", \"population\": 12952209, \"lat\": -2.0, \"lng\": 30.0, \"independent\": true, \"landlocked\": true, \"cca3\": \"RWA\", \"GDP per Capita\": 8.025658017099631e-07, \"Region\": \"Sub-Saharan Africa\"}, {\"Overall rank\": 153, \"Score\": 3.231, \"Country\": \"Tanzania\", \"GDP (Billions)\": 69.238, \"Social Score\": 56.2, \"Basic Human Needs\": 56.26, \"Foundation of Wellbeing\": 62.91, \"Opportunity\": 49.42, \"Life Expectancy\": 66.08, \"language\": \"{'eng': 'English', 'swa': 'Swahili'}\", \"population\": 59734213, \"lat\": -6.0, \"lng\": 35.0, \"independent\": true, \"landlocked\": false, \"cca3\": \"TZA\", \"GDP per Capita\": 1.1591012339946625e-06, \"Region\": \"Sub-Saharan Africa\"}, {\"Overall rank\": 154, \"Score\": 3.203, \"Country\": \"Afghanistan\", \"GDP (Billions)\": 19.81, \"Social Score\": 42.29, \"Basic Human Needs\": 52.9, \"Foundation of Wellbeing\": 39.5, \"Opportunity\": 34.47, \"Life Expectancy\": 65.632, \"language\": \"{'prs': 'Dari', 'pus': 'Pashto', 'tuk': 'Turkmen'}\", \"population\": 40218234, \"lat\": 33.0, \"lng\": 65.0, \"independent\": true, \"landlocked\": true, \"cca3\": \"AFG\", \"GDP per Capita\": 4.925626520547868e-07, \"Region\": \"Southern Asia\"}, {\"Overall rank\": 155, \"Score\": 3.083, \"Country\": \"Central African Republic\", \"GDP (Billions)\": 2.587, \"Social Score\": 31.62, \"Basic Human Needs\": 21.31, \"Foundation of Wellbeing\": 38.68, \"Opportunity\": 34.85, \"Life Expectancy\": 54.022, \"language\": \"{'fra': 'French', 'sag': 'Sango'}\", \"population\": 4829764, \"lat\": 7.0, \"lng\": 21.0, \"independent\": true, \"landlocked\": true, \"cca3\": \"CAF\", \"GDP per Capita\": 5.356369379539042e-07, \"Region\": \"Sub-Saharan Africa\"}, {\"Overall rank\": 156, \"Score\": 2.853, \"Country\": \"South Sudan\", \"GDP (Billions)\": 3.263, \"Social Score\": 31.06, \"Basic Human Needs\": 35.74, \"Foundation of Wellbeing\": 36.69, \"Opportunity\": 20.73, \"Life Expectancy\": 58.476, \"language\": \"{'eng': 'English'}\", \"population\": 11193729, \"lat\": 7.0, \"lng\": 30.0, \"independent\": true, \"landlocked\": true, \"cca3\": \"SSD\", \"GDP per Capita\": 2.915025010878859e-07, \"Region\": \"Sub-Saharan Africa\"}]}}, {\"mode\": \"vega-lite\"});\n",
              "</script>"
            ],
            "text/plain": [
              "alt.Chart(...)"
            ]
          },
          "metadata": {},
          "execution_count": 167
        }
      ]
    },
    {
      "cell_type": "code",
      "source": [
        "# PRETTY MAP TIME!\n",
        "fig0 = px.choropleth(df_real,\n",
        "                    locations=\"cca3\",\n",
        "                    color=\"Score\",\n",
        "                    hover_name=\"Country\", \n",
        "                    color_continuous_scale=px.colors.sequential.Plasma,\n",
        "                    scope=\"world\")\n",
        "\n",
        "\n",
        "# build jupyter dash app \n",
        "app = JupyterDash(__name__)\n",
        "# add html components and figure to app\n",
        "app.layout = html.Div([dcc.Graph(figure=fig0)])\n",
        "# run app inline\n",
        "app.run_server(mode='inline')"
      ],
      "metadata": {
        "colab": {
          "base_uri": "https://localhost:8080/",
          "height": 671
        },
        "id": "iEOCRq1qdcpX",
        "outputId": "a767981b-1c5c-45d2-e86f-9e440e44e5e9"
      },
      "execution_count": null,
      "outputs": [
        {
          "output_type": "display_data",
          "data": {
            "text/plain": [
              "<IPython.core.display.Javascript object>"
            ],
            "application/javascript": [
              "(async (port, path, width, height, cache, element) => {\n",
              "    if (!google.colab.kernel.accessAllowed && !cache) {\n",
              "      return;\n",
              "    }\n",
              "    element.appendChild(document.createTextNode(''));\n",
              "    const url = await google.colab.kernel.proxyPort(port, {cache});\n",
              "    const iframe = document.createElement('iframe');\n",
              "    iframe.src = new URL(path, url).toString();\n",
              "    iframe.height = height;\n",
              "    iframe.width = width;\n",
              "    iframe.style.border = 0;\n",
              "    element.appendChild(iframe);\n",
              "  })(8050, \"/\", \"100%\", 650, false, window.element)"
            ]
          },
          "metadata": {}
        }
      ]
    },
    {
      "cell_type": "code",
      "source": [
        "fig1 = px.scatter(df_real, x=\"GDP per Capita\", y=\"Score\",\n",
        "           animation_group=\"Country\",\n",
        "           size=\"Overall rank\", color=\"Region\", hover_name=\"Country\",)\n",
        "\n",
        "# build jupyter dash app \n",
        "app = JupyterDash(__name__)\n",
        "# add html components and figure to app\n",
        "app.layout = html.Div([dcc.Graph(figure=fig1)])\n",
        "# run app inline\n",
        "app.run_server(mode='inline') "
      ],
      "metadata": {
        "colab": {
          "base_uri": "https://localhost:8080/",
          "height": 671
        },
        "id": "LRpL_EyiZzZ8",
        "outputId": "0c63c9c8-2a15-4866-d576-265685fa4b84"
      },
      "execution_count": null,
      "outputs": [
        {
          "output_type": "display_data",
          "data": {
            "text/plain": [
              "<IPython.core.display.Javascript object>"
            ],
            "application/javascript": [
              "(async (port, path, width, height, cache, element) => {\n",
              "    if (!google.colab.kernel.accessAllowed && !cache) {\n",
              "      return;\n",
              "    }\n",
              "    element.appendChild(document.createTextNode(''));\n",
              "    const url = await google.colab.kernel.proxyPort(port, {cache});\n",
              "    const iframe = document.createElement('iframe');\n",
              "    iframe.src = new URL(path, url).toString();\n",
              "    iframe.height = height;\n",
              "    iframe.width = width;\n",
              "    iframe.style.border = 0;\n",
              "    element.appendChild(iframe);\n",
              "  })(8050, \"/\", \"100%\", 650, false, window.element)"
            ]
          },
          "metadata": {}
        }
      ]
    },
    {
      "cell_type": "code",
      "source": [
        "fig2 = px.choropleth(df_real,\n",
        "                    locations=\"cca3\",\n",
        "                    color=\"GDP per Capita\",\n",
        "                    hover_name=\"Country\", \n",
        "                    color_continuous_scale=px.colors.sequential.Plasma,\n",
        "                    scope=\"world\")\n",
        "\n",
        "\n",
        "# build jupyter dash app \n",
        "app = JupyterDash(__name__)\n",
        "# add html components and figure to app\n",
        "app.layout = html.Div([dcc.Graph(figure=fig2)])\n",
        "# run app inline\n",
        "app.run_server(mode='inline')"
      ],
      "metadata": {
        "colab": {
          "base_uri": "https://localhost:8080/",
          "height": 671
        },
        "id": "O60ayjJfe6GU",
        "outputId": "89215f04-470c-42e1-c62c-54b19b69d7e9"
      },
      "execution_count": null,
      "outputs": [
        {
          "output_type": "display_data",
          "data": {
            "text/plain": [
              "<IPython.core.display.Javascript object>"
            ],
            "application/javascript": [
              "(async (port, path, width, height, cache, element) => {\n",
              "    if (!google.colab.kernel.accessAllowed && !cache) {\n",
              "      return;\n",
              "    }\n",
              "    element.appendChild(document.createTextNode(''));\n",
              "    const url = await google.colab.kernel.proxyPort(port, {cache});\n",
              "    const iframe = document.createElement('iframe');\n",
              "    iframe.src = new URL(path, url).toString();\n",
              "    iframe.height = height;\n",
              "    iframe.width = width;\n",
              "    iframe.style.border = 0;\n",
              "    element.appendChild(iframe);\n",
              "  })(8050, \"/\", \"100%\", 650, false, window.element)"
            ]
          },
          "metadata": {}
        }
      ]
    },
    {
      "cell_type": "code",
      "source": [
        "fig3 = px.scatter(df_real, x=\"GDP (Billions)\", y=\"Score\",\n",
        "           animation_group=\"Country\",\n",
        "           size=\"Overall rank\", color=\"Region\", hover_name=\"Country\",)\n",
        "\n",
        "# build jupyter dash app \n",
        "app = JupyterDash(__name__)\n",
        "# add html components and figure to app\n",
        "app.layout = html.Div([dcc.Graph(figure=fig3)])\n",
        "# run app inline\n",
        "app.run_server(mode='inline') "
      ],
      "metadata": {
        "colab": {
          "base_uri": "https://localhost:8080/",
          "height": 671
        },
        "id": "s9h8b2bBgG1N",
        "outputId": "b171dde6-5fe8-4b05-f930-cabd0ba528a7"
      },
      "execution_count": null,
      "outputs": [
        {
          "output_type": "display_data",
          "data": {
            "text/plain": [
              "<IPython.core.display.Javascript object>"
            ],
            "application/javascript": [
              "(async (port, path, width, height, cache, element) => {\n",
              "    if (!google.colab.kernel.accessAllowed && !cache) {\n",
              "      return;\n",
              "    }\n",
              "    element.appendChild(document.createTextNode(''));\n",
              "    const url = await google.colab.kernel.proxyPort(port, {cache});\n",
              "    const iframe = document.createElement('iframe');\n",
              "    iframe.src = new URL(path, url).toString();\n",
              "    iframe.height = height;\n",
              "    iframe.width = width;\n",
              "    iframe.style.border = 0;\n",
              "    element.appendChild(iframe);\n",
              "  })(8050, \"/\", \"100%\", 650, false, window.element)"
            ]
          },
          "metadata": {}
        }
      ]
    },
    {
      "cell_type": "code",
      "source": [
        "fig4 = px.choropleth(df_real,\n",
        "                    locations=\"cca3\",\n",
        "                    color=\"GDP (Billions)\",\n",
        "                    hover_name=\"Country\", \n",
        "                    color_continuous_scale=px.colors.sequential.Plasma,\n",
        "                    scope=\"world\")\n",
        "\n",
        "\n",
        "# build jupyter dash app \n",
        "app = JupyterDash(__name__)\n",
        "# add html components and figure to app\n",
        "app.layout = html.Div([dcc.Graph(figure=fig4)])\n",
        "# run app inline\n",
        "app.run_server(mode='inline')"
      ],
      "metadata": {
        "colab": {
          "base_uri": "https://localhost:8080/",
          "height": 671
        },
        "id": "Pn7Pg3Cifzb-",
        "outputId": "956400be-beb7-4ebc-f43c-2d0020b60937"
      },
      "execution_count": null,
      "outputs": [
        {
          "output_type": "display_data",
          "data": {
            "text/plain": [
              "<IPython.core.display.Javascript object>"
            ],
            "application/javascript": [
              "(async (port, path, width, height, cache, element) => {\n",
              "    if (!google.colab.kernel.accessAllowed && !cache) {\n",
              "      return;\n",
              "    }\n",
              "    element.appendChild(document.createTextNode(''));\n",
              "    const url = await google.colab.kernel.proxyPort(port, {cache});\n",
              "    const iframe = document.createElement('iframe');\n",
              "    iframe.src = new URL(path, url).toString();\n",
              "    iframe.height = height;\n",
              "    iframe.width = width;\n",
              "    iframe.style.border = 0;\n",
              "    element.appendChild(iframe);\n",
              "  })(8050, \"/\", \"100%\", 650, false, window.element)"
            ]
          },
          "metadata": {}
        }
      ]
    },
    {
      "cell_type": "code",
      "source": [
        "fig5 = px.scatter(df_real, x=\"Social Score\", y=\"Score\",\n",
        "           animation_group=\"Country\",\n",
        "           size=\"Overall rank\", color=\"Region\", hover_name=\"Country\",)\n",
        "\n",
        "# build jupyter dash app \n",
        "app = JupyterDash(__name__)\n",
        "# add html components and figure to app\n",
        "app.layout = html.Div([dcc.Graph(figure=fig5)])\n",
        "# run app inline\n",
        "app.run_server(mode='inline') "
      ],
      "metadata": {
        "colab": {
          "base_uri": "https://localhost:8080/",
          "height": 671
        },
        "id": "43VqMyRzgbQE",
        "outputId": "274f952c-0887-4756-f4db-19cf0bf64315"
      },
      "execution_count": null,
      "outputs": [
        {
          "output_type": "display_data",
          "data": {
            "text/plain": [
              "<IPython.core.display.Javascript object>"
            ],
            "application/javascript": [
              "(async (port, path, width, height, cache, element) => {\n",
              "    if (!google.colab.kernel.accessAllowed && !cache) {\n",
              "      return;\n",
              "    }\n",
              "    element.appendChild(document.createTextNode(''));\n",
              "    const url = await google.colab.kernel.proxyPort(port, {cache});\n",
              "    const iframe = document.createElement('iframe');\n",
              "    iframe.src = new URL(path, url).toString();\n",
              "    iframe.height = height;\n",
              "    iframe.width = width;\n",
              "    iframe.style.border = 0;\n",
              "    element.appendChild(iframe);\n",
              "  })(8050, \"/\", \"100%\", 650, false, window.element)"
            ]
          },
          "metadata": {}
        }
      ]
    },
    {
      "cell_type": "code",
      "source": [
        "fig6 = px.choropleth(df_real,\n",
        "                    locations=\"cca3\",\n",
        "                    color=\"Social Score\",\n",
        "                    hover_name=\"Country\", \n",
        "                    color_continuous_scale=px.colors.sequential.Plasma,\n",
        "                    scope=\"world\")\n",
        "\n",
        "\n",
        "# build jupyter dash app \n",
        "app = JupyterDash(__name__)\n",
        "# add html components and figure to app\n",
        "app.layout = html.Div([dcc.Graph(figure=fig6)])\n",
        "# run app inline\n",
        "app.run_server(mode='inline')"
      ],
      "metadata": {
        "colab": {
          "base_uri": "https://localhost:8080/",
          "height": 671
        },
        "id": "mUACK62PggBy",
        "outputId": "95ebdc4f-37e7-4b78-94b1-fd6b31cda496"
      },
      "execution_count": null,
      "outputs": [
        {
          "output_type": "display_data",
          "data": {
            "text/plain": [
              "<IPython.core.display.Javascript object>"
            ],
            "application/javascript": [
              "(async (port, path, width, height, cache, element) => {\n",
              "    if (!google.colab.kernel.accessAllowed && !cache) {\n",
              "      return;\n",
              "    }\n",
              "    element.appendChild(document.createTextNode(''));\n",
              "    const url = await google.colab.kernel.proxyPort(port, {cache});\n",
              "    const iframe = document.createElement('iframe');\n",
              "    iframe.src = new URL(path, url).toString();\n",
              "    iframe.height = height;\n",
              "    iframe.width = width;\n",
              "    iframe.style.border = 0;\n",
              "    element.appendChild(iframe);\n",
              "  })(8050, \"/\", \"100%\", 650, false, window.element)"
            ]
          },
          "metadata": {}
        }
      ]
    },
    {
      "cell_type": "code",
      "source": [
        "fig7 = px.scatter(df_real, x=\"Life Expectancy\", y=\"Score\",\n",
        "           animation_group=\"Country\",\n",
        "           size=\"Overall rank\", color=\"Region\", hover_name=\"Country\",)\n",
        "\n",
        "# build jupyter dash app \n",
        "app = JupyterDash(__name__)\n",
        "# add html components and figure to app\n",
        "app.layout = html.Div([dcc.Graph(figure=fig7)])\n",
        "# run app inline\n",
        "app.run_server(mode='inline') "
      ],
      "metadata": {
        "colab": {
          "base_uri": "https://localhost:8080/",
          "height": 671
        },
        "id": "8afiUcA0hj6s",
        "outputId": "9d1c1046-c8ae-4ce1-ff1c-df7c67fd045b"
      },
      "execution_count": null,
      "outputs": [
        {
          "output_type": "display_data",
          "data": {
            "text/plain": [
              "<IPython.core.display.Javascript object>"
            ],
            "application/javascript": [
              "(async (port, path, width, height, cache, element) => {\n",
              "    if (!google.colab.kernel.accessAllowed && !cache) {\n",
              "      return;\n",
              "    }\n",
              "    element.appendChild(document.createTextNode(''));\n",
              "    const url = await google.colab.kernel.proxyPort(port, {cache});\n",
              "    const iframe = document.createElement('iframe');\n",
              "    iframe.src = new URL(path, url).toString();\n",
              "    iframe.height = height;\n",
              "    iframe.width = width;\n",
              "    iframe.style.border = 0;\n",
              "    element.appendChild(iframe);\n",
              "  })(8050, \"/\", \"100%\", 650, false, window.element)"
            ]
          },
          "metadata": {}
        }
      ]
    },
    {
      "cell_type": "code",
      "source": [
        "fig8 = px.choropleth(df_real,\n",
        "                    locations=\"cca3\",\n",
        "                    color=\"Life Expectancy\",\n",
        "                    hover_name=\"Country\", \n",
        "                    color_continuous_scale=px.colors.sequential.Plasma,\n",
        "                    scope=\"world\")\n",
        "\n",
        "\n",
        "# build jupyter dash app \n",
        "app = JupyterDash(__name__)\n",
        "# add html components and figure to app\n",
        "app.layout = html.Div([dcc.Graph(figure=fig8)])\n",
        "# run app inline\n",
        "app.run_server(mode='inline')"
      ],
      "metadata": {
        "colab": {
          "base_uri": "https://localhost:8080/",
          "height": 671
        },
        "id": "lSIYOvo6hfSD",
        "outputId": "ddc66c07-93e9-4d28-a838-c8d9a544717e"
      },
      "execution_count": null,
      "outputs": [
        {
          "output_type": "display_data",
          "data": {
            "text/plain": [
              "<IPython.core.display.Javascript object>"
            ],
            "application/javascript": [
              "(async (port, path, width, height, cache, element) => {\n",
              "    if (!google.colab.kernel.accessAllowed && !cache) {\n",
              "      return;\n",
              "    }\n",
              "    element.appendChild(document.createTextNode(''));\n",
              "    const url = await google.colab.kernel.proxyPort(port, {cache});\n",
              "    const iframe = document.createElement('iframe');\n",
              "    iframe.src = new URL(path, url).toString();\n",
              "    iframe.height = height;\n",
              "    iframe.width = width;\n",
              "    iframe.style.border = 0;\n",
              "    element.appendChild(iframe);\n",
              "  })(8050, \"/\", \"100%\", 650, false, window.element)"
            ]
          },
          "metadata": {}
        }
      ]
    },
    {
      "cell_type": "code",
      "source": [
        "# Averages by Region\n",
        "df_avg = pd.DataFrame()\n",
        "df_avg[\"Region\"] = df_real[\"Region\"].unique()"
      ],
      "metadata": {
        "id": "K-uEvO8xjCwb"
      },
      "execution_count": null,
      "outputs": []
    },
    {
      "cell_type": "code",
      "source": [
        "df_avg = df_avg.merge(df_real.groupby(\"Region\")[\"Score\"].mean().sort_values(), on=\"Region\")\n",
        "# From a glance and from my knowledge, it seems the less developed regions of the world\n",
        "# are less happy. Now lets dig into some of the individual stats.\n",
        "df_avg = df_avg.merge(df_real.groupby(\"Region\")[\"GDP per Capita\"].mean().sort_values(), on=\"Region\")\n",
        "df_avg = df_avg.merge(df_real.groupby(\"Region\")[\"Social Score\"].mean().sort_values(), on=\"Region\")\n",
        "df_avg = df_avg.merge(df_real.groupby(\"Region\")[\"Basic Human Needs\"].mean().sort_values(), on=\"Region\")\n",
        "df_avg = df_avg.merge(df_real.groupby(\"Region\")[\"Foundation of Wellbeing\"].mean().sort_values(), on=\"Region\")\n",
        "df_avg = df_avg.merge(df_real.groupby(\"Region\")[\"Opportunity\"].mean().sort_values(), on=\"Region\")\n",
        "df_avg = df_avg.merge(df_real.groupby(\"Region\")[\"Life Expectancy\"].mean().sort_values(), on=\"Region\")"
      ],
      "metadata": {
        "id": "QoRR6T4iiha1"
      },
      "execution_count": null,
      "outputs": []
    },
    {
      "cell_type": "code",
      "source": [
        "df_avg.corr()"
      ],
      "metadata": {
        "colab": {
          "base_uri": "https://localhost:8080/",
          "height": 269
        },
        "id": "T9iT5ZAZkKHk",
        "outputId": "eea02153-cdac-4610-b857-70b920e2ad20"
      },
      "execution_count": null,
      "outputs": [
        {
          "output_type": "execute_result",
          "data": {
            "text/plain": [
              "                            Score  GDP per Capita  Social Score  \\\n",
              "Score                    1.000000        0.915738      0.966939   \n",
              "GDP per Capita           0.915738        1.000000      0.900570   \n",
              "Social Score             0.966939        0.900570      1.000000   \n",
              "Basic Human Needs        0.892055        0.783389      0.950753   \n",
              "Foundation of Wellbeing  0.960799        0.877464      0.988504   \n",
              "Opportunity              0.957500        0.951435      0.967837   \n",
              "Life Expectancy          0.915779        0.818689      0.950816   \n",
              "\n",
              "                         Basic Human Needs  Foundation of Wellbeing  \\\n",
              "Score                             0.892055                 0.960799   \n",
              "GDP per Capita                    0.783389                 0.877464   \n",
              "Social Score                      0.950753                 0.988504   \n",
              "Basic Human Needs                 1.000000                 0.915191   \n",
              "Foundation of Wellbeing           0.915191                 1.000000   \n",
              "Opportunity                       0.849814                 0.960804   \n",
              "Life Expectancy                   0.980666                 0.911354   \n",
              "\n",
              "                         Opportunity  Life Expectancy  \n",
              "Score                       0.957500         0.915779  \n",
              "GDP per Capita              0.951435         0.818689  \n",
              "Social Score                0.967837         0.950816  \n",
              "Basic Human Needs           0.849814         0.980666  \n",
              "Foundation of Wellbeing     0.960804         0.911354  \n",
              "Opportunity                 1.000000         0.871558  \n",
              "Life Expectancy             0.871558         1.000000  "
            ],
            "text/html": [
              "\n",
              "  <div id=\"df-3dd804ea-19cb-4a91-b8c7-d759856e2147\">\n",
              "    <div class=\"colab-df-container\">\n",
              "      <div>\n",
              "<style scoped>\n",
              "    .dataframe tbody tr th:only-of-type {\n",
              "        vertical-align: middle;\n",
              "    }\n",
              "\n",
              "    .dataframe tbody tr th {\n",
              "        vertical-align: top;\n",
              "    }\n",
              "\n",
              "    .dataframe thead th {\n",
              "        text-align: right;\n",
              "    }\n",
              "</style>\n",
              "<table border=\"1\" class=\"dataframe\">\n",
              "  <thead>\n",
              "    <tr style=\"text-align: right;\">\n",
              "      <th></th>\n",
              "      <th>Score</th>\n",
              "      <th>GDP per Capita</th>\n",
              "      <th>Social Score</th>\n",
              "      <th>Basic Human Needs</th>\n",
              "      <th>Foundation of Wellbeing</th>\n",
              "      <th>Opportunity</th>\n",
              "      <th>Life Expectancy</th>\n",
              "    </tr>\n",
              "  </thead>\n",
              "  <tbody>\n",
              "    <tr>\n",
              "      <th>Score</th>\n",
              "      <td>1.000000</td>\n",
              "      <td>0.915738</td>\n",
              "      <td>0.966939</td>\n",
              "      <td>0.892055</td>\n",
              "      <td>0.960799</td>\n",
              "      <td>0.957500</td>\n",
              "      <td>0.915779</td>\n",
              "    </tr>\n",
              "    <tr>\n",
              "      <th>GDP per Capita</th>\n",
              "      <td>0.915738</td>\n",
              "      <td>1.000000</td>\n",
              "      <td>0.900570</td>\n",
              "      <td>0.783389</td>\n",
              "      <td>0.877464</td>\n",
              "      <td>0.951435</td>\n",
              "      <td>0.818689</td>\n",
              "    </tr>\n",
              "    <tr>\n",
              "      <th>Social Score</th>\n",
              "      <td>0.966939</td>\n",
              "      <td>0.900570</td>\n",
              "      <td>1.000000</td>\n",
              "      <td>0.950753</td>\n",
              "      <td>0.988504</td>\n",
              "      <td>0.967837</td>\n",
              "      <td>0.950816</td>\n",
              "    </tr>\n",
              "    <tr>\n",
              "      <th>Basic Human Needs</th>\n",
              "      <td>0.892055</td>\n",
              "      <td>0.783389</td>\n",
              "      <td>0.950753</td>\n",
              "      <td>1.000000</td>\n",
              "      <td>0.915191</td>\n",
              "      <td>0.849814</td>\n",
              "      <td>0.980666</td>\n",
              "    </tr>\n",
              "    <tr>\n",
              "      <th>Foundation of Wellbeing</th>\n",
              "      <td>0.960799</td>\n",
              "      <td>0.877464</td>\n",
              "      <td>0.988504</td>\n",
              "      <td>0.915191</td>\n",
              "      <td>1.000000</td>\n",
              "      <td>0.960804</td>\n",
              "      <td>0.911354</td>\n",
              "    </tr>\n",
              "    <tr>\n",
              "      <th>Opportunity</th>\n",
              "      <td>0.957500</td>\n",
              "      <td>0.951435</td>\n",
              "      <td>0.967837</td>\n",
              "      <td>0.849814</td>\n",
              "      <td>0.960804</td>\n",
              "      <td>1.000000</td>\n",
              "      <td>0.871558</td>\n",
              "    </tr>\n",
              "    <tr>\n",
              "      <th>Life Expectancy</th>\n",
              "      <td>0.915779</td>\n",
              "      <td>0.818689</td>\n",
              "      <td>0.950816</td>\n",
              "      <td>0.980666</td>\n",
              "      <td>0.911354</td>\n",
              "      <td>0.871558</td>\n",
              "      <td>1.000000</td>\n",
              "    </tr>\n",
              "  </tbody>\n",
              "</table>\n",
              "</div>\n",
              "      <button class=\"colab-df-convert\" onclick=\"convertToInteractive('df-3dd804ea-19cb-4a91-b8c7-d759856e2147')\"\n",
              "              title=\"Convert this dataframe to an interactive table.\"\n",
              "              style=\"display:none;\">\n",
              "        \n",
              "  <svg xmlns=\"http://www.w3.org/2000/svg\" height=\"24px\"viewBox=\"0 0 24 24\"\n",
              "       width=\"24px\">\n",
              "    <path d=\"M0 0h24v24H0V0z\" fill=\"none\"/>\n",
              "    <path d=\"M18.56 5.44l.94 2.06.94-2.06 2.06-.94-2.06-.94-.94-2.06-.94 2.06-2.06.94zm-11 1L8.5 8.5l.94-2.06 2.06-.94-2.06-.94L8.5 2.5l-.94 2.06-2.06.94zm10 10l.94 2.06.94-2.06 2.06-.94-2.06-.94-.94-2.06-.94 2.06-2.06.94z\"/><path d=\"M17.41 7.96l-1.37-1.37c-.4-.4-.92-.59-1.43-.59-.52 0-1.04.2-1.43.59L10.3 9.45l-7.72 7.72c-.78.78-.78 2.05 0 2.83L4 21.41c.39.39.9.59 1.41.59.51 0 1.02-.2 1.41-.59l7.78-7.78 2.81-2.81c.8-.78.8-2.07 0-2.86zM5.41 20L4 18.59l7.72-7.72 1.47 1.35L5.41 20z\"/>\n",
              "  </svg>\n",
              "      </button>\n",
              "      \n",
              "  <style>\n",
              "    .colab-df-container {\n",
              "      display:flex;\n",
              "      flex-wrap:wrap;\n",
              "      gap: 12px;\n",
              "    }\n",
              "\n",
              "    .colab-df-convert {\n",
              "      background-color: #E8F0FE;\n",
              "      border: none;\n",
              "      border-radius: 50%;\n",
              "      cursor: pointer;\n",
              "      display: none;\n",
              "      fill: #1967D2;\n",
              "      height: 32px;\n",
              "      padding: 0 0 0 0;\n",
              "      width: 32px;\n",
              "    }\n",
              "\n",
              "    .colab-df-convert:hover {\n",
              "      background-color: #E2EBFA;\n",
              "      box-shadow: 0px 1px 2px rgba(60, 64, 67, 0.3), 0px 1px 3px 1px rgba(60, 64, 67, 0.15);\n",
              "      fill: #174EA6;\n",
              "    }\n",
              "\n",
              "    [theme=dark] .colab-df-convert {\n",
              "      background-color: #3B4455;\n",
              "      fill: #D2E3FC;\n",
              "    }\n",
              "\n",
              "    [theme=dark] .colab-df-convert:hover {\n",
              "      background-color: #434B5C;\n",
              "      box-shadow: 0px 1px 3px 1px rgba(0, 0, 0, 0.15);\n",
              "      filter: drop-shadow(0px 1px 2px rgba(0, 0, 0, 0.3));\n",
              "      fill: #FFFFFF;\n",
              "    }\n",
              "  </style>\n",
              "\n",
              "      <script>\n",
              "        const buttonEl =\n",
              "          document.querySelector('#df-3dd804ea-19cb-4a91-b8c7-d759856e2147 button.colab-df-convert');\n",
              "        buttonEl.style.display =\n",
              "          google.colab.kernel.accessAllowed ? 'block' : 'none';\n",
              "\n",
              "        async function convertToInteractive(key) {\n",
              "          const element = document.querySelector('#df-3dd804ea-19cb-4a91-b8c7-d759856e2147');\n",
              "          const dataTable =\n",
              "            await google.colab.kernel.invokeFunction('convertToInteractive',\n",
              "                                                     [key], {});\n",
              "          if (!dataTable) return;\n",
              "\n",
              "          const docLinkHtml = 'Like what you see? Visit the ' +\n",
              "            '<a target=\"_blank\" href=https://colab.research.google.com/notebooks/data_table.ipynb>data table notebook</a>'\n",
              "            + ' to learn more about interactive tables.';\n",
              "          element.innerHTML = '';\n",
              "          dataTable['output_type'] = 'display_data';\n",
              "          await google.colab.output.renderOutput(dataTable, element);\n",
              "          const docLink = document.createElement('div');\n",
              "          docLink.innerHTML = docLinkHtml;\n",
              "          element.appendChild(docLink);\n",
              "        }\n",
              "      </script>\n",
              "    </div>\n",
              "  </div>\n",
              "  "
            ]
          },
          "metadata": {},
          "execution_count": 179
        }
      ]
    },
    {
      "cell_type": "code",
      "source": [
        "fig100 = px.scatter(df_real, x=\"GDP per Capita\", y=\"Life Expectancy\",\n",
        "           animation_group=\"Country\",\n",
        "           size=\"Overall rank\", color=\"Region\", hover_name=\"Country\",)\n",
        "\n",
        "# build jupyter dash app \n",
        "app = JupyterDash(__name__)\n",
        "# add html components and figure to app\n",
        "app.layout = html.Div([dcc.Graph(figure=fig100)])\n",
        "# run app inline\n",
        "app.run_server(mode='inline') "
      ],
      "metadata": {
        "colab": {
          "base_uri": "https://localhost:8080/",
          "height": 671
        },
        "id": "dQbbNhILNJw4",
        "outputId": "38ec508f-8a59-4f49-a420-8b738289a718"
      },
      "execution_count": null,
      "outputs": [
        {
          "output_type": "display_data",
          "data": {
            "text/plain": [
              "<IPython.core.display.Javascript object>"
            ],
            "application/javascript": [
              "(async (port, path, width, height, cache, element) => {\n",
              "    if (!google.colab.kernel.accessAllowed && !cache) {\n",
              "      return;\n",
              "    }\n",
              "    element.appendChild(document.createTextNode(''));\n",
              "    const url = await google.colab.kernel.proxyPort(port, {cache});\n",
              "    const iframe = document.createElement('iframe');\n",
              "    iframe.src = new URL(path, url).toString();\n",
              "    iframe.height = height;\n",
              "    iframe.width = width;\n",
              "    iframe.style.border = 0;\n",
              "    element.appendChild(iframe);\n",
              "  })(8050, \"/\", \"100%\", 650, false, window.element)"
            ]
          },
          "metadata": {}
        }
      ]
    },
    {
      "cell_type": "code",
      "source": [
        "fig101 = px.scatter_3d(df_real, x=\"GDP per Capita\", y=\"Social Score\", z=\"Score\",\n",
        "                    animation_group=\"Country\",\n",
        "           size=\"Overall rank\", color=\"Region\", hover_name=\"Country\",)\n",
        "\n",
        "# build jupyter dash app \n",
        "app = JupyterDash(__name__)\n",
        "# add html components and figure to app\n",
        "app.layout = html.Div([dcc.Graph(figure=fig101)])\n",
        "# run app inline\n",
        "app.run_server(mode='inline') "
      ],
      "metadata": {
        "colab": {
          "base_uri": "https://localhost:8080/",
          "height": 671
        },
        "id": "ayvkxiydY4uy",
        "outputId": "616d0c01-ef51-49ff-f458-1e49a31ad866"
      },
      "execution_count": null,
      "outputs": [
        {
          "output_type": "display_data",
          "data": {
            "text/plain": [
              "<IPython.core.display.Javascript object>"
            ],
            "application/javascript": [
              "(async (port, path, width, height, cache, element) => {\n",
              "    if (!google.colab.kernel.accessAllowed && !cache) {\n",
              "      return;\n",
              "    }\n",
              "    element.appendChild(document.createTextNode(''));\n",
              "    const url = await google.colab.kernel.proxyPort(port, {cache});\n",
              "    const iframe = document.createElement('iframe');\n",
              "    iframe.src = new URL(path, url).toString();\n",
              "    iframe.height = height;\n",
              "    iframe.width = width;\n",
              "    iframe.style.border = 0;\n",
              "    element.appendChild(iframe);\n",
              "  })(8050, \"/\", \"100%\", 650, false, window.element)"
            ]
          },
          "metadata": {}
        }
      ]
    },
    {
      "cell_type": "markdown",
      "source": [
        "# World Happiness Report Data"
      ],
      "metadata": {
        "id": "KZFbCb6QX-yz"
      }
    },
    {
      "cell_type": "code",
      "source": [
        "df = pd.read_csv(\"world_happiness_report_data.csv\").drop(\"Unnamed: 0\", axis=1)\n",
        "df.describe()"
      ],
      "metadata": {
        "colab": {
          "base_uri": "https://localhost:8080/",
          "height": 300
        },
        "id": "O00EnIpWvEla",
        "outputId": "b5c9b128-a43a-4675-aa60-c205e63112bf"
      },
      "execution_count": null,
      "outputs": [
        {
          "output_type": "execute_result",
          "data": {
            "text/plain": [
              "       Overall rank       Score  GDP per capita  Social support  \\\n",
              "count    782.000000  782.000000      782.000000      782.000000   \n",
              "mean      78.698210    5.379018        0.916047        1.078392   \n",
              "std       45.182384    1.127456        0.407340        0.329548   \n",
              "min        1.000000    2.693000        0.000000        0.000000   \n",
              "25%       40.000000    4.509750        0.606500        0.869363   \n",
              "50%       79.000000    5.322000        0.982205        1.124735   \n",
              "75%      118.000000    6.189500        1.236187        1.327250   \n",
              "max      158.000000    7.769000        2.096000        1.644000   \n",
              "\n",
              "       Healthy life expectancy  Freedom to make life choices  Generosity  \\\n",
              "count               782.000000                    782.000000  782.000000   \n",
              "mean                  0.612416                      0.411091    0.218576   \n",
              "std                   0.248309                      0.152880    0.122321   \n",
              "min                   0.000000                      0.000000    0.000000   \n",
              "25%                   0.440183                      0.309768    0.130000   \n",
              "50%                   0.647310                      0.431000    0.201982   \n",
              "75%                   0.808000                      0.531000    0.278832   \n",
              "max                   1.141000                      0.724000    0.838075   \n",
              "\n",
              "       Perceptions of corruption         Year    population         lat  \\\n",
              "count                 782.000000   782.000000  7.820000e+02  782.000000   \n",
              "mean                    0.125418  2016.993606  4.949476e+07   22.044631   \n",
              "std                     0.105750     1.417364  1.609818e+08   24.269468   \n",
              "min                     0.000000  2015.000000  3.664250e+05  -41.000000   \n",
              "25%                     0.054250  2016.000000  5.084300e+06    8.000000   \n",
              "50%                     0.091033  2017.000000  1.181862e+07   24.000000   \n",
              "75%                     0.155861  2018.000000  3.795080e+07   41.000000   \n",
              "max                     0.551910  2019.000000  1.402112e+09   65.000000   \n",
              "\n",
              "              lng  \n",
              "count  782.000000  \n",
              "mean    21.094233  \n",
              "std     54.714351  \n",
              "min   -102.000000  \n",
              "25%     -2.000000  \n",
              "50%     24.000000  \n",
              "75%     46.687500  \n",
              "max    174.000000  "
            ],
            "text/html": [
              "\n",
              "  <div id=\"df-8fcb9ba8-4120-4020-acc6-32ebb127d72f\">\n",
              "    <div class=\"colab-df-container\">\n",
              "      <div>\n",
              "<style scoped>\n",
              "    .dataframe tbody tr th:only-of-type {\n",
              "        vertical-align: middle;\n",
              "    }\n",
              "\n",
              "    .dataframe tbody tr th {\n",
              "        vertical-align: top;\n",
              "    }\n",
              "\n",
              "    .dataframe thead th {\n",
              "        text-align: right;\n",
              "    }\n",
              "</style>\n",
              "<table border=\"1\" class=\"dataframe\">\n",
              "  <thead>\n",
              "    <tr style=\"text-align: right;\">\n",
              "      <th></th>\n",
              "      <th>Overall rank</th>\n",
              "      <th>Score</th>\n",
              "      <th>GDP per capita</th>\n",
              "      <th>Social support</th>\n",
              "      <th>Healthy life expectancy</th>\n",
              "      <th>Freedom to make life choices</th>\n",
              "      <th>Generosity</th>\n",
              "      <th>Perceptions of corruption</th>\n",
              "      <th>Year</th>\n",
              "      <th>population</th>\n",
              "      <th>lat</th>\n",
              "      <th>lng</th>\n",
              "    </tr>\n",
              "  </thead>\n",
              "  <tbody>\n",
              "    <tr>\n",
              "      <th>count</th>\n",
              "      <td>782.000000</td>\n",
              "      <td>782.000000</td>\n",
              "      <td>782.000000</td>\n",
              "      <td>782.000000</td>\n",
              "      <td>782.000000</td>\n",
              "      <td>782.000000</td>\n",
              "      <td>782.000000</td>\n",
              "      <td>782.000000</td>\n",
              "      <td>782.000000</td>\n",
              "      <td>7.820000e+02</td>\n",
              "      <td>782.000000</td>\n",
              "      <td>782.000000</td>\n",
              "    </tr>\n",
              "    <tr>\n",
              "      <th>mean</th>\n",
              "      <td>78.698210</td>\n",
              "      <td>5.379018</td>\n",
              "      <td>0.916047</td>\n",
              "      <td>1.078392</td>\n",
              "      <td>0.612416</td>\n",
              "      <td>0.411091</td>\n",
              "      <td>0.218576</td>\n",
              "      <td>0.125418</td>\n",
              "      <td>2016.993606</td>\n",
              "      <td>4.949476e+07</td>\n",
              "      <td>22.044631</td>\n",
              "      <td>21.094233</td>\n",
              "    </tr>\n",
              "    <tr>\n",
              "      <th>std</th>\n",
              "      <td>45.182384</td>\n",
              "      <td>1.127456</td>\n",
              "      <td>0.407340</td>\n",
              "      <td>0.329548</td>\n",
              "      <td>0.248309</td>\n",
              "      <td>0.152880</td>\n",
              "      <td>0.122321</td>\n",
              "      <td>0.105750</td>\n",
              "      <td>1.417364</td>\n",
              "      <td>1.609818e+08</td>\n",
              "      <td>24.269468</td>\n",
              "      <td>54.714351</td>\n",
              "    </tr>\n",
              "    <tr>\n",
              "      <th>min</th>\n",
              "      <td>1.000000</td>\n",
              "      <td>2.693000</td>\n",
              "      <td>0.000000</td>\n",
              "      <td>0.000000</td>\n",
              "      <td>0.000000</td>\n",
              "      <td>0.000000</td>\n",
              "      <td>0.000000</td>\n",
              "      <td>0.000000</td>\n",
              "      <td>2015.000000</td>\n",
              "      <td>3.664250e+05</td>\n",
              "      <td>-41.000000</td>\n",
              "      <td>-102.000000</td>\n",
              "    </tr>\n",
              "    <tr>\n",
              "      <th>25%</th>\n",
              "      <td>40.000000</td>\n",
              "      <td>4.509750</td>\n",
              "      <td>0.606500</td>\n",
              "      <td>0.869363</td>\n",
              "      <td>0.440183</td>\n",
              "      <td>0.309768</td>\n",
              "      <td>0.130000</td>\n",
              "      <td>0.054250</td>\n",
              "      <td>2016.000000</td>\n",
              "      <td>5.084300e+06</td>\n",
              "      <td>8.000000</td>\n",
              "      <td>-2.000000</td>\n",
              "    </tr>\n",
              "    <tr>\n",
              "      <th>50%</th>\n",
              "      <td>79.000000</td>\n",
              "      <td>5.322000</td>\n",
              "      <td>0.982205</td>\n",
              "      <td>1.124735</td>\n",
              "      <td>0.647310</td>\n",
              "      <td>0.431000</td>\n",
              "      <td>0.201982</td>\n",
              "      <td>0.091033</td>\n",
              "      <td>2017.000000</td>\n",
              "      <td>1.181862e+07</td>\n",
              "      <td>24.000000</td>\n",
              "      <td>24.000000</td>\n",
              "    </tr>\n",
              "    <tr>\n",
              "      <th>75%</th>\n",
              "      <td>118.000000</td>\n",
              "      <td>6.189500</td>\n",
              "      <td>1.236187</td>\n",
              "      <td>1.327250</td>\n",
              "      <td>0.808000</td>\n",
              "      <td>0.531000</td>\n",
              "      <td>0.278832</td>\n",
              "      <td>0.155861</td>\n",
              "      <td>2018.000000</td>\n",
              "      <td>3.795080e+07</td>\n",
              "      <td>41.000000</td>\n",
              "      <td>46.687500</td>\n",
              "    </tr>\n",
              "    <tr>\n",
              "      <th>max</th>\n",
              "      <td>158.000000</td>\n",
              "      <td>7.769000</td>\n",
              "      <td>2.096000</td>\n",
              "      <td>1.644000</td>\n",
              "      <td>1.141000</td>\n",
              "      <td>0.724000</td>\n",
              "      <td>0.838075</td>\n",
              "      <td>0.551910</td>\n",
              "      <td>2019.000000</td>\n",
              "      <td>1.402112e+09</td>\n",
              "      <td>65.000000</td>\n",
              "      <td>174.000000</td>\n",
              "    </tr>\n",
              "  </tbody>\n",
              "</table>\n",
              "</div>\n",
              "      <button class=\"colab-df-convert\" onclick=\"convertToInteractive('df-8fcb9ba8-4120-4020-acc6-32ebb127d72f')\"\n",
              "              title=\"Convert this dataframe to an interactive table.\"\n",
              "              style=\"display:none;\">\n",
              "        \n",
              "  <svg xmlns=\"http://www.w3.org/2000/svg\" height=\"24px\"viewBox=\"0 0 24 24\"\n",
              "       width=\"24px\">\n",
              "    <path d=\"M0 0h24v24H0V0z\" fill=\"none\"/>\n",
              "    <path d=\"M18.56 5.44l.94 2.06.94-2.06 2.06-.94-2.06-.94-.94-2.06-.94 2.06-2.06.94zm-11 1L8.5 8.5l.94-2.06 2.06-.94-2.06-.94L8.5 2.5l-.94 2.06-2.06.94zm10 10l.94 2.06.94-2.06 2.06-.94-2.06-.94-.94-2.06-.94 2.06-2.06.94z\"/><path d=\"M17.41 7.96l-1.37-1.37c-.4-.4-.92-.59-1.43-.59-.52 0-1.04.2-1.43.59L10.3 9.45l-7.72 7.72c-.78.78-.78 2.05 0 2.83L4 21.41c.39.39.9.59 1.41.59.51 0 1.02-.2 1.41-.59l7.78-7.78 2.81-2.81c.8-.78.8-2.07 0-2.86zM5.41 20L4 18.59l7.72-7.72 1.47 1.35L5.41 20z\"/>\n",
              "  </svg>\n",
              "      </button>\n",
              "      \n",
              "  <style>\n",
              "    .colab-df-container {\n",
              "      display:flex;\n",
              "      flex-wrap:wrap;\n",
              "      gap: 12px;\n",
              "    }\n",
              "\n",
              "    .colab-df-convert {\n",
              "      background-color: #E8F0FE;\n",
              "      border: none;\n",
              "      border-radius: 50%;\n",
              "      cursor: pointer;\n",
              "      display: none;\n",
              "      fill: #1967D2;\n",
              "      height: 32px;\n",
              "      padding: 0 0 0 0;\n",
              "      width: 32px;\n",
              "    }\n",
              "\n",
              "    .colab-df-convert:hover {\n",
              "      background-color: #E2EBFA;\n",
              "      box-shadow: 0px 1px 2px rgba(60, 64, 67, 0.3), 0px 1px 3px 1px rgba(60, 64, 67, 0.15);\n",
              "      fill: #174EA6;\n",
              "    }\n",
              "\n",
              "    [theme=dark] .colab-df-convert {\n",
              "      background-color: #3B4455;\n",
              "      fill: #D2E3FC;\n",
              "    }\n",
              "\n",
              "    [theme=dark] .colab-df-convert:hover {\n",
              "      background-color: #434B5C;\n",
              "      box-shadow: 0px 1px 3px 1px rgba(0, 0, 0, 0.15);\n",
              "      filter: drop-shadow(0px 1px 2px rgba(0, 0, 0, 0.3));\n",
              "      fill: #FFFFFF;\n",
              "    }\n",
              "  </style>\n",
              "\n",
              "      <script>\n",
              "        const buttonEl =\n",
              "          document.querySelector('#df-8fcb9ba8-4120-4020-acc6-32ebb127d72f button.colab-df-convert');\n",
              "        buttonEl.style.display =\n",
              "          google.colab.kernel.accessAllowed ? 'block' : 'none';\n",
              "\n",
              "        async function convertToInteractive(key) {\n",
              "          const element = document.querySelector('#df-8fcb9ba8-4120-4020-acc6-32ebb127d72f');\n",
              "          const dataTable =\n",
              "            await google.colab.kernel.invokeFunction('convertToInteractive',\n",
              "                                                     [key], {});\n",
              "          if (!dataTable) return;\n",
              "\n",
              "          const docLinkHtml = 'Like what you see? Visit the ' +\n",
              "            '<a target=\"_blank\" href=https://colab.research.google.com/notebooks/data_table.ipynb>data table notebook</a>'\n",
              "            + ' to learn more about interactive tables.';\n",
              "          element.innerHTML = '';\n",
              "          dataTable['output_type'] = 'display_data';\n",
              "          await google.colab.output.renderOutput(dataTable, element);\n",
              "          const docLink = document.createElement('div');\n",
              "          docLink.innerHTML = docLinkHtml;\n",
              "          element.appendChild(docLink);\n",
              "        }\n",
              "      </script>\n",
              "    </div>\n",
              "  </div>\n",
              "  "
            ]
          },
          "metadata": {},
          "execution_count": 180
        }
      ]
    },
    {
      "cell_type": "markdown",
      "source": [
        "Wow the std of each of the 6 main columns is already sorted.\n",
        "I want to take a look at each column.\n"
      ],
      "metadata": {
        "id": "AQbyE6mptD0u"
      }
    },
    {
      "cell_type": "code",
      "source": [
        "df.head(1)"
      ],
      "metadata": {
        "colab": {
          "base_uri": "https://localhost:8080/",
          "height": 159
        },
        "id": "RhnElhdKzXPf",
        "outputId": "c757a61a-8426-4452-b308-483e3f3a333c"
      },
      "execution_count": null,
      "outputs": [
        {
          "output_type": "execute_result",
          "data": {
            "text/plain": [
              "   Overall rank  Country  Score  GDP per capita  Social support  \\\n",
              "0             1  Finland  7.769            1.34           1.587   \n",
              "\n",
              "   Healthy life expectancy  Freedom to make life choices  Generosity  \\\n",
              "0                    0.986                         0.596       0.153   \n",
              "\n",
              "   Perceptions of corruption  Year          Region  \\\n",
              "0                      0.393  2019  Western Europe   \n",
              "\n",
              "                               language  population   lat   lng  independent  \\\n",
              "0  {'fin': 'Finnish', 'swe': 'Swedish'}     5530719  64.0  26.0         True   \n",
              "\n",
              "   landlocked cca3  \n",
              "0       False  FIN  "
            ],
            "text/html": [
              "\n",
              "  <div id=\"df-b1a2588d-30b3-408f-be75-0007353aaea2\">\n",
              "    <div class=\"colab-df-container\">\n",
              "      <div>\n",
              "<style scoped>\n",
              "    .dataframe tbody tr th:only-of-type {\n",
              "        vertical-align: middle;\n",
              "    }\n",
              "\n",
              "    .dataframe tbody tr th {\n",
              "        vertical-align: top;\n",
              "    }\n",
              "\n",
              "    .dataframe thead th {\n",
              "        text-align: right;\n",
              "    }\n",
              "</style>\n",
              "<table border=\"1\" class=\"dataframe\">\n",
              "  <thead>\n",
              "    <tr style=\"text-align: right;\">\n",
              "      <th></th>\n",
              "      <th>Overall rank</th>\n",
              "      <th>Country</th>\n",
              "      <th>Score</th>\n",
              "      <th>GDP per capita</th>\n",
              "      <th>Social support</th>\n",
              "      <th>Healthy life expectancy</th>\n",
              "      <th>Freedom to make life choices</th>\n",
              "      <th>Generosity</th>\n",
              "      <th>Perceptions of corruption</th>\n",
              "      <th>Year</th>\n",
              "      <th>Region</th>\n",
              "      <th>language</th>\n",
              "      <th>population</th>\n",
              "      <th>lat</th>\n",
              "      <th>lng</th>\n",
              "      <th>independent</th>\n",
              "      <th>landlocked</th>\n",
              "      <th>cca3</th>\n",
              "    </tr>\n",
              "  </thead>\n",
              "  <tbody>\n",
              "    <tr>\n",
              "      <th>0</th>\n",
              "      <td>1</td>\n",
              "      <td>Finland</td>\n",
              "      <td>7.769</td>\n",
              "      <td>1.34</td>\n",
              "      <td>1.587</td>\n",
              "      <td>0.986</td>\n",
              "      <td>0.596</td>\n",
              "      <td>0.153</td>\n",
              "      <td>0.393</td>\n",
              "      <td>2019</td>\n",
              "      <td>Western Europe</td>\n",
              "      <td>{'fin': 'Finnish', 'swe': 'Swedish'}</td>\n",
              "      <td>5530719</td>\n",
              "      <td>64.0</td>\n",
              "      <td>26.0</td>\n",
              "      <td>True</td>\n",
              "      <td>False</td>\n",
              "      <td>FIN</td>\n",
              "    </tr>\n",
              "  </tbody>\n",
              "</table>\n",
              "</div>\n",
              "      <button class=\"colab-df-convert\" onclick=\"convertToInteractive('df-b1a2588d-30b3-408f-be75-0007353aaea2')\"\n",
              "              title=\"Convert this dataframe to an interactive table.\"\n",
              "              style=\"display:none;\">\n",
              "        \n",
              "  <svg xmlns=\"http://www.w3.org/2000/svg\" height=\"24px\"viewBox=\"0 0 24 24\"\n",
              "       width=\"24px\">\n",
              "    <path d=\"M0 0h24v24H0V0z\" fill=\"none\"/>\n",
              "    <path d=\"M18.56 5.44l.94 2.06.94-2.06 2.06-.94-2.06-.94-.94-2.06-.94 2.06-2.06.94zm-11 1L8.5 8.5l.94-2.06 2.06-.94-2.06-.94L8.5 2.5l-.94 2.06-2.06.94zm10 10l.94 2.06.94-2.06 2.06-.94-2.06-.94-.94-2.06-.94 2.06-2.06.94z\"/><path d=\"M17.41 7.96l-1.37-1.37c-.4-.4-.92-.59-1.43-.59-.52 0-1.04.2-1.43.59L10.3 9.45l-7.72 7.72c-.78.78-.78 2.05 0 2.83L4 21.41c.39.39.9.59 1.41.59.51 0 1.02-.2 1.41-.59l7.78-7.78 2.81-2.81c.8-.78.8-2.07 0-2.86zM5.41 20L4 18.59l7.72-7.72 1.47 1.35L5.41 20z\"/>\n",
              "  </svg>\n",
              "      </button>\n",
              "      \n",
              "  <style>\n",
              "    .colab-df-container {\n",
              "      display:flex;\n",
              "      flex-wrap:wrap;\n",
              "      gap: 12px;\n",
              "    }\n",
              "\n",
              "    .colab-df-convert {\n",
              "      background-color: #E8F0FE;\n",
              "      border: none;\n",
              "      border-radius: 50%;\n",
              "      cursor: pointer;\n",
              "      display: none;\n",
              "      fill: #1967D2;\n",
              "      height: 32px;\n",
              "      padding: 0 0 0 0;\n",
              "      width: 32px;\n",
              "    }\n",
              "\n",
              "    .colab-df-convert:hover {\n",
              "      background-color: #E2EBFA;\n",
              "      box-shadow: 0px 1px 2px rgba(60, 64, 67, 0.3), 0px 1px 3px 1px rgba(60, 64, 67, 0.15);\n",
              "      fill: #174EA6;\n",
              "    }\n",
              "\n",
              "    [theme=dark] .colab-df-convert {\n",
              "      background-color: #3B4455;\n",
              "      fill: #D2E3FC;\n",
              "    }\n",
              "\n",
              "    [theme=dark] .colab-df-convert:hover {\n",
              "      background-color: #434B5C;\n",
              "      box-shadow: 0px 1px 3px 1px rgba(0, 0, 0, 0.15);\n",
              "      filter: drop-shadow(0px 1px 2px rgba(0, 0, 0, 0.3));\n",
              "      fill: #FFFFFF;\n",
              "    }\n",
              "  </style>\n",
              "\n",
              "      <script>\n",
              "        const buttonEl =\n",
              "          document.querySelector('#df-b1a2588d-30b3-408f-be75-0007353aaea2 button.colab-df-convert');\n",
              "        buttonEl.style.display =\n",
              "          google.colab.kernel.accessAllowed ? 'block' : 'none';\n",
              "\n",
              "        async function convertToInteractive(key) {\n",
              "          const element = document.querySelector('#df-b1a2588d-30b3-408f-be75-0007353aaea2');\n",
              "          const dataTable =\n",
              "            await google.colab.kernel.invokeFunction('convertToInteractive',\n",
              "                                                     [key], {});\n",
              "          if (!dataTable) return;\n",
              "\n",
              "          const docLinkHtml = 'Like what you see? Visit the ' +\n",
              "            '<a target=\"_blank\" href=https://colab.research.google.com/notebooks/data_table.ipynb>data table notebook</a>'\n",
              "            + ' to learn more about interactive tables.';\n",
              "          element.innerHTML = '';\n",
              "          dataTable['output_type'] = 'display_data';\n",
              "          await google.colab.output.renderOutput(dataTable, element);\n",
              "          const docLink = document.createElement('div');\n",
              "          docLink.innerHTML = docLinkHtml;\n",
              "          element.appendChild(docLink);\n",
              "        }\n",
              "      </script>\n",
              "    </div>\n",
              "  </div>\n",
              "  "
            ]
          },
          "metadata": {},
          "execution_count": 181
        }
      ]
    },
    {
      "cell_type": "markdown",
      "source": [
        "From what I can interpret from these two plots is that money matters."
      ],
      "metadata": {
        "id": "l8KnQE3BoVhW"
      }
    },
    {
      "cell_type": "code",
      "source": [
        "# Happiness seems to be about the same in different regions, lets groupby region\n",
        "df.groupby(\"Region\")[\"Score\"].mean().sort_values()\n",
        "# From a glance and from my knowledge, it seems the less developed regions of the world\n",
        "# are less happy. Now lets dig into some of the individual stats."
      ],
      "metadata": {
        "colab": {
          "base_uri": "https://localhost:8080/"
        },
        "id": "g1ksqkwSpoSS",
        "outputId": "c170a0ea-80b8-43a5-e9d1-621c0964cac7"
      },
      "execution_count": null,
      "outputs": [
        {
          "output_type": "execute_result",
          "data": {
            "text/plain": [
              "Region\n",
              "Sub-Saharan Africa                 4.190153\n",
              "Southern Asia                      4.580657\n",
              "Southeastern Asia                  5.335227\n",
              "Middle East and Northern Africa    5.346173\n",
              "Central and Eastern Europe         5.428875\n",
              "Eastern Asia                       5.651567\n",
              "Latin America and Caribbean        6.023811\n",
              "Western Europe                     6.745029\n",
              "North America                      7.174700\n",
              "Australia and New Zealand          7.294600\n",
              "Name: Score, dtype: float64"
            ]
          },
          "metadata": {},
          "execution_count": 182
        }
      ]
    },
    {
      "cell_type": "code",
      "source": [
        "# GDP\n",
        "df.groupby(\"Region\")[\"GDP per capita\"].mean().sort_values()"
      ],
      "metadata": {
        "colab": {
          "base_uri": "https://localhost:8080/"
        },
        "id": "rl7u0iaXzxrh",
        "outputId": "51ef8558-f382-48e8-e7fc-198cdb239bb3"
      },
      "execution_count": null,
      "outputs": [
        {
          "output_type": "execute_result",
          "data": {
            "text/plain": [
              "Region\n",
              "Sub-Saharan Africa                 0.448124\n",
              "Southern Asia                      0.638813\n",
              "Southeastern Asia                  0.893340\n",
              "Latin America and Caribbean        0.941661\n",
              "Central and Eastern Europe         1.018734\n",
              "Middle East and Northern Africa    1.105559\n",
              "Eastern Asia                       1.237695\n",
              "Australia and New Zealand          1.356197\n",
              "Western Europe                     1.368955\n",
              "North America                      1.422037\n",
              "Name: GDP per capita, dtype: float64"
            ]
          },
          "metadata": {},
          "execution_count": 183
        }
      ]
    },
    {
      "cell_type": "code",
      "source": [
        "fig9 = px.scatter(df, x=\"GDP per capita\", y=\"Score\", animation_frame=\"Year\",\n",
        "           animation_group=\"Country\",\n",
        "           size=\"Overall rank\", color=\"Region\", hover_name=\"Country\",)\n",
        "\n",
        "# build jupyter dash app \n",
        "app = JupyterDash(__name__)\n",
        "# add html components and figure to app\n",
        "app.layout = html.Div([dcc.Graph(figure=fig9)])\n",
        "# run app inline\n",
        "app.run_server(mode='inline') "
      ],
      "metadata": {
        "colab": {
          "base_uri": "https://localhost:8080/",
          "height": 671
        },
        "id": "lczJcxV7vDs9",
        "outputId": "8aa81536-4dfb-45b0-c4c7-469998997be0"
      },
      "execution_count": null,
      "outputs": [
        {
          "output_type": "display_data",
          "data": {
            "text/plain": [
              "<IPython.core.display.Javascript object>"
            ],
            "application/javascript": [
              "(async (port, path, width, height, cache, element) => {\n",
              "    if (!google.colab.kernel.accessAllowed && !cache) {\n",
              "      return;\n",
              "    }\n",
              "    element.appendChild(document.createTextNode(''));\n",
              "    const url = await google.colab.kernel.proxyPort(port, {cache});\n",
              "    const iframe = document.createElement('iframe');\n",
              "    iframe.src = new URL(path, url).toString();\n",
              "    iframe.height = height;\n",
              "    iframe.width = width;\n",
              "    iframe.style.border = 0;\n",
              "    element.appendChild(iframe);\n",
              "  })(8050, \"/\", \"100%\", 650, false, window.element)"
            ]
          },
          "metadata": {}
        }
      ]
    },
    {
      "cell_type": "code",
      "source": [
        "# Social Support\n",
        "df.groupby(\"Region\")[\"Social support\"].mean().sort_values()"
      ],
      "metadata": {
        "colab": {
          "base_uri": "https://localhost:8080/"
        },
        "id": "enXnL9pM3MdJ",
        "outputId": "bf768113-3a3a-4692-b7b5-17f7c8d60f95"
      },
      "execution_count": null,
      "outputs": [
        {
          "output_type": "execute_result",
          "data": {
            "text/plain": [
              "Region\n",
              "Southern Asia                      0.803835\n",
              "Sub-Saharan Africa                 0.845690\n",
              "Middle East and Northern Africa    0.998324\n",
              "Southeastern Asia                  1.093673\n",
              "Central and Eastern Europe         1.171523\n",
              "Latin America and Caribbean        1.187033\n",
              "Eastern Asia                       1.199232\n",
              "Western Europe                     1.338420\n",
              "North America                      1.357991\n",
              "Australia and New Zealand          1.424368\n",
              "Name: Social support, dtype: float64"
            ]
          },
          "metadata": {},
          "execution_count": 185
        }
      ]
    },
    {
      "cell_type": "code",
      "source": [
        "fig10 = px.scatter(df, x=\"Social support\", y=\"Score\", animation_frame=\"Year\",\n",
        "           animation_group=\"Country\",\n",
        "           size=\"Overall rank\", color=\"Region\", hover_name=\"Country\",)\n",
        "\n",
        "# build jupyter dash app \n",
        "app = JupyterDash(__name__)\n",
        "# add html components and figure to app\n",
        "app.layout = html.Div([dcc.Graph(figure=fig10)])\n",
        "# run app inline\n",
        "app.run_server(mode='inline') "
      ],
      "metadata": {
        "colab": {
          "base_uri": "https://localhost:8080/",
          "height": 671
        },
        "id": "E-lYHDiM3BDo",
        "outputId": "c83df5bd-e0ff-48e4-866e-ee352f71cde2"
      },
      "execution_count": null,
      "outputs": [
        {
          "output_type": "display_data",
          "data": {
            "text/plain": [
              "<IPython.core.display.Javascript object>"
            ],
            "application/javascript": [
              "(async (port, path, width, height, cache, element) => {\n",
              "    if (!google.colab.kernel.accessAllowed && !cache) {\n",
              "      return;\n",
              "    }\n",
              "    element.appendChild(document.createTextNode(''));\n",
              "    const url = await google.colab.kernel.proxyPort(port, {cache});\n",
              "    const iframe = document.createElement('iframe');\n",
              "    iframe.src = new URL(path, url).toString();\n",
              "    iframe.height = height;\n",
              "    iframe.width = width;\n",
              "    iframe.style.border = 0;\n",
              "    element.appendChild(iframe);\n",
              "  })(8050, \"/\", \"100%\", 650, false, window.element)"
            ]
          },
          "metadata": {}
        }
      ]
    },
    {
      "cell_type": "code",
      "source": [
        "# Social Support\n",
        "df.groupby(\"Region\")[\"Healthy life expectancy\"].mean().sort_values()"
      ],
      "metadata": {
        "colab": {
          "base_uri": "https://localhost:8080/"
        },
        "id": "2EUF8RTB3_tI",
        "outputId": "8165d67e-dae0-4efe-b246-124eb4bb25a3"
      },
      "execution_count": null,
      "outputs": [
        {
          "output_type": "execute_result",
          "data": {
            "text/plain": [
              "Region\n",
              "Sub-Saharan Africa                 0.283879\n",
              "Southern Asia                      0.513089\n",
              "Southeastern Asia                  0.635452\n",
              "Middle East and Northern Africa    0.671890\n",
              "Latin America and Caribbean        0.676074\n",
              "Central and Eastern Europe         0.695550\n",
              "North America                      0.861086\n",
              "Eastern Asia                       0.862612\n",
              "Western Europe                     0.892135\n",
              "Australia and New Zealand          0.903074\n",
              "Name: Healthy life expectancy, dtype: float64"
            ]
          },
          "metadata": {},
          "execution_count": 187
        }
      ]
    },
    {
      "cell_type": "code",
      "source": [
        "fig11 = px.scatter(df, x=\"Healthy life expectancy\", y=\"Score\", animation_frame=\"Year\",\n",
        "           animation_group=\"Country\",\n",
        "           size=\"Overall rank\", color=\"Region\", hover_name=\"Country\",)\n",
        "\n",
        "# build jupyter dash app \n",
        "app = JupyterDash(__name__)\n",
        "# add html components and figure to app\n",
        "app.layout = html.Div([dcc.Graph(figure=fig11)])\n",
        "# run app inline\n",
        "app.run_server(mode='inline') "
      ],
      "metadata": {
        "colab": {
          "base_uri": "https://localhost:8080/",
          "height": 671
        },
        "id": "3XBGPsqd4WMC",
        "outputId": "ebf8b0cb-4932-496f-ba7e-69a91646f0d7"
      },
      "execution_count": null,
      "outputs": [
        {
          "output_type": "display_data",
          "data": {
            "text/plain": [
              "<IPython.core.display.Javascript object>"
            ],
            "application/javascript": [
              "(async (port, path, width, height, cache, element) => {\n",
              "    if (!google.colab.kernel.accessAllowed && !cache) {\n",
              "      return;\n",
              "    }\n",
              "    element.appendChild(document.createTextNode(''));\n",
              "    const url = await google.colab.kernel.proxyPort(port, {cache});\n",
              "    const iframe = document.createElement('iframe');\n",
              "    iframe.src = new URL(path, url).toString();\n",
              "    iframe.height = height;\n",
              "    iframe.width = width;\n",
              "    iframe.style.border = 0;\n",
              "    element.appendChild(iframe);\n",
              "  })(8050, \"/\", \"100%\", 650, false, window.element)"
            ]
          },
          "metadata": {}
        }
      ]
    },
    {
      "cell_type": "code",
      "source": [
        "# Freedom to make life choices\n",
        "df.groupby(\"Region\")[\"Freedom to make life choices\"].mean().sort_values()"
      ],
      "metadata": {
        "colab": {
          "base_uri": "https://localhost:8080/"
        },
        "id": "WaRnm5hQ4j6G",
        "outputId": "f43a61e9-9901-4390-b59a-8e038aee5cf3"
      },
      "execution_count": null,
      "outputs": [
        {
          "output_type": "execute_result",
          "data": {
            "text/plain": [
              "Region\n",
              "Middle East and Northern Africa    0.350870\n",
              "Central and Eastern Europe         0.352283\n",
              "Sub-Saharan Africa                 0.353638\n",
              "Southern Asia                      0.392867\n",
              "Eastern Asia                       0.418185\n",
              "Latin America and Caribbean        0.464330\n",
              "Western Europe                     0.515215\n",
              "Southeastern Asia                  0.543723\n",
              "North America                      0.558918\n",
              "Australia and New Zealand          0.611413\n",
              "Name: Freedom to make life choices, dtype: float64"
            ]
          },
          "metadata": {},
          "execution_count": 189
        }
      ]
    },
    {
      "cell_type": "code",
      "source": [
        "fig12 = px.scatter(df, x=\"Freedom to make life choices\", y=\"Score\", animation_frame=\"Year\",\n",
        "           animation_group=\"Country\",\n",
        "           size=\"Overall rank\", color=\"Region\", hover_name=\"Country\",)\n",
        "\n",
        "# build jupyter dash app \n",
        "app = JupyterDash(__name__)\n",
        "# add html components and figure to app\n",
        "app.layout = html.Div([dcc.Graph(figure=fig12)])\n",
        "# run app inline\n",
        "app.run_server(mode='inline') "
      ],
      "metadata": {
        "colab": {
          "base_uri": "https://localhost:8080/",
          "height": 671
        },
        "id": "tuRjR2b14vIi",
        "outputId": "38a4ffc1-debb-47f8-a148-3c57f9ef0b51"
      },
      "execution_count": null,
      "outputs": [
        {
          "output_type": "display_data",
          "data": {
            "text/plain": [
              "<IPython.core.display.Javascript object>"
            ],
            "application/javascript": [
              "(async (port, path, width, height, cache, element) => {\n",
              "    if (!google.colab.kernel.accessAllowed && !cache) {\n",
              "      return;\n",
              "    }\n",
              "    element.appendChild(document.createTextNode(''));\n",
              "    const url = await google.colab.kernel.proxyPort(port, {cache});\n",
              "    const iframe = document.createElement('iframe');\n",
              "    iframe.src = new URL(path, url).toString();\n",
              "    iframe.height = height;\n",
              "    iframe.width = width;\n",
              "    iframe.style.border = 0;\n",
              "    element.appendChild(iframe);\n",
              "  })(8050, \"/\", \"100%\", 650, false, window.element)"
            ]
          },
          "metadata": {}
        }
      ]
    },
    {
      "cell_type": "code",
      "source": [
        "# Generosity\n",
        "df.groupby(\"Region\")[\"Generosity\"].mean().sort_values()"
      ],
      "metadata": {
        "colab": {
          "base_uri": "https://localhost:8080/"
        },
        "id": "Ey6kayjG53BR",
        "outputId": "cfb3371f-cb65-442d-ff0a-b29acc231df8"
      },
      "execution_count": null,
      "outputs": [
        {
          "output_type": "execute_result",
          "data": {
            "text/plain": [
              "Region\n",
              "Central and Eastern Europe         0.156806\n",
              "Middle East and Northern Africa    0.178408\n",
              "Latin America and Caribbean        0.185378\n",
              "Eastern Asia                       0.199801\n",
              "Sub-Saharan Africa                 0.207592\n",
              "Western Europe                     0.271151\n",
              "Southern Asia                      0.300888\n",
              "North America                      0.372339\n",
              "Southeastern Asia                  0.384195\n",
              "Australia and New Zealand          0.424441\n",
              "Name: Generosity, dtype: float64"
            ]
          },
          "metadata": {},
          "execution_count": 191
        }
      ]
    },
    {
      "cell_type": "code",
      "source": [
        "fig13 = px.scatter(df, x=\"Generosity\", y=\"Score\", animation_frame=\"Year\",\n",
        "           animation_group=\"Country\",\n",
        "           size=\"Overall rank\", color=\"Region\", hover_name=\"Country\",)\n",
        "\n",
        "# build jupyter dash app \n",
        "app = JupyterDash(__name__)\n",
        "# add html components and figure to app\n",
        "app.layout = html.Div([dcc.Graph(figure=fig13)])\n",
        "# run app inline\n",
        "app.run_server(mode='inline') "
      ],
      "metadata": {
        "colab": {
          "base_uri": "https://localhost:8080/",
          "height": 671
        },
        "id": "shMWAuVi58DM",
        "outputId": "0087bd8d-66fc-4867-b37f-918e725e5616"
      },
      "execution_count": null,
      "outputs": [
        {
          "output_type": "display_data",
          "data": {
            "text/plain": [
              "<IPython.core.display.Javascript object>"
            ],
            "application/javascript": [
              "(async (port, path, width, height, cache, element) => {\n",
              "    if (!google.colab.kernel.accessAllowed && !cache) {\n",
              "      return;\n",
              "    }\n",
              "    element.appendChild(document.createTextNode(''));\n",
              "    const url = await google.colab.kernel.proxyPort(port, {cache});\n",
              "    const iframe = document.createElement('iframe');\n",
              "    iframe.src = new URL(path, url).toString();\n",
              "    iframe.height = height;\n",
              "    iframe.width = width;\n",
              "    iframe.style.border = 0;\n",
              "    element.appendChild(iframe);\n",
              "  })(8050, \"/\", \"100%\", 650, false, window.element)"
            ]
          },
          "metadata": {}
        }
      ]
    },
    {
      "cell_type": "code",
      "source": [
        "# Perceptions of corruption\n",
        "df.groupby(\"Region\")[\"Perceptions of corruption\"].mean().sort_values()"
      ],
      "metadata": {
        "colab": {
          "base_uri": "https://localhost:8080/"
        },
        "id": "h6A_Sih26I_-",
        "outputId": "69193ad9-51ec-472c-e29a-42e787355c33"
      },
      "execution_count": null,
      "outputs": [
        {
          "output_type": "execute_result",
          "data": {
            "text/plain": [
              "Region\n",
              "Central and Eastern Europe         0.075969\n",
              "Latin America and Caribbean        0.092432\n",
              "Southern Asia                      0.100357\n",
              "Sub-Saharan Africa                 0.105985\n",
              "Eastern Asia                       0.117992\n",
              "Southeastern Asia                  0.136140\n",
              "Middle East and Northern Africa    0.144609\n",
              "Western Europe                     0.221963\n",
              "North America                      0.223345\n",
              "Australia and New Zealand          0.357294\n",
              "Name: Perceptions of corruption, dtype: float64"
            ]
          },
          "metadata": {},
          "execution_count": 193
        }
      ]
    },
    {
      "cell_type": "code",
      "source": [
        "# Language is an intersting one, I am going to see if english as an offical language correlates to anything\n",
        "df[\"Speaks English\"] = df[\"language\"].apply(lambda d: \"English\" in d)"
      ],
      "metadata": {
        "id": "t4x9GrY47VN3"
      },
      "execution_count": null,
      "outputs": []
    },
    {
      "cell_type": "code",
      "source": [
        "# Doesn't look like any correlation\n",
        "fig14 = px.scatter(df, x=\"GDP per capita\", y=\"Score\", animation_frame=\"Year\",\n",
        "           animation_group=\"Country\",\n",
        "           size=\"Overall rank\", color=\"Speaks English\", hover_name=\"Country\",)\n",
        "\n",
        "# build jupyter dash app \n",
        "app = JupyterDash(__name__)\n",
        "# add html components and figure to app\n",
        "app.layout = html.Div([dcc.Graph(figure=fig14)])\n",
        "# run app inline\n",
        "app.run_server(mode='inline') "
      ],
      "metadata": {
        "colab": {
          "base_uri": "https://localhost:8080/",
          "height": 671
        },
        "id": "v2d1brReRm9l",
        "outputId": "349f7ac1-4194-4792-8f13-55b6fe126d68"
      },
      "execution_count": null,
      "outputs": [
        {
          "output_type": "display_data",
          "data": {
            "text/plain": [
              "<IPython.core.display.Javascript object>"
            ],
            "application/javascript": [
              "(async (port, path, width, height, cache, element) => {\n",
              "    if (!google.colab.kernel.accessAllowed && !cache) {\n",
              "      return;\n",
              "    }\n",
              "    element.appendChild(document.createTextNode(''));\n",
              "    const url = await google.colab.kernel.proxyPort(port, {cache});\n",
              "    const iframe = document.createElement('iframe');\n",
              "    iframe.src = new URL(path, url).toString();\n",
              "    iframe.height = height;\n",
              "    iframe.width = width;\n",
              "    iframe.style.border = 0;\n",
              "    element.appendChild(iframe);\n",
              "  })(8050, \"/\", \"100%\", 650, false, window.element)"
            ]
          },
          "metadata": {}
        }
      ]
    },
    {
      "cell_type": "code",
      "source": [
        "# absolute distance from equator\n",
        "df[\"Dist from Equator\"] = abs(df[\"lat\"])"
      ],
      "metadata": {
        "id": "RVP1JB-kXxwt"
      },
      "execution_count": null,
      "outputs": []
    },
    {
      "cell_type": "code",
      "source": [
        "# Doesn't look like any correlation\n",
        "fig15 = px.scatter(df, x=\"Score\", y=\"Dist from Equator\", animation_frame=\"Year\",\n",
        "           animation_group=\"Country\",\n",
        "           size=\"Overall rank\", color=\"Region\", hover_name=\"Country\",)\n",
        "\n",
        "# build jupyter dash app \n",
        "app = JupyterDash(__name__)\n",
        "# add html components and figure to app\n",
        "app.layout = html.Div([dcc.Graph(figure=fig15)])\n",
        "# run app inline\n",
        "app.run_server(mode='inline') "
      ],
      "metadata": {
        "colab": {
          "base_uri": "https://localhost:8080/",
          "height": 671
        },
        "id": "p16Jo-Z8Xc_8",
        "outputId": "93d843c6-5076-40e5-d35f-23af1f757215"
      },
      "execution_count": null,
      "outputs": [
        {
          "output_type": "display_data",
          "data": {
            "text/plain": [
              "<IPython.core.display.Javascript object>"
            ],
            "application/javascript": [
              "(async (port, path, width, height, cache, element) => {\n",
              "    if (!google.colab.kernel.accessAllowed && !cache) {\n",
              "      return;\n",
              "    }\n",
              "    element.appendChild(document.createTextNode(''));\n",
              "    const url = await google.colab.kernel.proxyPort(port, {cache});\n",
              "    const iframe = document.createElement('iframe');\n",
              "    iframe.src = new URL(path, url).toString();\n",
              "    iframe.height = height;\n",
              "    iframe.width = width;\n",
              "    iframe.style.border = 0;\n",
              "    element.appendChild(iframe);\n",
              "  })(8050, \"/\", \"100%\", 650, false, window.element)"
            ]
          },
          "metadata": {}
        }
      ]
    },
    {
      "cell_type": "code",
      "source": [
        "df.corr()"
      ],
      "metadata": {
        "colab": {
          "base_uri": "https://localhost:8080/",
          "height": 665
        },
        "id": "ZPLNngu1XVyk",
        "outputId": "fbe3bdaa-b543-4621-8771-c2789a47ab10"
      },
      "execution_count": null,
      "outputs": [
        {
          "output_type": "execute_result",
          "data": {
            "text/plain": [
              "                              Overall rank     Score  GDP per capita  \\\n",
              "Overall rank                      1.000000 -0.992066       -0.794791   \n",
              "Score                            -0.992066  1.000000        0.789284   \n",
              "GDP per capita                   -0.794791  0.789284        1.000000   \n",
              "Social support                   -0.644842  0.648799        0.585966   \n",
              "Healthy life expectancy          -0.743655  0.742456        0.784338   \n",
              "Freedom to make life choices     -0.537942  0.551258        0.340511   \n",
              "Generosity                       -0.117713  0.137578       -0.014560   \n",
              "Perceptions of corruption        -0.372162  0.397821        0.304181   \n",
              "Year                             -0.007768  0.007065        0.019768   \n",
              "population                        0.053882 -0.048664       -0.018574   \n",
              "lat                              -0.331933  0.344163        0.428778   \n",
              "lng                               0.186464 -0.173984        0.010837   \n",
              "independent                       0.037043 -0.031328       -0.091712   \n",
              "landlocked                        0.214386 -0.218732       -0.271808   \n",
              "Speaks English                    0.094786 -0.088482       -0.091828   \n",
              "Dist from Equator                -0.484403  0.500633        0.578201   \n",
              "\n",
              "                              Social support  Healthy life expectancy  \\\n",
              "Overall rank                       -0.644842                -0.743655   \n",
              "Score                               0.648799                 0.742456   \n",
              "GDP per capita                      0.585966                 0.784338   \n",
              "Social support                      1.000000                 0.572650   \n",
              "Healthy life expectancy             0.572650                 1.000000   \n",
              "Freedom to make life choices        0.420361                 0.340745   \n",
              "Generosity                         -0.037262                 0.010638   \n",
              "Perceptions of corruption           0.126481                 0.250463   \n",
              "Year                                0.367431                 0.130302   \n",
              "population                         -0.093306                 0.001132   \n",
              "lat                                 0.230123                 0.471188   \n",
              "lng                                -0.077434                 0.007020   \n",
              "independent                        -0.030157                -0.121733   \n",
              "landlocked                         -0.060764                -0.259010   \n",
              "Speaks English                     -0.032687                -0.213855   \n",
              "Dist from Equator                   0.411152                 0.573618   \n",
              "\n",
              "                              Freedom to make life choices  Generosity  \\\n",
              "Overall rank                                     -0.537942   -0.117713   \n",
              "Score                                             0.551258    0.137578   \n",
              "GDP per capita                                    0.340511   -0.014560   \n",
              "Social support                                    0.420361   -0.037262   \n",
              "Healthy life expectancy                           0.340745    0.010638   \n",
              "Freedom to make life choices                      1.000000    0.290706   \n",
              "Generosity                                        0.290706    1.000000   \n",
              "Perceptions of corruption                         0.459520    0.318945   \n",
              "Year                                              0.010353   -0.192587   \n",
              "population                                        0.050203   -0.046139   \n",
              "lat                                              -0.012516   -0.019313   \n",
              "lng                                              -0.008276    0.210941   \n",
              "independent                                       0.032967   -0.006378   \n",
              "landlocked                                       -0.083569   -0.012073   \n",
              "Speaks English                                    0.146276    0.220485   \n",
              "Dist from Equator                                 0.078588   -0.037814   \n",
              "\n",
              "                              Perceptions of corruption      Year  population  \\\n",
              "Overall rank                                  -0.372162 -0.007768    0.053882   \n",
              "Score                                          0.397821  0.007065   -0.048664   \n",
              "GDP per capita                                 0.304181  0.019768   -0.018574   \n",
              "Social support                                 0.126481  0.367431   -0.093306   \n",
              "Healthy life expectancy                        0.250463  0.130302    0.001132   \n",
              "Freedom to make life choices                   0.459520  0.010353    0.050203   \n",
              "Generosity                                     0.318945 -0.192587   -0.046139   \n",
              "Perceptions of corruption                      1.000000 -0.122339   -0.087093   \n",
              "Year                                          -0.122339  1.000000    0.000733   \n",
              "population                                    -0.087093  0.000733    1.000000   \n",
              "lat                                            0.114446 -0.001179    0.006775   \n",
              "lng                                            0.117732  0.001570    0.162538   \n",
              "independent                                   -0.045179  0.005725    0.034232   \n",
              "landlocked                                    -0.034386  0.010933   -0.125195   \n",
              "Speaks English                                 0.088870  0.011106    0.108463   \n",
              "Dist from Equator                              0.194035  0.005708   -0.043198   \n",
              "\n",
              "                                   lat       lng  independent  landlocked  \\\n",
              "Overall rank                 -0.331933  0.186464     0.037043    0.214386   \n",
              "Score                         0.344163 -0.173984    -0.031328   -0.218732   \n",
              "GDP per capita                0.428778  0.010837    -0.091712   -0.271808   \n",
              "Social support                0.230123 -0.077434    -0.030157   -0.060764   \n",
              "Healthy life expectancy       0.471188  0.007020    -0.121733   -0.259010   \n",
              "Freedom to make life choices -0.012516 -0.008276     0.032967   -0.083569   \n",
              "Generosity                   -0.019313  0.210941    -0.006378   -0.012073   \n",
              "Perceptions of corruption     0.114446  0.117732    -0.045179   -0.034386   \n",
              "Year                         -0.001179  0.001570     0.005725    0.010933   \n",
              "population                    0.006775  0.162538     0.034232   -0.125195   \n",
              "lat                           1.000000  0.078041    -0.020063    0.008750   \n",
              "lng                           0.078041  1.000000    -0.156596    0.120885   \n",
              "independent                  -0.020063 -0.156596     1.000000    0.084153   \n",
              "landlocked                    0.008750  0.120885     0.084153    1.000000   \n",
              "Speaks English               -0.365713  0.058991    -0.053543   -0.026945   \n",
              "Dist from Equator             0.752365  0.096924     0.022269    0.067382   \n",
              "\n",
              "                              Speaks English  Dist from Equator  \n",
              "Overall rank                        0.094786          -0.484403  \n",
              "Score                              -0.088482           0.500633  \n",
              "GDP per capita                     -0.091828           0.578201  \n",
              "Social support                     -0.032687           0.411152  \n",
              "Healthy life expectancy            -0.213855           0.573618  \n",
              "Freedom to make life choices        0.146276           0.078588  \n",
              "Generosity                          0.220485          -0.037814  \n",
              "Perceptions of corruption           0.088870           0.194035  \n",
              "Year                                0.011106           0.005708  \n",
              "population                          0.108463          -0.043198  \n",
              "lat                                -0.365713           0.752365  \n",
              "lng                                 0.058991           0.096924  \n",
              "independent                        -0.053543           0.022269  \n",
              "landlocked                         -0.026945           0.067382  \n",
              "Speaks English                      1.000000          -0.260889  \n",
              "Dist from Equator                  -0.260889           1.000000  "
            ],
            "text/html": [
              "\n",
              "  <div id=\"df-d2a4f970-9b6b-41a2-aa8e-86bbc379c86d\">\n",
              "    <div class=\"colab-df-container\">\n",
              "      <div>\n",
              "<style scoped>\n",
              "    .dataframe tbody tr th:only-of-type {\n",
              "        vertical-align: middle;\n",
              "    }\n",
              "\n",
              "    .dataframe tbody tr th {\n",
              "        vertical-align: top;\n",
              "    }\n",
              "\n",
              "    .dataframe thead th {\n",
              "        text-align: right;\n",
              "    }\n",
              "</style>\n",
              "<table border=\"1\" class=\"dataframe\">\n",
              "  <thead>\n",
              "    <tr style=\"text-align: right;\">\n",
              "      <th></th>\n",
              "      <th>Overall rank</th>\n",
              "      <th>Score</th>\n",
              "      <th>GDP per capita</th>\n",
              "      <th>Social support</th>\n",
              "      <th>Healthy life expectancy</th>\n",
              "      <th>Freedom to make life choices</th>\n",
              "      <th>Generosity</th>\n",
              "      <th>Perceptions of corruption</th>\n",
              "      <th>Year</th>\n",
              "      <th>population</th>\n",
              "      <th>lat</th>\n",
              "      <th>lng</th>\n",
              "      <th>independent</th>\n",
              "      <th>landlocked</th>\n",
              "      <th>Speaks English</th>\n",
              "      <th>Dist from Equator</th>\n",
              "    </tr>\n",
              "  </thead>\n",
              "  <tbody>\n",
              "    <tr>\n",
              "      <th>Overall rank</th>\n",
              "      <td>1.000000</td>\n",
              "      <td>-0.992066</td>\n",
              "      <td>-0.794791</td>\n",
              "      <td>-0.644842</td>\n",
              "      <td>-0.743655</td>\n",
              "      <td>-0.537942</td>\n",
              "      <td>-0.117713</td>\n",
              "      <td>-0.372162</td>\n",
              "      <td>-0.007768</td>\n",
              "      <td>0.053882</td>\n",
              "      <td>-0.331933</td>\n",
              "      <td>0.186464</td>\n",
              "      <td>0.037043</td>\n",
              "      <td>0.214386</td>\n",
              "      <td>0.094786</td>\n",
              "      <td>-0.484403</td>\n",
              "    </tr>\n",
              "    <tr>\n",
              "      <th>Score</th>\n",
              "      <td>-0.992066</td>\n",
              "      <td>1.000000</td>\n",
              "      <td>0.789284</td>\n",
              "      <td>0.648799</td>\n",
              "      <td>0.742456</td>\n",
              "      <td>0.551258</td>\n",
              "      <td>0.137578</td>\n",
              "      <td>0.397821</td>\n",
              "      <td>0.007065</td>\n",
              "      <td>-0.048664</td>\n",
              "      <td>0.344163</td>\n",
              "      <td>-0.173984</td>\n",
              "      <td>-0.031328</td>\n",
              "      <td>-0.218732</td>\n",
              "      <td>-0.088482</td>\n",
              "      <td>0.500633</td>\n",
              "    </tr>\n",
              "    <tr>\n",
              "      <th>GDP per capita</th>\n",
              "      <td>-0.794791</td>\n",
              "      <td>0.789284</td>\n",
              "      <td>1.000000</td>\n",
              "      <td>0.585966</td>\n",
              "      <td>0.784338</td>\n",
              "      <td>0.340511</td>\n",
              "      <td>-0.014560</td>\n",
              "      <td>0.304181</td>\n",
              "      <td>0.019768</td>\n",
              "      <td>-0.018574</td>\n",
              "      <td>0.428778</td>\n",
              "      <td>0.010837</td>\n",
              "      <td>-0.091712</td>\n",
              "      <td>-0.271808</td>\n",
              "      <td>-0.091828</td>\n",
              "      <td>0.578201</td>\n",
              "    </tr>\n",
              "    <tr>\n",
              "      <th>Social support</th>\n",
              "      <td>-0.644842</td>\n",
              "      <td>0.648799</td>\n",
              "      <td>0.585966</td>\n",
              "      <td>1.000000</td>\n",
              "      <td>0.572650</td>\n",
              "      <td>0.420361</td>\n",
              "      <td>-0.037262</td>\n",
              "      <td>0.126481</td>\n",
              "      <td>0.367431</td>\n",
              "      <td>-0.093306</td>\n",
              "      <td>0.230123</td>\n",
              "      <td>-0.077434</td>\n",
              "      <td>-0.030157</td>\n",
              "      <td>-0.060764</td>\n",
              "      <td>-0.032687</td>\n",
              "      <td>0.411152</td>\n",
              "    </tr>\n",
              "    <tr>\n",
              "      <th>Healthy life expectancy</th>\n",
              "      <td>-0.743655</td>\n",
              "      <td>0.742456</td>\n",
              "      <td>0.784338</td>\n",
              "      <td>0.572650</td>\n",
              "      <td>1.000000</td>\n",
              "      <td>0.340745</td>\n",
              "      <td>0.010638</td>\n",
              "      <td>0.250463</td>\n",
              "      <td>0.130302</td>\n",
              "      <td>0.001132</td>\n",
              "      <td>0.471188</td>\n",
              "      <td>0.007020</td>\n",
              "      <td>-0.121733</td>\n",
              "      <td>-0.259010</td>\n",
              "      <td>-0.213855</td>\n",
              "      <td>0.573618</td>\n",
              "    </tr>\n",
              "    <tr>\n",
              "      <th>Freedom to make life choices</th>\n",
              "      <td>-0.537942</td>\n",
              "      <td>0.551258</td>\n",
              "      <td>0.340511</td>\n",
              "      <td>0.420361</td>\n",
              "      <td>0.340745</td>\n",
              "      <td>1.000000</td>\n",
              "      <td>0.290706</td>\n",
              "      <td>0.459520</td>\n",
              "      <td>0.010353</td>\n",
              "      <td>0.050203</td>\n",
              "      <td>-0.012516</td>\n",
              "      <td>-0.008276</td>\n",
              "      <td>0.032967</td>\n",
              "      <td>-0.083569</td>\n",
              "      <td>0.146276</td>\n",
              "      <td>0.078588</td>\n",
              "    </tr>\n",
              "    <tr>\n",
              "      <th>Generosity</th>\n",
              "      <td>-0.117713</td>\n",
              "      <td>0.137578</td>\n",
              "      <td>-0.014560</td>\n",
              "      <td>-0.037262</td>\n",
              "      <td>0.010638</td>\n",
              "      <td>0.290706</td>\n",
              "      <td>1.000000</td>\n",
              "      <td>0.318945</td>\n",
              "      <td>-0.192587</td>\n",
              "      <td>-0.046139</td>\n",
              "      <td>-0.019313</td>\n",
              "      <td>0.210941</td>\n",
              "      <td>-0.006378</td>\n",
              "      <td>-0.012073</td>\n",
              "      <td>0.220485</td>\n",
              "      <td>-0.037814</td>\n",
              "    </tr>\n",
              "    <tr>\n",
              "      <th>Perceptions of corruption</th>\n",
              "      <td>-0.372162</td>\n",
              "      <td>0.397821</td>\n",
              "      <td>0.304181</td>\n",
              "      <td>0.126481</td>\n",
              "      <td>0.250463</td>\n",
              "      <td>0.459520</td>\n",
              "      <td>0.318945</td>\n",
              "      <td>1.000000</td>\n",
              "      <td>-0.122339</td>\n",
              "      <td>-0.087093</td>\n",
              "      <td>0.114446</td>\n",
              "      <td>0.117732</td>\n",
              "      <td>-0.045179</td>\n",
              "      <td>-0.034386</td>\n",
              "      <td>0.088870</td>\n",
              "      <td>0.194035</td>\n",
              "    </tr>\n",
              "    <tr>\n",
              "      <th>Year</th>\n",
              "      <td>-0.007768</td>\n",
              "      <td>0.007065</td>\n",
              "      <td>0.019768</td>\n",
              "      <td>0.367431</td>\n",
              "      <td>0.130302</td>\n",
              "      <td>0.010353</td>\n",
              "      <td>-0.192587</td>\n",
              "      <td>-0.122339</td>\n",
              "      <td>1.000000</td>\n",
              "      <td>0.000733</td>\n",
              "      <td>-0.001179</td>\n",
              "      <td>0.001570</td>\n",
              "      <td>0.005725</td>\n",
              "      <td>0.010933</td>\n",
              "      <td>0.011106</td>\n",
              "      <td>0.005708</td>\n",
              "    </tr>\n",
              "    <tr>\n",
              "      <th>population</th>\n",
              "      <td>0.053882</td>\n",
              "      <td>-0.048664</td>\n",
              "      <td>-0.018574</td>\n",
              "      <td>-0.093306</td>\n",
              "      <td>0.001132</td>\n",
              "      <td>0.050203</td>\n",
              "      <td>-0.046139</td>\n",
              "      <td>-0.087093</td>\n",
              "      <td>0.000733</td>\n",
              "      <td>1.000000</td>\n",
              "      <td>0.006775</td>\n",
              "      <td>0.162538</td>\n",
              "      <td>0.034232</td>\n",
              "      <td>-0.125195</td>\n",
              "      <td>0.108463</td>\n",
              "      <td>-0.043198</td>\n",
              "    </tr>\n",
              "    <tr>\n",
              "      <th>lat</th>\n",
              "      <td>-0.331933</td>\n",
              "      <td>0.344163</td>\n",
              "      <td>0.428778</td>\n",
              "      <td>0.230123</td>\n",
              "      <td>0.471188</td>\n",
              "      <td>-0.012516</td>\n",
              "      <td>-0.019313</td>\n",
              "      <td>0.114446</td>\n",
              "      <td>-0.001179</td>\n",
              "      <td>0.006775</td>\n",
              "      <td>1.000000</td>\n",
              "      <td>0.078041</td>\n",
              "      <td>-0.020063</td>\n",
              "      <td>0.008750</td>\n",
              "      <td>-0.365713</td>\n",
              "      <td>0.752365</td>\n",
              "    </tr>\n",
              "    <tr>\n",
              "      <th>lng</th>\n",
              "      <td>0.186464</td>\n",
              "      <td>-0.173984</td>\n",
              "      <td>0.010837</td>\n",
              "      <td>-0.077434</td>\n",
              "      <td>0.007020</td>\n",
              "      <td>-0.008276</td>\n",
              "      <td>0.210941</td>\n",
              "      <td>0.117732</td>\n",
              "      <td>0.001570</td>\n",
              "      <td>0.162538</td>\n",
              "      <td>0.078041</td>\n",
              "      <td>1.000000</td>\n",
              "      <td>-0.156596</td>\n",
              "      <td>0.120885</td>\n",
              "      <td>0.058991</td>\n",
              "      <td>0.096924</td>\n",
              "    </tr>\n",
              "    <tr>\n",
              "      <th>independent</th>\n",
              "      <td>0.037043</td>\n",
              "      <td>-0.031328</td>\n",
              "      <td>-0.091712</td>\n",
              "      <td>-0.030157</td>\n",
              "      <td>-0.121733</td>\n",
              "      <td>0.032967</td>\n",
              "      <td>-0.006378</td>\n",
              "      <td>-0.045179</td>\n",
              "      <td>0.005725</td>\n",
              "      <td>0.034232</td>\n",
              "      <td>-0.020063</td>\n",
              "      <td>-0.156596</td>\n",
              "      <td>1.000000</td>\n",
              "      <td>0.084153</td>\n",
              "      <td>-0.053543</td>\n",
              "      <td>0.022269</td>\n",
              "    </tr>\n",
              "    <tr>\n",
              "      <th>landlocked</th>\n",
              "      <td>0.214386</td>\n",
              "      <td>-0.218732</td>\n",
              "      <td>-0.271808</td>\n",
              "      <td>-0.060764</td>\n",
              "      <td>-0.259010</td>\n",
              "      <td>-0.083569</td>\n",
              "      <td>-0.012073</td>\n",
              "      <td>-0.034386</td>\n",
              "      <td>0.010933</td>\n",
              "      <td>-0.125195</td>\n",
              "      <td>0.008750</td>\n",
              "      <td>0.120885</td>\n",
              "      <td>0.084153</td>\n",
              "      <td>1.000000</td>\n",
              "      <td>-0.026945</td>\n",
              "      <td>0.067382</td>\n",
              "    </tr>\n",
              "    <tr>\n",
              "      <th>Speaks English</th>\n",
              "      <td>0.094786</td>\n",
              "      <td>-0.088482</td>\n",
              "      <td>-0.091828</td>\n",
              "      <td>-0.032687</td>\n",
              "      <td>-0.213855</td>\n",
              "      <td>0.146276</td>\n",
              "      <td>0.220485</td>\n",
              "      <td>0.088870</td>\n",
              "      <td>0.011106</td>\n",
              "      <td>0.108463</td>\n",
              "      <td>-0.365713</td>\n",
              "      <td>0.058991</td>\n",
              "      <td>-0.053543</td>\n",
              "      <td>-0.026945</td>\n",
              "      <td>1.000000</td>\n",
              "      <td>-0.260889</td>\n",
              "    </tr>\n",
              "    <tr>\n",
              "      <th>Dist from Equator</th>\n",
              "      <td>-0.484403</td>\n",
              "      <td>0.500633</td>\n",
              "      <td>0.578201</td>\n",
              "      <td>0.411152</td>\n",
              "      <td>0.573618</td>\n",
              "      <td>0.078588</td>\n",
              "      <td>-0.037814</td>\n",
              "      <td>0.194035</td>\n",
              "      <td>0.005708</td>\n",
              "      <td>-0.043198</td>\n",
              "      <td>0.752365</td>\n",
              "      <td>0.096924</td>\n",
              "      <td>0.022269</td>\n",
              "      <td>0.067382</td>\n",
              "      <td>-0.260889</td>\n",
              "      <td>1.000000</td>\n",
              "    </tr>\n",
              "  </tbody>\n",
              "</table>\n",
              "</div>\n",
              "      <button class=\"colab-df-convert\" onclick=\"convertToInteractive('df-d2a4f970-9b6b-41a2-aa8e-86bbc379c86d')\"\n",
              "              title=\"Convert this dataframe to an interactive table.\"\n",
              "              style=\"display:none;\">\n",
              "        \n",
              "  <svg xmlns=\"http://www.w3.org/2000/svg\" height=\"24px\"viewBox=\"0 0 24 24\"\n",
              "       width=\"24px\">\n",
              "    <path d=\"M0 0h24v24H0V0z\" fill=\"none\"/>\n",
              "    <path d=\"M18.56 5.44l.94 2.06.94-2.06 2.06-.94-2.06-.94-.94-2.06-.94 2.06-2.06.94zm-11 1L8.5 8.5l.94-2.06 2.06-.94-2.06-.94L8.5 2.5l-.94 2.06-2.06.94zm10 10l.94 2.06.94-2.06 2.06-.94-2.06-.94-.94-2.06-.94 2.06-2.06.94z\"/><path d=\"M17.41 7.96l-1.37-1.37c-.4-.4-.92-.59-1.43-.59-.52 0-1.04.2-1.43.59L10.3 9.45l-7.72 7.72c-.78.78-.78 2.05 0 2.83L4 21.41c.39.39.9.59 1.41.59.51 0 1.02-.2 1.41-.59l7.78-7.78 2.81-2.81c.8-.78.8-2.07 0-2.86zM5.41 20L4 18.59l7.72-7.72 1.47 1.35L5.41 20z\"/>\n",
              "  </svg>\n",
              "      </button>\n",
              "      \n",
              "  <style>\n",
              "    .colab-df-container {\n",
              "      display:flex;\n",
              "      flex-wrap:wrap;\n",
              "      gap: 12px;\n",
              "    }\n",
              "\n",
              "    .colab-df-convert {\n",
              "      background-color: #E8F0FE;\n",
              "      border: none;\n",
              "      border-radius: 50%;\n",
              "      cursor: pointer;\n",
              "      display: none;\n",
              "      fill: #1967D2;\n",
              "      height: 32px;\n",
              "      padding: 0 0 0 0;\n",
              "      width: 32px;\n",
              "    }\n",
              "\n",
              "    .colab-df-convert:hover {\n",
              "      background-color: #E2EBFA;\n",
              "      box-shadow: 0px 1px 2px rgba(60, 64, 67, 0.3), 0px 1px 3px 1px rgba(60, 64, 67, 0.15);\n",
              "      fill: #174EA6;\n",
              "    }\n",
              "\n",
              "    [theme=dark] .colab-df-convert {\n",
              "      background-color: #3B4455;\n",
              "      fill: #D2E3FC;\n",
              "    }\n",
              "\n",
              "    [theme=dark] .colab-df-convert:hover {\n",
              "      background-color: #434B5C;\n",
              "      box-shadow: 0px 1px 3px 1px rgba(0, 0, 0, 0.15);\n",
              "      filter: drop-shadow(0px 1px 2px rgba(0, 0, 0, 0.3));\n",
              "      fill: #FFFFFF;\n",
              "    }\n",
              "  </style>\n",
              "\n",
              "      <script>\n",
              "        const buttonEl =\n",
              "          document.querySelector('#df-d2a4f970-9b6b-41a2-aa8e-86bbc379c86d button.colab-df-convert');\n",
              "        buttonEl.style.display =\n",
              "          google.colab.kernel.accessAllowed ? 'block' : 'none';\n",
              "\n",
              "        async function convertToInteractive(key) {\n",
              "          const element = document.querySelector('#df-d2a4f970-9b6b-41a2-aa8e-86bbc379c86d');\n",
              "          const dataTable =\n",
              "            await google.colab.kernel.invokeFunction('convertToInteractive',\n",
              "                                                     [key], {});\n",
              "          if (!dataTable) return;\n",
              "\n",
              "          const docLinkHtml = 'Like what you see? Visit the ' +\n",
              "            '<a target=\"_blank\" href=https://colab.research.google.com/notebooks/data_table.ipynb>data table notebook</a>'\n",
              "            + ' to learn more about interactive tables.';\n",
              "          element.innerHTML = '';\n",
              "          dataTable['output_type'] = 'display_data';\n",
              "          await google.colab.output.renderOutput(dataTable, element);\n",
              "          const docLink = document.createElement('div');\n",
              "          docLink.innerHTML = docLinkHtml;\n",
              "          element.appendChild(docLink);\n",
              "        }\n",
              "      </script>\n",
              "    </div>\n",
              "  </div>\n",
              "  "
            ]
          },
          "metadata": {},
          "execution_count": 198
        }
      ]
    },
    {
      "cell_type": "code",
      "source": [
        "# How about independence... about 1% of countries are not independent.\n",
        "# This is not a big enough sample size to see if it makes a difference in a\n",
        "# countries happiness score.\n",
        "df.groupby(\"Year\")[\"independent\"].value_counts()"
      ],
      "metadata": {
        "colab": {
          "base_uri": "https://localhost:8080/"
        },
        "id": "5J9UH6bWoD-J",
        "outputId": "caa36135-5499-4069-8581-821b78c8fa13"
      },
      "execution_count": null,
      "outputs": [
        {
          "output_type": "execute_result",
          "data": {
            "text/plain": [
              "Year  independent\n",
              "2015  True           155\n",
              "      False            3\n",
              "2016  True           153\n",
              "      False            4\n",
              "2017  True           152\n",
              "      False            3\n",
              "2018  True           153\n",
              "      False            3\n",
              "2019  True           153\n",
              "      False            3\n",
              "Name: independent, dtype: int64"
            ]
          },
          "metadata": {},
          "execution_count": 199
        }
      ]
    },
    {
      "cell_type": "code",
      "source": [
        "# not super useful but it's sick\n",
        "fig16 = px.scatter_3d(df, x=\"Perceptions of corruption\", y=\"Score\", z=\"Healthy life expectancy\",\n",
        "                    animation_frame=\"Year\", animation_group=\"Country\",\n",
        "           size=\"Overall rank\", color=\"Region\", hover_name=\"Country\",)\n",
        "\n",
        "# build jupyter dash app \n",
        "app = JupyterDash(__name__)\n",
        "# add html components and figure to app\n",
        "app.layout = html.Div([dcc.Graph(figure=fig16)])\n",
        "# run app inline\n",
        "app.run_server(mode='inline') "
      ],
      "metadata": {
        "colab": {
          "base_uri": "https://localhost:8080/",
          "height": 671
        },
        "id": "oGpjTuZGUORO",
        "outputId": "61403b5b-5ade-4ecc-d29d-08b4d5ac7130"
      },
      "execution_count": null,
      "outputs": [
        {
          "output_type": "display_data",
          "data": {
            "text/plain": [
              "<IPython.core.display.Javascript object>"
            ],
            "application/javascript": [
              "(async (port, path, width, height, cache, element) => {\n",
              "    if (!google.colab.kernel.accessAllowed && !cache) {\n",
              "      return;\n",
              "    }\n",
              "    element.appendChild(document.createTextNode(''));\n",
              "    const url = await google.colab.kernel.proxyPort(port, {cache});\n",
              "    const iframe = document.createElement('iframe');\n",
              "    iframe.src = new URL(path, url).toString();\n",
              "    iframe.height = height;\n",
              "    iframe.width = width;\n",
              "    iframe.style.border = 0;\n",
              "    element.appendChild(iframe);\n",
              "  })(8050, \"/\", \"100%\", 650, false, window.element)"
            ]
          },
          "metadata": {}
        }
      ]
    }
  ]
}